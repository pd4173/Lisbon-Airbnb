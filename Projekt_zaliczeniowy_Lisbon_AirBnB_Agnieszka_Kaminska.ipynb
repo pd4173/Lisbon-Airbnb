{
  "cells": [
    {
      "cell_type": "markdown",
      "source": [
        "# Lisbon - project for exam, PRBD, data investigator - Agnieszka Kamińska"
      ],
      "metadata": {
        "id": "PL6ghrMSfwqB"
      }
    },
    {
      "cell_type": "markdown",
      "source": [
        "## Installing and loading packages"
      ],
      "metadata": {
        "id": "V1cC29YGMLTj"
      }
    },
    {
      "cell_type": "code",
      "source": [
        "!pip install shap -qq"
      ],
      "metadata": {
        "id": "4GTap508bSRB",
        "colab": {
          "base_uri": "https://localhost:8080/"
        },
        "outputId": "9e882900-b6b7-43ac-c870-61f2e015746f"
      },
      "execution_count": null,
      "outputs": [
        {
          "output_type": "stream",
          "name": "stdout",
          "text": [
            "\u001b[?25l     \u001b[90m━━━━━━━━━━━━━━━━━━━━━━━━━━━━━━━━━━━━━━━━\u001b[0m \u001b[32m0.0/533.5 kB\u001b[0m \u001b[31m?\u001b[0m eta \u001b[36m-:--:--\u001b[0m\r\u001b[2K     \u001b[91m━━━━━━━━━━━━━\u001b[0m\u001b[90m╺\u001b[0m\u001b[90m━━━━━━━━━━━━━━━━━━━━━━━━━━\u001b[0m \u001b[32m174.1/533.5 kB\u001b[0m \u001b[31m5.2 MB/s\u001b[0m eta \u001b[36m0:00:01\u001b[0m\r\u001b[2K     \u001b[91m━━━━━━━━━━━━━━━━━━━━━━━━━━━━━━━━━━━━━━━\u001b[0m\u001b[91m╸\u001b[0m \u001b[32m532.5/533.5 kB\u001b[0m \u001b[31m8.4 MB/s\u001b[0m eta \u001b[36m0:00:01\u001b[0m\r\u001b[2K     \u001b[90m━━━━━━━━━━━━━━━━━━━━━━━━━━━━━━━━━━━━━━━━\u001b[0m \u001b[32m533.5/533.5 kB\u001b[0m \u001b[31m7.0 MB/s\u001b[0m eta \u001b[36m0:00:00\u001b[0m\n",
            "\u001b[?25h"
          ]
        }
      ]
    },
    {
      "cell_type": "code",
      "execution_count": null,
      "metadata": {
        "id": "s83LGBE3bImt"
      },
      "outputs": [],
      "source": [
        "import pandas as pd\n",
        "import numpy as np\n",
        "import statsmodels.formula.api as smf\n",
        "import seaborn as sns\n",
        "from sklearn.impute import SimpleImputer\n",
        "from scipy.stats import skew\n",
        "import matplotlib.pyplot as plt\n",
        "from scipy.stats import chi2_contingency"
      ]
    },
    {
      "cell_type": "markdown",
      "source": [
        "## Getting data\n",
        "\n",
        "Data for downloading is available here: http://insideairbnb.com/get-the-data\n",
        "\n",
        "In this notebook I will focus on **Listings data** for **Lisbon**.\n",
        "\n",
        "**Listings data** is a dataset, that includes information about properties listed on Airbnb. This dataset includes details about :\n",
        "* location,\n",
        "* price,\n",
        "* availability,\n",
        "* amenities of each property\n",
        "  and a few more."
      ],
      "metadata": {
        "id": "ZcuO3i8Ef5ja"
      }
    },
    {
      "cell_type": "markdown",
      "source": [
        "# 1.Loading data\n",
        "  After downloading and extracting, file 'listening.csv' for Lisbon was placed on google drive in the following link:\n"
      ],
      "metadata": {
        "id": "h-lhATGyeUHk"
      }
    },
    {
      "cell_type": "code",
      "execution_count": null,
      "metadata": {
        "id": "cFJ6OJg9bIm0"
      },
      "outputs": [],
      "source": [
        "data = pd.read_csv('https://drive.google.com/uc?id=14F9s5Gg0zF-JXYaieEB6Skj6LAbUTjyr')"
      ]
    },
    {
      "cell_type": "code",
      "source": [
        "data"
      ],
      "metadata": {
        "colab": {
          "base_uri": "https://localhost:8080/",
          "height": 1000
        },
        "id": "8Z2Ll14EMn0e",
        "outputId": "4f730d94-a94f-4081-8a2f-417277197e2d"
      },
      "execution_count": null,
      "outputs": [
        {
          "output_type": "execute_result",
          "data": {
            "text/plain": [
              "                       id                                      listing_url  \\\n",
              "0                45558745            https://www.airbnb.com/rooms/45558745   \n",
              "1                33179882            https://www.airbnb.com/rooms/33179882   \n",
              "2      836176843011037443  https://www.airbnb.com/rooms/836176843011037443   \n",
              "3                 1199811             https://www.airbnb.com/rooms/1199811   \n",
              "4                26093410            https://www.airbnb.com/rooms/26093410   \n",
              "...                   ...                                              ...   \n",
              "20092            44304902            https://www.airbnb.com/rooms/44304902   \n",
              "20093            23587725            https://www.airbnb.com/rooms/23587725   \n",
              "20094            19755044            https://www.airbnb.com/rooms/19755044   \n",
              "20095            46078981            https://www.airbnb.com/rooms/46078981   \n",
              "20096            44428926            https://www.airbnb.com/rooms/44428926   \n",
              "\n",
              "            scrape_id last_scraped       source  \\\n",
              "0      20230319041058   2023-03-19  city scrape   \n",
              "1      20230319041058   2023-03-19  city scrape   \n",
              "2      20230319041058   2023-03-19  city scrape   \n",
              "3      20230319041058   2023-03-19  city scrape   \n",
              "4      20230319041058   2023-03-19  city scrape   \n",
              "...               ...          ...          ...   \n",
              "20092  20230319041058   2023-03-24  city scrape   \n",
              "20093  20230319041058   2023-03-24  city scrape   \n",
              "20094  20230319041058   2023-03-24  city scrape   \n",
              "20095  20230319041058   2023-03-24  city scrape   \n",
              "20096  20230319041058   2023-03-24  city scrape   \n",
              "\n",
              "                                                    name  \\\n",
              "0                         FLH  Baixa-Chiado Library Loft   \n",
              "1                                        Palm Guesthouse   \n",
              "2      Lisbon, renewed T1 apartment with pateo near M...   \n",
              "3                    Best Deal Lisboa Alfama Fado apart.   \n",
              "4      Santa Liberdade Flat - Liberdade Avenue at Lisbon   \n",
              "...                                                  ...   \n",
              "20092                                     Avenida Olaias   \n",
              "20093                  TERRACE WITH RIVER VIEW *1BD APT*   \n",
              "20094    Flea Market ALFAMA house (PATIO/POOL/AC/GARAGE)   \n",
              "20095       GuestReady - Bright and Modern Apt in Lisbon   \n",
              "20096                                     Parrot´s House   \n",
              "\n",
              "                                             description  \\\n",
              "0      The apartment in Lisbon has 1 bedrooms and has...   \n",
              "1      A minha propriedade tem uma decoração simples ...   \n",
              "2      Located in the historic area of Lisbon, next t...   \n",
              "3      <b>The space</b><br />Very nice apartment in t...   \n",
              "4      2  steps away from Avenida da Liberdade!  <br ...   \n",
              "...                                                  ...   \n",
              "20092  3 min from metro Station Olaias, very close to...   \n",
              "20093  Romantic 1 bedroom apartment, well decorated a...   \n",
              "20094  The House by Alfama's Flea Market is a duplex ...   \n",
              "20095  Close to Intendente station, this charming fla...   \n",
              "20096  Maravilhoso apartamento no centro da Vila, o e...   \n",
              "\n",
              "                                   neighborhood_overview  \\\n",
              "0                                                    NaN   \n",
              "1                                       Centro da cidade   \n",
              "2                                                    NaN   \n",
              "3                                                    NaN   \n",
              "4                                                    NaN   \n",
              "...                                                  ...   \n",
              "20092                                                NaN   \n",
              "20093  Close to Alfama and Mouraria neighborhoods, yo...   \n",
              "20094  The property is located very close to the Alfa...   \n",
              "20095  A neighborhood of contrasts, Arroios stands ou...   \n",
              "20096  Zona calma e segura. Localizado no centro da v...   \n",
              "\n",
              "                                             picture_url    host_id  ...  \\\n",
              "0      https://a0.muscache.com/pictures/miso/Hosting-...    3953109  ...   \n",
              "1      https://a0.muscache.com/pictures/478eb0c9-ca8e...  152854735  ...   \n",
              "2      https://a0.muscache.com/pictures/prohost-api/H...  185689002  ...   \n",
              "3      https://a0.muscache.com/pictures/21575877/9a88...    6552656  ...   \n",
              "4      https://a0.muscache.com/pictures/0e16f6c5-3d1a...  348308512  ...   \n",
              "...                                                  ...        ...  ...   \n",
              "20092  https://a0.muscache.com/pictures/b6d93e14-800b...  285679616  ...   \n",
              "20093  https://a0.muscache.com/pictures/8dc8e828-76c6...  176228709  ...   \n",
              "20094  https://a0.muscache.com/pictures/b602e083-24bc...  105282390  ...   \n",
              "20095  https://a0.muscache.com/pictures/prohost-api/H...  402191311  ...   \n",
              "20096  https://a0.muscache.com/pictures/miso/Hosting-...   31572637  ...   \n",
              "\n",
              "      review_scores_communication review_scores_location review_scores_value  \\\n",
              "0                            4.89                   4.96                4.68   \n",
              "1                             NaN                    NaN                 NaN   \n",
              "2                             NaN                    NaN                 NaN   \n",
              "3                            4.84                   4.85                4.68   \n",
              "4                            5.00                   5.00                5.00   \n",
              "...                           ...                    ...                 ...   \n",
              "20092                        5.00                   4.75                4.75   \n",
              "20093                        4.91                   4.61                4.71   \n",
              "20094                        4.86                   4.46                4.50   \n",
              "20095                        2.00                   4.00                4.00   \n",
              "20096                        4.69                   5.00                4.75   \n",
              "\n",
              "         license instant_bookable calculated_host_listings_count  \\\n",
              "0       35073/AL                t                            306   \n",
              "1       18808/AL                t                              5   \n",
              "2       50802/AL                f                             20   \n",
              "3       46120/AL                t                              1   \n",
              "4       64304/AL                t                              4   \n",
              "...          ...              ...                            ...   \n",
              "20092  110655/AL                t                              2   \n",
              "20093   65316/AL                t                              1   \n",
              "20094   45975/AL                f                              2   \n",
              "20095     Exempt                t                             97   \n",
              "20096   85494/AL                t                             16   \n",
              "\n",
              "      calculated_host_listings_count_entire_homes  \\\n",
              "0                                             300   \n",
              "1                                               0   \n",
              "2                                              15   \n",
              "3                                               1   \n",
              "4                                               4   \n",
              "...                                           ...   \n",
              "20092                                           2   \n",
              "20093                                           1   \n",
              "20094                                           2   \n",
              "20095                                          89   \n",
              "20096                                          16   \n",
              "\n",
              "      calculated_host_listings_count_private_rooms  \\\n",
              "0                                                6   \n",
              "1                                                5   \n",
              "2                                                5   \n",
              "3                                                0   \n",
              "4                                                0   \n",
              "...                                            ...   \n",
              "20092                                            0   \n",
              "20093                                            0   \n",
              "20094                                            0   \n",
              "20095                                            8   \n",
              "20096                                            0   \n",
              "\n",
              "      calculated_host_listings_count_shared_rooms reviews_per_month  \n",
              "0                                               0              1.32  \n",
              "1                                               0               NaN  \n",
              "2                                               0               NaN  \n",
              "3                                               0              2.31  \n",
              "4                                               0              0.02  \n",
              "...                                           ...               ...  \n",
              "20092                                           0              0.85  \n",
              "20093                                           0              1.70  \n",
              "20094                                           0              4.26  \n",
              "20095                                           0              0.05  \n",
              "20096                                           0              1.80  \n",
              "\n",
              "[20097 rows x 75 columns]"
            ],
            "text/html": [
              "\n",
              "  <div id=\"df-4f686938-62af-4b65-b4ff-0688df8c6306\" class=\"colab-df-container\">\n",
              "    <div>\n",
              "<style scoped>\n",
              "    .dataframe tbody tr th:only-of-type {\n",
              "        vertical-align: middle;\n",
              "    }\n",
              "\n",
              "    .dataframe tbody tr th {\n",
              "        vertical-align: top;\n",
              "    }\n",
              "\n",
              "    .dataframe thead th {\n",
              "        text-align: right;\n",
              "    }\n",
              "</style>\n",
              "<table border=\"1\" class=\"dataframe\">\n",
              "  <thead>\n",
              "    <tr style=\"text-align: right;\">\n",
              "      <th></th>\n",
              "      <th>id</th>\n",
              "      <th>listing_url</th>\n",
              "      <th>scrape_id</th>\n",
              "      <th>last_scraped</th>\n",
              "      <th>source</th>\n",
              "      <th>name</th>\n",
              "      <th>description</th>\n",
              "      <th>neighborhood_overview</th>\n",
              "      <th>picture_url</th>\n",
              "      <th>host_id</th>\n",
              "      <th>...</th>\n",
              "      <th>review_scores_communication</th>\n",
              "      <th>review_scores_location</th>\n",
              "      <th>review_scores_value</th>\n",
              "      <th>license</th>\n",
              "      <th>instant_bookable</th>\n",
              "      <th>calculated_host_listings_count</th>\n",
              "      <th>calculated_host_listings_count_entire_homes</th>\n",
              "      <th>calculated_host_listings_count_private_rooms</th>\n",
              "      <th>calculated_host_listings_count_shared_rooms</th>\n",
              "      <th>reviews_per_month</th>\n",
              "    </tr>\n",
              "  </thead>\n",
              "  <tbody>\n",
              "    <tr>\n",
              "      <th>0</th>\n",
              "      <td>45558745</td>\n",
              "      <td>https://www.airbnb.com/rooms/45558745</td>\n",
              "      <td>20230319041058</td>\n",
              "      <td>2023-03-19</td>\n",
              "      <td>city scrape</td>\n",
              "      <td>FLH  Baixa-Chiado Library Loft</td>\n",
              "      <td>The apartment in Lisbon has 1 bedrooms and has...</td>\n",
              "      <td>NaN</td>\n",
              "      <td>https://a0.muscache.com/pictures/miso/Hosting-...</td>\n",
              "      <td>3953109</td>\n",
              "      <td>...</td>\n",
              "      <td>4.89</td>\n",
              "      <td>4.96</td>\n",
              "      <td>4.68</td>\n",
              "      <td>35073/AL</td>\n",
              "      <td>t</td>\n",
              "      <td>306</td>\n",
              "      <td>300</td>\n",
              "      <td>6</td>\n",
              "      <td>0</td>\n",
              "      <td>1.32</td>\n",
              "    </tr>\n",
              "    <tr>\n",
              "      <th>1</th>\n",
              "      <td>33179882</td>\n",
              "      <td>https://www.airbnb.com/rooms/33179882</td>\n",
              "      <td>20230319041058</td>\n",
              "      <td>2023-03-19</td>\n",
              "      <td>city scrape</td>\n",
              "      <td>Palm Guesthouse</td>\n",
              "      <td>A minha propriedade tem uma decoração simples ...</td>\n",
              "      <td>Centro da cidade</td>\n",
              "      <td>https://a0.muscache.com/pictures/478eb0c9-ca8e...</td>\n",
              "      <td>152854735</td>\n",
              "      <td>...</td>\n",
              "      <td>NaN</td>\n",
              "      <td>NaN</td>\n",
              "      <td>NaN</td>\n",
              "      <td>18808/AL</td>\n",
              "      <td>t</td>\n",
              "      <td>5</td>\n",
              "      <td>0</td>\n",
              "      <td>5</td>\n",
              "      <td>0</td>\n",
              "      <td>NaN</td>\n",
              "    </tr>\n",
              "    <tr>\n",
              "      <th>2</th>\n",
              "      <td>836176843011037443</td>\n",
              "      <td>https://www.airbnb.com/rooms/836176843011037443</td>\n",
              "      <td>20230319041058</td>\n",
              "      <td>2023-03-19</td>\n",
              "      <td>city scrape</td>\n",
              "      <td>Lisbon, renewed T1 apartment with pateo near M...</td>\n",
              "      <td>Located in the historic area of Lisbon, next t...</td>\n",
              "      <td>NaN</td>\n",
              "      <td>https://a0.muscache.com/pictures/prohost-api/H...</td>\n",
              "      <td>185689002</td>\n",
              "      <td>...</td>\n",
              "      <td>NaN</td>\n",
              "      <td>NaN</td>\n",
              "      <td>NaN</td>\n",
              "      <td>50802/AL</td>\n",
              "      <td>f</td>\n",
              "      <td>20</td>\n",
              "      <td>15</td>\n",
              "      <td>5</td>\n",
              "      <td>0</td>\n",
              "      <td>NaN</td>\n",
              "    </tr>\n",
              "    <tr>\n",
              "      <th>3</th>\n",
              "      <td>1199811</td>\n",
              "      <td>https://www.airbnb.com/rooms/1199811</td>\n",
              "      <td>20230319041058</td>\n",
              "      <td>2023-03-19</td>\n",
              "      <td>city scrape</td>\n",
              "      <td>Best Deal Lisboa Alfama Fado apart.</td>\n",
              "      <td>&lt;b&gt;The space&lt;/b&gt;&lt;br /&gt;Very nice apartment in t...</td>\n",
              "      <td>NaN</td>\n",
              "      <td>https://a0.muscache.com/pictures/21575877/9a88...</td>\n",
              "      <td>6552656</td>\n",
              "      <td>...</td>\n",
              "      <td>4.84</td>\n",
              "      <td>4.85</td>\n",
              "      <td>4.68</td>\n",
              "      <td>46120/AL</td>\n",
              "      <td>t</td>\n",
              "      <td>1</td>\n",
              "      <td>1</td>\n",
              "      <td>0</td>\n",
              "      <td>0</td>\n",
              "      <td>2.31</td>\n",
              "    </tr>\n",
              "    <tr>\n",
              "      <th>4</th>\n",
              "      <td>26093410</td>\n",
              "      <td>https://www.airbnb.com/rooms/26093410</td>\n",
              "      <td>20230319041058</td>\n",
              "      <td>2023-03-19</td>\n",
              "      <td>city scrape</td>\n",
              "      <td>Santa Liberdade Flat - Liberdade Avenue at Lisbon</td>\n",
              "      <td>2  steps away from Avenida da Liberdade!  &lt;br ...</td>\n",
              "      <td>NaN</td>\n",
              "      <td>https://a0.muscache.com/pictures/0e16f6c5-3d1a...</td>\n",
              "      <td>348308512</td>\n",
              "      <td>...</td>\n",
              "      <td>5.00</td>\n",
              "      <td>5.00</td>\n",
              "      <td>5.00</td>\n",
              "      <td>64304/AL</td>\n",
              "      <td>t</td>\n",
              "      <td>4</td>\n",
              "      <td>4</td>\n",
              "      <td>0</td>\n",
              "      <td>0</td>\n",
              "      <td>0.02</td>\n",
              "    </tr>\n",
              "    <tr>\n",
              "      <th>...</th>\n",
              "      <td>...</td>\n",
              "      <td>...</td>\n",
              "      <td>...</td>\n",
              "      <td>...</td>\n",
              "      <td>...</td>\n",
              "      <td>...</td>\n",
              "      <td>...</td>\n",
              "      <td>...</td>\n",
              "      <td>...</td>\n",
              "      <td>...</td>\n",
              "      <td>...</td>\n",
              "      <td>...</td>\n",
              "      <td>...</td>\n",
              "      <td>...</td>\n",
              "      <td>...</td>\n",
              "      <td>...</td>\n",
              "      <td>...</td>\n",
              "      <td>...</td>\n",
              "      <td>...</td>\n",
              "      <td>...</td>\n",
              "      <td>...</td>\n",
              "    </tr>\n",
              "    <tr>\n",
              "      <th>20092</th>\n",
              "      <td>44304902</td>\n",
              "      <td>https://www.airbnb.com/rooms/44304902</td>\n",
              "      <td>20230319041058</td>\n",
              "      <td>2023-03-24</td>\n",
              "      <td>city scrape</td>\n",
              "      <td>Avenida Olaias</td>\n",
              "      <td>3 min from metro Station Olaias, very close to...</td>\n",
              "      <td>NaN</td>\n",
              "      <td>https://a0.muscache.com/pictures/b6d93e14-800b...</td>\n",
              "      <td>285679616</td>\n",
              "      <td>...</td>\n",
              "      <td>5.00</td>\n",
              "      <td>4.75</td>\n",
              "      <td>4.75</td>\n",
              "      <td>110655/AL</td>\n",
              "      <td>t</td>\n",
              "      <td>2</td>\n",
              "      <td>2</td>\n",
              "      <td>0</td>\n",
              "      <td>0</td>\n",
              "      <td>0.85</td>\n",
              "    </tr>\n",
              "    <tr>\n",
              "      <th>20093</th>\n",
              "      <td>23587725</td>\n",
              "      <td>https://www.airbnb.com/rooms/23587725</td>\n",
              "      <td>20230319041058</td>\n",
              "      <td>2023-03-24</td>\n",
              "      <td>city scrape</td>\n",
              "      <td>TERRACE WITH RIVER VIEW *1BD APT*</td>\n",
              "      <td>Romantic 1 bedroom apartment, well decorated a...</td>\n",
              "      <td>Close to Alfama and Mouraria neighborhoods, yo...</td>\n",
              "      <td>https://a0.muscache.com/pictures/8dc8e828-76c6...</td>\n",
              "      <td>176228709</td>\n",
              "      <td>...</td>\n",
              "      <td>4.91</td>\n",
              "      <td>4.61</td>\n",
              "      <td>4.71</td>\n",
              "      <td>65316/AL</td>\n",
              "      <td>t</td>\n",
              "      <td>1</td>\n",
              "      <td>1</td>\n",
              "      <td>0</td>\n",
              "      <td>0</td>\n",
              "      <td>1.70</td>\n",
              "    </tr>\n",
              "    <tr>\n",
              "      <th>20094</th>\n",
              "      <td>19755044</td>\n",
              "      <td>https://www.airbnb.com/rooms/19755044</td>\n",
              "      <td>20230319041058</td>\n",
              "      <td>2023-03-24</td>\n",
              "      <td>city scrape</td>\n",
              "      <td>Flea Market ALFAMA house (PATIO/POOL/AC/GARAGE)</td>\n",
              "      <td>The House by Alfama's Flea Market is a duplex ...</td>\n",
              "      <td>The property is located very close to the Alfa...</td>\n",
              "      <td>https://a0.muscache.com/pictures/b602e083-24bc...</td>\n",
              "      <td>105282390</td>\n",
              "      <td>...</td>\n",
              "      <td>4.86</td>\n",
              "      <td>4.46</td>\n",
              "      <td>4.50</td>\n",
              "      <td>45975/AL</td>\n",
              "      <td>f</td>\n",
              "      <td>2</td>\n",
              "      <td>2</td>\n",
              "      <td>0</td>\n",
              "      <td>0</td>\n",
              "      <td>4.26</td>\n",
              "    </tr>\n",
              "    <tr>\n",
              "      <th>20095</th>\n",
              "      <td>46078981</td>\n",
              "      <td>https://www.airbnb.com/rooms/46078981</td>\n",
              "      <td>20230319041058</td>\n",
              "      <td>2023-03-24</td>\n",
              "      <td>city scrape</td>\n",
              "      <td>GuestReady - Bright and Modern Apt in Lisbon</td>\n",
              "      <td>Close to Intendente station, this charming fla...</td>\n",
              "      <td>A neighborhood of contrasts, Arroios stands ou...</td>\n",
              "      <td>https://a0.muscache.com/pictures/prohost-api/H...</td>\n",
              "      <td>402191311</td>\n",
              "      <td>...</td>\n",
              "      <td>2.00</td>\n",
              "      <td>4.00</td>\n",
              "      <td>4.00</td>\n",
              "      <td>Exempt</td>\n",
              "      <td>t</td>\n",
              "      <td>97</td>\n",
              "      <td>89</td>\n",
              "      <td>8</td>\n",
              "      <td>0</td>\n",
              "      <td>0.05</td>\n",
              "    </tr>\n",
              "    <tr>\n",
              "      <th>20096</th>\n",
              "      <td>44428926</td>\n",
              "      <td>https://www.airbnb.com/rooms/44428926</td>\n",
              "      <td>20230319041058</td>\n",
              "      <td>2023-03-24</td>\n",
              "      <td>city scrape</td>\n",
              "      <td>Parrot´s House</td>\n",
              "      <td>Maravilhoso apartamento no centro da Vila, o e...</td>\n",
              "      <td>Zona calma e segura. Localizado no centro da v...</td>\n",
              "      <td>https://a0.muscache.com/pictures/miso/Hosting-...</td>\n",
              "      <td>31572637</td>\n",
              "      <td>...</td>\n",
              "      <td>4.69</td>\n",
              "      <td>5.00</td>\n",
              "      <td>4.75</td>\n",
              "      <td>85494/AL</td>\n",
              "      <td>t</td>\n",
              "      <td>16</td>\n",
              "      <td>16</td>\n",
              "      <td>0</td>\n",
              "      <td>0</td>\n",
              "      <td>1.80</td>\n",
              "    </tr>\n",
              "  </tbody>\n",
              "</table>\n",
              "<p>20097 rows × 75 columns</p>\n",
              "</div>\n",
              "    <div class=\"colab-df-buttons\">\n",
              "\n",
              "  <div class=\"colab-df-container\">\n",
              "    <button class=\"colab-df-convert\" onclick=\"convertToInteractive('df-4f686938-62af-4b65-b4ff-0688df8c6306')\"\n",
              "            title=\"Convert this dataframe to an interactive table.\"\n",
              "            style=\"display:none;\">\n",
              "\n",
              "  <svg xmlns=\"http://www.w3.org/2000/svg\" height=\"24px\" viewBox=\"0 -960 960 960\">\n",
              "    <path d=\"M120-120v-720h720v720H120Zm60-500h600v-160H180v160Zm220 220h160v-160H400v160Zm0 220h160v-160H400v160ZM180-400h160v-160H180v160Zm440 0h160v-160H620v160ZM180-180h160v-160H180v160Zm440 0h160v-160H620v160Z\"/>\n",
              "  </svg>\n",
              "    </button>\n",
              "\n",
              "  <style>\n",
              "    .colab-df-container {\n",
              "      display:flex;\n",
              "      gap: 12px;\n",
              "    }\n",
              "\n",
              "    .colab-df-convert {\n",
              "      background-color: #E8F0FE;\n",
              "      border: none;\n",
              "      border-radius: 50%;\n",
              "      cursor: pointer;\n",
              "      display: none;\n",
              "      fill: #1967D2;\n",
              "      height: 32px;\n",
              "      padding: 0 0 0 0;\n",
              "      width: 32px;\n",
              "    }\n",
              "\n",
              "    .colab-df-convert:hover {\n",
              "      background-color: #E2EBFA;\n",
              "      box-shadow: 0px 1px 2px rgba(60, 64, 67, 0.3), 0px 1px 3px 1px rgba(60, 64, 67, 0.15);\n",
              "      fill: #174EA6;\n",
              "    }\n",
              "\n",
              "    .colab-df-buttons div {\n",
              "      margin-bottom: 4px;\n",
              "    }\n",
              "\n",
              "    [theme=dark] .colab-df-convert {\n",
              "      background-color: #3B4455;\n",
              "      fill: #D2E3FC;\n",
              "    }\n",
              "\n",
              "    [theme=dark] .colab-df-convert:hover {\n",
              "      background-color: #434B5C;\n",
              "      box-shadow: 0px 1px 3px 1px rgba(0, 0, 0, 0.15);\n",
              "      filter: drop-shadow(0px 1px 2px rgba(0, 0, 0, 0.3));\n",
              "      fill: #FFFFFF;\n",
              "    }\n",
              "  </style>\n",
              "\n",
              "    <script>\n",
              "      const buttonEl =\n",
              "        document.querySelector('#df-4f686938-62af-4b65-b4ff-0688df8c6306 button.colab-df-convert');\n",
              "      buttonEl.style.display =\n",
              "        google.colab.kernel.accessAllowed ? 'block' : 'none';\n",
              "\n",
              "      async function convertToInteractive(key) {\n",
              "        const element = document.querySelector('#df-4f686938-62af-4b65-b4ff-0688df8c6306');\n",
              "        const dataTable =\n",
              "          await google.colab.kernel.invokeFunction('convertToInteractive',\n",
              "                                                    [key], {});\n",
              "        if (!dataTable) return;\n",
              "\n",
              "        const docLinkHtml = 'Like what you see? Visit the ' +\n",
              "          '<a target=\"_blank\" href=https://colab.research.google.com/notebooks/data_table.ipynb>data table notebook</a>'\n",
              "          + ' to learn more about interactive tables.';\n",
              "        element.innerHTML = '';\n",
              "        dataTable['output_type'] = 'display_data';\n",
              "        await google.colab.output.renderOutput(dataTable, element);\n",
              "        const docLink = document.createElement('div');\n",
              "        docLink.innerHTML = docLinkHtml;\n",
              "        element.appendChild(docLink);\n",
              "      }\n",
              "    </script>\n",
              "  </div>\n",
              "\n",
              "\n",
              "<div id=\"df-5ae04042-9da2-4191-98b4-096b4a943e84\">\n",
              "  <button class=\"colab-df-quickchart\" onclick=\"quickchart('df-5ae04042-9da2-4191-98b4-096b4a943e84')\"\n",
              "            title=\"Suggest charts\"\n",
              "            style=\"display:none;\">\n",
              "\n",
              "<svg xmlns=\"http://www.w3.org/2000/svg\" height=\"24px\"viewBox=\"0 0 24 24\"\n",
              "     width=\"24px\">\n",
              "    <g>\n",
              "        <path d=\"M19 3H5c-1.1 0-2 .9-2 2v14c0 1.1.9 2 2 2h14c1.1 0 2-.9 2-2V5c0-1.1-.9-2-2-2zM9 17H7v-7h2v7zm4 0h-2V7h2v10zm4 0h-2v-4h2v4z\"/>\n",
              "    </g>\n",
              "</svg>\n",
              "  </button>\n",
              "\n",
              "<style>\n",
              "  .colab-df-quickchart {\n",
              "      --bg-color: #E8F0FE;\n",
              "      --fill-color: #1967D2;\n",
              "      --hover-bg-color: #E2EBFA;\n",
              "      --hover-fill-color: #174EA6;\n",
              "      --disabled-fill-color: #AAA;\n",
              "      --disabled-bg-color: #DDD;\n",
              "  }\n",
              "\n",
              "  [theme=dark] .colab-df-quickchart {\n",
              "      --bg-color: #3B4455;\n",
              "      --fill-color: #D2E3FC;\n",
              "      --hover-bg-color: #434B5C;\n",
              "      --hover-fill-color: #FFFFFF;\n",
              "      --disabled-bg-color: #3B4455;\n",
              "      --disabled-fill-color: #666;\n",
              "  }\n",
              "\n",
              "  .colab-df-quickchart {\n",
              "    background-color: var(--bg-color);\n",
              "    border: none;\n",
              "    border-radius: 50%;\n",
              "    cursor: pointer;\n",
              "    display: none;\n",
              "    fill: var(--fill-color);\n",
              "    height: 32px;\n",
              "    padding: 0;\n",
              "    width: 32px;\n",
              "  }\n",
              "\n",
              "  .colab-df-quickchart:hover {\n",
              "    background-color: var(--hover-bg-color);\n",
              "    box-shadow: 0 1px 2px rgba(60, 64, 67, 0.3), 0 1px 3px 1px rgba(60, 64, 67, 0.15);\n",
              "    fill: var(--button-hover-fill-color);\n",
              "  }\n",
              "\n",
              "  .colab-df-quickchart-complete:disabled,\n",
              "  .colab-df-quickchart-complete:disabled:hover {\n",
              "    background-color: var(--disabled-bg-color);\n",
              "    fill: var(--disabled-fill-color);\n",
              "    box-shadow: none;\n",
              "  }\n",
              "\n",
              "  .colab-df-spinner {\n",
              "    border: 2px solid var(--fill-color);\n",
              "    border-color: transparent;\n",
              "    border-bottom-color: var(--fill-color);\n",
              "    animation:\n",
              "      spin 1s steps(1) infinite;\n",
              "  }\n",
              "\n",
              "  @keyframes spin {\n",
              "    0% {\n",
              "      border-color: transparent;\n",
              "      border-bottom-color: var(--fill-color);\n",
              "      border-left-color: var(--fill-color);\n",
              "    }\n",
              "    20% {\n",
              "      border-color: transparent;\n",
              "      border-left-color: var(--fill-color);\n",
              "      border-top-color: var(--fill-color);\n",
              "    }\n",
              "    30% {\n",
              "      border-color: transparent;\n",
              "      border-left-color: var(--fill-color);\n",
              "      border-top-color: var(--fill-color);\n",
              "      border-right-color: var(--fill-color);\n",
              "    }\n",
              "    40% {\n",
              "      border-color: transparent;\n",
              "      border-right-color: var(--fill-color);\n",
              "      border-top-color: var(--fill-color);\n",
              "    }\n",
              "    60% {\n",
              "      border-color: transparent;\n",
              "      border-right-color: var(--fill-color);\n",
              "    }\n",
              "    80% {\n",
              "      border-color: transparent;\n",
              "      border-right-color: var(--fill-color);\n",
              "      border-bottom-color: var(--fill-color);\n",
              "    }\n",
              "    90% {\n",
              "      border-color: transparent;\n",
              "      border-bottom-color: var(--fill-color);\n",
              "    }\n",
              "  }\n",
              "</style>\n",
              "\n",
              "  <script>\n",
              "    async function quickchart(key) {\n",
              "      const quickchartButtonEl =\n",
              "        document.querySelector('#' + key + ' button');\n",
              "      quickchartButtonEl.disabled = true;  // To prevent multiple clicks.\n",
              "      quickchartButtonEl.classList.add('colab-df-spinner');\n",
              "      try {\n",
              "        const charts = await google.colab.kernel.invokeFunction(\n",
              "            'suggestCharts', [key], {});\n",
              "      } catch (error) {\n",
              "        console.error('Error during call to suggestCharts:', error);\n",
              "      }\n",
              "      quickchartButtonEl.classList.remove('colab-df-spinner');\n",
              "      quickchartButtonEl.classList.add('colab-df-quickchart-complete');\n",
              "    }\n",
              "    (() => {\n",
              "      let quickchartButtonEl =\n",
              "        document.querySelector('#df-5ae04042-9da2-4191-98b4-096b4a943e84 button');\n",
              "      quickchartButtonEl.style.display =\n",
              "        google.colab.kernel.accessAllowed ? 'block' : 'none';\n",
              "    })();\n",
              "  </script>\n",
              "</div>\n",
              "    </div>\n",
              "  </div>\n"
            ]
          },
          "metadata": {},
          "execution_count": 5
        }
      ]
    },
    {
      "cell_type": "markdown",
      "source": [
        "# 2.Data Investigation"
      ],
      "metadata": {
        "id": "CVn7R7HDVg18"
      }
    },
    {
      "cell_type": "code",
      "execution_count": null,
      "metadata": {
        "colab": {
          "base_uri": "https://localhost:8080/"
        },
        "id": "e463AebjbIm0",
        "outputId": "f8bdda34-6b2f-475e-8cb4-21f87808e951"
      },
      "outputs": [
        {
          "output_type": "stream",
          "name": "stdout",
          "text": [
            "<class 'pandas.core.frame.DataFrame'>\n",
            "RangeIndex: 20097 entries, 0 to 20096\n",
            "Data columns (total 75 columns):\n",
            " #   Column                                        Non-Null Count  Dtype  \n",
            "---  ------                                        --------------  -----  \n",
            " 0   id                                            20097 non-null  int64  \n",
            " 1   listing_url                                   20097 non-null  object \n",
            " 2   scrape_id                                     20097 non-null  int64  \n",
            " 3   last_scraped                                  20097 non-null  object \n",
            " 4   source                                        20097 non-null  object \n",
            " 5   name                                          20088 non-null  object \n",
            " 6   description                                   20075 non-null  object \n",
            " 7   neighborhood_overview                         12569 non-null  object \n",
            " 8   picture_url                                   20097 non-null  object \n",
            " 9   host_id                                       20097 non-null  int64  \n",
            " 10  host_url                                      20097 non-null  object \n",
            " 11  host_name                                     20097 non-null  object \n",
            " 12  host_since                                    20097 non-null  object \n",
            " 13  host_location                                 15138 non-null  object \n",
            " 14  host_about                                    11679 non-null  object \n",
            " 15  host_response_time                            17694 non-null  object \n",
            " 16  host_response_rate                            17694 non-null  object \n",
            " 17  host_acceptance_rate                          18654 non-null  object \n",
            " 18  host_is_superhost                             20078 non-null  object \n",
            " 19  host_thumbnail_url                            20097 non-null  object \n",
            " 20  host_picture_url                              20097 non-null  object \n",
            " 21  host_neighbourhood                            9352 non-null   object \n",
            " 22  host_listings_count                           20097 non-null  int64  \n",
            " 23  host_total_listings_count                     20097 non-null  int64  \n",
            " 24  host_verifications                            20097 non-null  object \n",
            " 25  host_has_profile_pic                          20097 non-null  object \n",
            " 26  host_identity_verified                        20097 non-null  object \n",
            " 27  neighbourhood                                 12569 non-null  object \n",
            " 28  neighbourhood_cleansed                        20097 non-null  object \n",
            " 29  neighbourhood_group_cleansed                  20097 non-null  object \n",
            " 30  latitude                                      20097 non-null  float64\n",
            " 31  longitude                                     20097 non-null  float64\n",
            " 32  property_type                                 20097 non-null  object \n",
            " 33  room_type                                     20097 non-null  object \n",
            " 34  accommodates                                  20097 non-null  int64  \n",
            " 35  bathrooms                                     0 non-null      float64\n",
            " 36  bathrooms_text                                20068 non-null  object \n",
            " 37  bedrooms                                      19228 non-null  float64\n",
            " 38  beds                                          19912 non-null  float64\n",
            " 39  amenities                                     20097 non-null  object \n",
            " 40  price                                         20097 non-null  object \n",
            " 41  minimum_nights                                20097 non-null  int64  \n",
            " 42  maximum_nights                                20097 non-null  int64  \n",
            " 43  minimum_minimum_nights                        20097 non-null  int64  \n",
            " 44  maximum_minimum_nights                        20097 non-null  int64  \n",
            " 45  minimum_maximum_nights                        20097 non-null  int64  \n",
            " 46  maximum_maximum_nights                        20097 non-null  int64  \n",
            " 47  minimum_nights_avg_ntm                        20097 non-null  float64\n",
            " 48  maximum_nights_avg_ntm                        20097 non-null  float64\n",
            " 49  calendar_updated                              0 non-null      float64\n",
            " 50  has_availability                              20097 non-null  object \n",
            " 51  availability_30                               20097 non-null  int64  \n",
            " 52  availability_60                               20097 non-null  int64  \n",
            " 53  availability_90                               20097 non-null  int64  \n",
            " 54  availability_365                              20097 non-null  int64  \n",
            " 55  calendar_last_scraped                         20097 non-null  object \n",
            " 56  number_of_reviews                             20097 non-null  int64  \n",
            " 57  number_of_reviews_ltm                         20097 non-null  int64  \n",
            " 58  number_of_reviews_l30d                        20097 non-null  int64  \n",
            " 59  first_review                                  17773 non-null  object \n",
            " 60  last_review                                   17773 non-null  object \n",
            " 61  review_scores_rating                          17773 non-null  float64\n",
            " 62  review_scores_accuracy                        17738 non-null  float64\n",
            " 63  review_scores_cleanliness                     17738 non-null  float64\n",
            " 64  review_scores_checkin                         17738 non-null  float64\n",
            " 65  review_scores_communication                   17738 non-null  float64\n",
            " 66  review_scores_location                        17738 non-null  float64\n",
            " 67  review_scores_value                           17739 non-null  float64\n",
            " 68  license                                       18900 non-null  object \n",
            " 69  instant_bookable                              20097 non-null  object \n",
            " 70  calculated_host_listings_count                20097 non-null  int64  \n",
            " 71  calculated_host_listings_count_entire_homes   20097 non-null  int64  \n",
            " 72  calculated_host_listings_count_private_rooms  20097 non-null  int64  \n",
            " 73  calculated_host_listings_count_shared_rooms   20097 non-null  int64  \n",
            " 74  reviews_per_month                             17773 non-null  float64\n",
            "dtypes: float64(16), int64(23), object(36)\n",
            "memory usage: 11.5+ MB\n"
          ]
        }
      ],
      "source": [
        "# Print data info\n",
        "data.info()"
      ]
    },
    {
      "cell_type": "code",
      "source": [
        "data.shape"
      ],
      "metadata": {
        "colab": {
          "base_uri": "https://localhost:8080/"
        },
        "id": "3uqMOOemd_vj",
        "outputId": "4797c6e1-420f-4949-a10c-320864cf0aef"
      },
      "execution_count": null,
      "outputs": [
        {
          "output_type": "execute_result",
          "data": {
            "text/plain": [
              "(20097, 75)"
            ]
          },
          "metadata": {},
          "execution_count": 7
        }
      ]
    },
    {
      "cell_type": "code",
      "source": [
        "data.columns"
      ],
      "metadata": {
        "colab": {
          "base_uri": "https://localhost:8080/"
        },
        "id": "P_rdP79VfOxr",
        "outputId": "78c8e671-e19c-49ea-803e-2f530166885c"
      },
      "execution_count": null,
      "outputs": [
        {
          "output_type": "execute_result",
          "data": {
            "text/plain": [
              "Index(['id', 'listing_url', 'scrape_id', 'last_scraped', 'source', 'name',\n",
              "       'description', 'neighborhood_overview', 'picture_url', 'host_id',\n",
              "       'host_url', 'host_name', 'host_since', 'host_location', 'host_about',\n",
              "       'host_response_time', 'host_response_rate', 'host_acceptance_rate',\n",
              "       'host_is_superhost', 'host_thumbnail_url', 'host_picture_url',\n",
              "       'host_neighbourhood', 'host_listings_count',\n",
              "       'host_total_listings_count', 'host_verifications',\n",
              "       'host_has_profile_pic', 'host_identity_verified', 'neighbourhood',\n",
              "       'neighbourhood_cleansed', 'neighbourhood_group_cleansed', 'latitude',\n",
              "       'longitude', 'property_type', 'room_type', 'accommodates', 'bathrooms',\n",
              "       'bathrooms_text', 'bedrooms', 'beds', 'amenities', 'price',\n",
              "       'minimum_nights', 'maximum_nights', 'minimum_minimum_nights',\n",
              "       'maximum_minimum_nights', 'minimum_maximum_nights',\n",
              "       'maximum_maximum_nights', 'minimum_nights_avg_ntm',\n",
              "       'maximum_nights_avg_ntm', 'calendar_updated', 'has_availability',\n",
              "       'availability_30', 'availability_60', 'availability_90',\n",
              "       'availability_365', 'calendar_last_scraped', 'number_of_reviews',\n",
              "       'number_of_reviews_ltm', 'number_of_reviews_l30d', 'first_review',\n",
              "       'last_review', 'review_scores_rating', 'review_scores_accuracy',\n",
              "       'review_scores_cleanliness', 'review_scores_checkin',\n",
              "       'review_scores_communication', 'review_scores_location',\n",
              "       'review_scores_value', 'license', 'instant_bookable',\n",
              "       'calculated_host_listings_count',\n",
              "       'calculated_host_listings_count_entire_homes',\n",
              "       'calculated_host_listings_count_private_rooms',\n",
              "       'calculated_host_listings_count_shared_rooms', 'reviews_per_month'],\n",
              "      dtype='object')"
            ]
          },
          "metadata": {},
          "execution_count": 8
        }
      ]
    },
    {
      "cell_type": "markdown",
      "source": [
        "# 3.Displaying sample of raw data"
      ],
      "metadata": {
        "id": "rSuZe1qfcNtI"
      }
    },
    {
      "cell_type": "code",
      "source": [
        "data.head()"
      ],
      "metadata": {
        "colab": {
          "base_uri": "https://localhost:8080/",
          "height": 637
        },
        "id": "j3OXAvyMbqx7",
        "outputId": "f6ed21a8-7dbc-4c50-b366-d6692f37fcfc"
      },
      "execution_count": null,
      "outputs": [
        {
          "output_type": "execute_result",
          "data": {
            "text/plain": [
              "                   id                                      listing_url  \\\n",
              "0            45558745            https://www.airbnb.com/rooms/45558745   \n",
              "1            33179882            https://www.airbnb.com/rooms/33179882   \n",
              "2  836176843011037443  https://www.airbnb.com/rooms/836176843011037443   \n",
              "3             1199811             https://www.airbnb.com/rooms/1199811   \n",
              "4            26093410            https://www.airbnb.com/rooms/26093410   \n",
              "\n",
              "        scrape_id last_scraped       source  \\\n",
              "0  20230319041058   2023-03-19  city scrape   \n",
              "1  20230319041058   2023-03-19  city scrape   \n",
              "2  20230319041058   2023-03-19  city scrape   \n",
              "3  20230319041058   2023-03-19  city scrape   \n",
              "4  20230319041058   2023-03-19  city scrape   \n",
              "\n",
              "                                                name  \\\n",
              "0                     FLH  Baixa-Chiado Library Loft   \n",
              "1                                    Palm Guesthouse   \n",
              "2  Lisbon, renewed T1 apartment with pateo near M...   \n",
              "3                Best Deal Lisboa Alfama Fado apart.   \n",
              "4  Santa Liberdade Flat - Liberdade Avenue at Lisbon   \n",
              "\n",
              "                                         description neighborhood_overview  \\\n",
              "0  The apartment in Lisbon has 1 bedrooms and has...                   NaN   \n",
              "1  A minha propriedade tem uma decoração simples ...      Centro da cidade   \n",
              "2  Located in the historic area of Lisbon, next t...                   NaN   \n",
              "3  <b>The space</b><br />Very nice apartment in t...                   NaN   \n",
              "4  2  steps away from Avenida da Liberdade!  <br ...                   NaN   \n",
              "\n",
              "                                         picture_url    host_id  ...  \\\n",
              "0  https://a0.muscache.com/pictures/miso/Hosting-...    3953109  ...   \n",
              "1  https://a0.muscache.com/pictures/478eb0c9-ca8e...  152854735  ...   \n",
              "2  https://a0.muscache.com/pictures/prohost-api/H...  185689002  ...   \n",
              "3  https://a0.muscache.com/pictures/21575877/9a88...    6552656  ...   \n",
              "4  https://a0.muscache.com/pictures/0e16f6c5-3d1a...  348308512  ...   \n",
              "\n",
              "  review_scores_communication review_scores_location review_scores_value  \\\n",
              "0                        4.89                   4.96                4.68   \n",
              "1                         NaN                    NaN                 NaN   \n",
              "2                         NaN                    NaN                 NaN   \n",
              "3                        4.84                   4.85                4.68   \n",
              "4                        5.00                   5.00                5.00   \n",
              "\n",
              "    license instant_bookable calculated_host_listings_count  \\\n",
              "0  35073/AL                t                            306   \n",
              "1  18808/AL                t                              5   \n",
              "2  50802/AL                f                             20   \n",
              "3  46120/AL                t                              1   \n",
              "4  64304/AL                t                              4   \n",
              "\n",
              "  calculated_host_listings_count_entire_homes  \\\n",
              "0                                         300   \n",
              "1                                           0   \n",
              "2                                          15   \n",
              "3                                           1   \n",
              "4                                           4   \n",
              "\n",
              "  calculated_host_listings_count_private_rooms  \\\n",
              "0                                            6   \n",
              "1                                            5   \n",
              "2                                            5   \n",
              "3                                            0   \n",
              "4                                            0   \n",
              "\n",
              "  calculated_host_listings_count_shared_rooms reviews_per_month  \n",
              "0                                           0              1.32  \n",
              "1                                           0               NaN  \n",
              "2                                           0               NaN  \n",
              "3                                           0              2.31  \n",
              "4                                           0              0.02  \n",
              "\n",
              "[5 rows x 75 columns]"
            ],
            "text/html": [
              "\n",
              "  <div id=\"df-eeebac23-7540-4fe7-b871-ffee745c2057\" class=\"colab-df-container\">\n",
              "    <div>\n",
              "<style scoped>\n",
              "    .dataframe tbody tr th:only-of-type {\n",
              "        vertical-align: middle;\n",
              "    }\n",
              "\n",
              "    .dataframe tbody tr th {\n",
              "        vertical-align: top;\n",
              "    }\n",
              "\n",
              "    .dataframe thead th {\n",
              "        text-align: right;\n",
              "    }\n",
              "</style>\n",
              "<table border=\"1\" class=\"dataframe\">\n",
              "  <thead>\n",
              "    <tr style=\"text-align: right;\">\n",
              "      <th></th>\n",
              "      <th>id</th>\n",
              "      <th>listing_url</th>\n",
              "      <th>scrape_id</th>\n",
              "      <th>last_scraped</th>\n",
              "      <th>source</th>\n",
              "      <th>name</th>\n",
              "      <th>description</th>\n",
              "      <th>neighborhood_overview</th>\n",
              "      <th>picture_url</th>\n",
              "      <th>host_id</th>\n",
              "      <th>...</th>\n",
              "      <th>review_scores_communication</th>\n",
              "      <th>review_scores_location</th>\n",
              "      <th>review_scores_value</th>\n",
              "      <th>license</th>\n",
              "      <th>instant_bookable</th>\n",
              "      <th>calculated_host_listings_count</th>\n",
              "      <th>calculated_host_listings_count_entire_homes</th>\n",
              "      <th>calculated_host_listings_count_private_rooms</th>\n",
              "      <th>calculated_host_listings_count_shared_rooms</th>\n",
              "      <th>reviews_per_month</th>\n",
              "    </tr>\n",
              "  </thead>\n",
              "  <tbody>\n",
              "    <tr>\n",
              "      <th>0</th>\n",
              "      <td>45558745</td>\n",
              "      <td>https://www.airbnb.com/rooms/45558745</td>\n",
              "      <td>20230319041058</td>\n",
              "      <td>2023-03-19</td>\n",
              "      <td>city scrape</td>\n",
              "      <td>FLH  Baixa-Chiado Library Loft</td>\n",
              "      <td>The apartment in Lisbon has 1 bedrooms and has...</td>\n",
              "      <td>NaN</td>\n",
              "      <td>https://a0.muscache.com/pictures/miso/Hosting-...</td>\n",
              "      <td>3953109</td>\n",
              "      <td>...</td>\n",
              "      <td>4.89</td>\n",
              "      <td>4.96</td>\n",
              "      <td>4.68</td>\n",
              "      <td>35073/AL</td>\n",
              "      <td>t</td>\n",
              "      <td>306</td>\n",
              "      <td>300</td>\n",
              "      <td>6</td>\n",
              "      <td>0</td>\n",
              "      <td>1.32</td>\n",
              "    </tr>\n",
              "    <tr>\n",
              "      <th>1</th>\n",
              "      <td>33179882</td>\n",
              "      <td>https://www.airbnb.com/rooms/33179882</td>\n",
              "      <td>20230319041058</td>\n",
              "      <td>2023-03-19</td>\n",
              "      <td>city scrape</td>\n",
              "      <td>Palm Guesthouse</td>\n",
              "      <td>A minha propriedade tem uma decoração simples ...</td>\n",
              "      <td>Centro da cidade</td>\n",
              "      <td>https://a0.muscache.com/pictures/478eb0c9-ca8e...</td>\n",
              "      <td>152854735</td>\n",
              "      <td>...</td>\n",
              "      <td>NaN</td>\n",
              "      <td>NaN</td>\n",
              "      <td>NaN</td>\n",
              "      <td>18808/AL</td>\n",
              "      <td>t</td>\n",
              "      <td>5</td>\n",
              "      <td>0</td>\n",
              "      <td>5</td>\n",
              "      <td>0</td>\n",
              "      <td>NaN</td>\n",
              "    </tr>\n",
              "    <tr>\n",
              "      <th>2</th>\n",
              "      <td>836176843011037443</td>\n",
              "      <td>https://www.airbnb.com/rooms/836176843011037443</td>\n",
              "      <td>20230319041058</td>\n",
              "      <td>2023-03-19</td>\n",
              "      <td>city scrape</td>\n",
              "      <td>Lisbon, renewed T1 apartment with pateo near M...</td>\n",
              "      <td>Located in the historic area of Lisbon, next t...</td>\n",
              "      <td>NaN</td>\n",
              "      <td>https://a0.muscache.com/pictures/prohost-api/H...</td>\n",
              "      <td>185689002</td>\n",
              "      <td>...</td>\n",
              "      <td>NaN</td>\n",
              "      <td>NaN</td>\n",
              "      <td>NaN</td>\n",
              "      <td>50802/AL</td>\n",
              "      <td>f</td>\n",
              "      <td>20</td>\n",
              "      <td>15</td>\n",
              "      <td>5</td>\n",
              "      <td>0</td>\n",
              "      <td>NaN</td>\n",
              "    </tr>\n",
              "    <tr>\n",
              "      <th>3</th>\n",
              "      <td>1199811</td>\n",
              "      <td>https://www.airbnb.com/rooms/1199811</td>\n",
              "      <td>20230319041058</td>\n",
              "      <td>2023-03-19</td>\n",
              "      <td>city scrape</td>\n",
              "      <td>Best Deal Lisboa Alfama Fado apart.</td>\n",
              "      <td>&lt;b&gt;The space&lt;/b&gt;&lt;br /&gt;Very nice apartment in t...</td>\n",
              "      <td>NaN</td>\n",
              "      <td>https://a0.muscache.com/pictures/21575877/9a88...</td>\n",
              "      <td>6552656</td>\n",
              "      <td>...</td>\n",
              "      <td>4.84</td>\n",
              "      <td>4.85</td>\n",
              "      <td>4.68</td>\n",
              "      <td>46120/AL</td>\n",
              "      <td>t</td>\n",
              "      <td>1</td>\n",
              "      <td>1</td>\n",
              "      <td>0</td>\n",
              "      <td>0</td>\n",
              "      <td>2.31</td>\n",
              "    </tr>\n",
              "    <tr>\n",
              "      <th>4</th>\n",
              "      <td>26093410</td>\n",
              "      <td>https://www.airbnb.com/rooms/26093410</td>\n",
              "      <td>20230319041058</td>\n",
              "      <td>2023-03-19</td>\n",
              "      <td>city scrape</td>\n",
              "      <td>Santa Liberdade Flat - Liberdade Avenue at Lisbon</td>\n",
              "      <td>2  steps away from Avenida da Liberdade!  &lt;br ...</td>\n",
              "      <td>NaN</td>\n",
              "      <td>https://a0.muscache.com/pictures/0e16f6c5-3d1a...</td>\n",
              "      <td>348308512</td>\n",
              "      <td>...</td>\n",
              "      <td>5.00</td>\n",
              "      <td>5.00</td>\n",
              "      <td>5.00</td>\n",
              "      <td>64304/AL</td>\n",
              "      <td>t</td>\n",
              "      <td>4</td>\n",
              "      <td>4</td>\n",
              "      <td>0</td>\n",
              "      <td>0</td>\n",
              "      <td>0.02</td>\n",
              "    </tr>\n",
              "  </tbody>\n",
              "</table>\n",
              "<p>5 rows × 75 columns</p>\n",
              "</div>\n",
              "    <div class=\"colab-df-buttons\">\n",
              "\n",
              "  <div class=\"colab-df-container\">\n",
              "    <button class=\"colab-df-convert\" onclick=\"convertToInteractive('df-eeebac23-7540-4fe7-b871-ffee745c2057')\"\n",
              "            title=\"Convert this dataframe to an interactive table.\"\n",
              "            style=\"display:none;\">\n",
              "\n",
              "  <svg xmlns=\"http://www.w3.org/2000/svg\" height=\"24px\" viewBox=\"0 -960 960 960\">\n",
              "    <path d=\"M120-120v-720h720v720H120Zm60-500h600v-160H180v160Zm220 220h160v-160H400v160Zm0 220h160v-160H400v160ZM180-400h160v-160H180v160Zm440 0h160v-160H620v160ZM180-180h160v-160H180v160Zm440 0h160v-160H620v160Z\"/>\n",
              "  </svg>\n",
              "    </button>\n",
              "\n",
              "  <style>\n",
              "    .colab-df-container {\n",
              "      display:flex;\n",
              "      gap: 12px;\n",
              "    }\n",
              "\n",
              "    .colab-df-convert {\n",
              "      background-color: #E8F0FE;\n",
              "      border: none;\n",
              "      border-radius: 50%;\n",
              "      cursor: pointer;\n",
              "      display: none;\n",
              "      fill: #1967D2;\n",
              "      height: 32px;\n",
              "      padding: 0 0 0 0;\n",
              "      width: 32px;\n",
              "    }\n",
              "\n",
              "    .colab-df-convert:hover {\n",
              "      background-color: #E2EBFA;\n",
              "      box-shadow: 0px 1px 2px rgba(60, 64, 67, 0.3), 0px 1px 3px 1px rgba(60, 64, 67, 0.15);\n",
              "      fill: #174EA6;\n",
              "    }\n",
              "\n",
              "    .colab-df-buttons div {\n",
              "      margin-bottom: 4px;\n",
              "    }\n",
              "\n",
              "    [theme=dark] .colab-df-convert {\n",
              "      background-color: #3B4455;\n",
              "      fill: #D2E3FC;\n",
              "    }\n",
              "\n",
              "    [theme=dark] .colab-df-convert:hover {\n",
              "      background-color: #434B5C;\n",
              "      box-shadow: 0px 1px 3px 1px rgba(0, 0, 0, 0.15);\n",
              "      filter: drop-shadow(0px 1px 2px rgba(0, 0, 0, 0.3));\n",
              "      fill: #FFFFFF;\n",
              "    }\n",
              "  </style>\n",
              "\n",
              "    <script>\n",
              "      const buttonEl =\n",
              "        document.querySelector('#df-eeebac23-7540-4fe7-b871-ffee745c2057 button.colab-df-convert');\n",
              "      buttonEl.style.display =\n",
              "        google.colab.kernel.accessAllowed ? 'block' : 'none';\n",
              "\n",
              "      async function convertToInteractive(key) {\n",
              "        const element = document.querySelector('#df-eeebac23-7540-4fe7-b871-ffee745c2057');\n",
              "        const dataTable =\n",
              "          await google.colab.kernel.invokeFunction('convertToInteractive',\n",
              "                                                    [key], {});\n",
              "        if (!dataTable) return;\n",
              "\n",
              "        const docLinkHtml = 'Like what you see? Visit the ' +\n",
              "          '<a target=\"_blank\" href=https://colab.research.google.com/notebooks/data_table.ipynb>data table notebook</a>'\n",
              "          + ' to learn more about interactive tables.';\n",
              "        element.innerHTML = '';\n",
              "        dataTable['output_type'] = 'display_data';\n",
              "        await google.colab.output.renderOutput(dataTable, element);\n",
              "        const docLink = document.createElement('div');\n",
              "        docLink.innerHTML = docLinkHtml;\n",
              "        element.appendChild(docLink);\n",
              "      }\n",
              "    </script>\n",
              "  </div>\n",
              "\n",
              "\n",
              "<div id=\"df-ac3c90db-6d50-482c-ba8b-957b5b83ac70\">\n",
              "  <button class=\"colab-df-quickchart\" onclick=\"quickchart('df-ac3c90db-6d50-482c-ba8b-957b5b83ac70')\"\n",
              "            title=\"Suggest charts\"\n",
              "            style=\"display:none;\">\n",
              "\n",
              "<svg xmlns=\"http://www.w3.org/2000/svg\" height=\"24px\"viewBox=\"0 0 24 24\"\n",
              "     width=\"24px\">\n",
              "    <g>\n",
              "        <path d=\"M19 3H5c-1.1 0-2 .9-2 2v14c0 1.1.9 2 2 2h14c1.1 0 2-.9 2-2V5c0-1.1-.9-2-2-2zM9 17H7v-7h2v7zm4 0h-2V7h2v10zm4 0h-2v-4h2v4z\"/>\n",
              "    </g>\n",
              "</svg>\n",
              "  </button>\n",
              "\n",
              "<style>\n",
              "  .colab-df-quickchart {\n",
              "      --bg-color: #E8F0FE;\n",
              "      --fill-color: #1967D2;\n",
              "      --hover-bg-color: #E2EBFA;\n",
              "      --hover-fill-color: #174EA6;\n",
              "      --disabled-fill-color: #AAA;\n",
              "      --disabled-bg-color: #DDD;\n",
              "  }\n",
              "\n",
              "  [theme=dark] .colab-df-quickchart {\n",
              "      --bg-color: #3B4455;\n",
              "      --fill-color: #D2E3FC;\n",
              "      --hover-bg-color: #434B5C;\n",
              "      --hover-fill-color: #FFFFFF;\n",
              "      --disabled-bg-color: #3B4455;\n",
              "      --disabled-fill-color: #666;\n",
              "  }\n",
              "\n",
              "  .colab-df-quickchart {\n",
              "    background-color: var(--bg-color);\n",
              "    border: none;\n",
              "    border-radius: 50%;\n",
              "    cursor: pointer;\n",
              "    display: none;\n",
              "    fill: var(--fill-color);\n",
              "    height: 32px;\n",
              "    padding: 0;\n",
              "    width: 32px;\n",
              "  }\n",
              "\n",
              "  .colab-df-quickchart:hover {\n",
              "    background-color: var(--hover-bg-color);\n",
              "    box-shadow: 0 1px 2px rgba(60, 64, 67, 0.3), 0 1px 3px 1px rgba(60, 64, 67, 0.15);\n",
              "    fill: var(--button-hover-fill-color);\n",
              "  }\n",
              "\n",
              "  .colab-df-quickchart-complete:disabled,\n",
              "  .colab-df-quickchart-complete:disabled:hover {\n",
              "    background-color: var(--disabled-bg-color);\n",
              "    fill: var(--disabled-fill-color);\n",
              "    box-shadow: none;\n",
              "  }\n",
              "\n",
              "  .colab-df-spinner {\n",
              "    border: 2px solid var(--fill-color);\n",
              "    border-color: transparent;\n",
              "    border-bottom-color: var(--fill-color);\n",
              "    animation:\n",
              "      spin 1s steps(1) infinite;\n",
              "  }\n",
              "\n",
              "  @keyframes spin {\n",
              "    0% {\n",
              "      border-color: transparent;\n",
              "      border-bottom-color: var(--fill-color);\n",
              "      border-left-color: var(--fill-color);\n",
              "    }\n",
              "    20% {\n",
              "      border-color: transparent;\n",
              "      border-left-color: var(--fill-color);\n",
              "      border-top-color: var(--fill-color);\n",
              "    }\n",
              "    30% {\n",
              "      border-color: transparent;\n",
              "      border-left-color: var(--fill-color);\n",
              "      border-top-color: var(--fill-color);\n",
              "      border-right-color: var(--fill-color);\n",
              "    }\n",
              "    40% {\n",
              "      border-color: transparent;\n",
              "      border-right-color: var(--fill-color);\n",
              "      border-top-color: var(--fill-color);\n",
              "    }\n",
              "    60% {\n",
              "      border-color: transparent;\n",
              "      border-right-color: var(--fill-color);\n",
              "    }\n",
              "    80% {\n",
              "      border-color: transparent;\n",
              "      border-right-color: var(--fill-color);\n",
              "      border-bottom-color: var(--fill-color);\n",
              "    }\n",
              "    90% {\n",
              "      border-color: transparent;\n",
              "      border-bottom-color: var(--fill-color);\n",
              "    }\n",
              "  }\n",
              "</style>\n",
              "\n",
              "  <script>\n",
              "    async function quickchart(key) {\n",
              "      const quickchartButtonEl =\n",
              "        document.querySelector('#' + key + ' button');\n",
              "      quickchartButtonEl.disabled = true;  // To prevent multiple clicks.\n",
              "      quickchartButtonEl.classList.add('colab-df-spinner');\n",
              "      try {\n",
              "        const charts = await google.colab.kernel.invokeFunction(\n",
              "            'suggestCharts', [key], {});\n",
              "      } catch (error) {\n",
              "        console.error('Error during call to suggestCharts:', error);\n",
              "      }\n",
              "      quickchartButtonEl.classList.remove('colab-df-spinner');\n",
              "      quickchartButtonEl.classList.add('colab-df-quickchart-complete');\n",
              "    }\n",
              "    (() => {\n",
              "      let quickchartButtonEl =\n",
              "        document.querySelector('#df-ac3c90db-6d50-482c-ba8b-957b5b83ac70 button');\n",
              "      quickchartButtonEl.style.display =\n",
              "        google.colab.kernel.accessAllowed ? 'block' : 'none';\n",
              "    })();\n",
              "  </script>\n",
              "</div>\n",
              "    </div>\n",
              "  </div>\n"
            ]
          },
          "metadata": {},
          "execution_count": 9
        }
      ]
    },
    {
      "cell_type": "markdown",
      "source": [
        "##3a.Eliminating unnecessary data"
      ],
      "metadata": {
        "id": "CM2Ypz1AvWbY"
      }
    },
    {
      "cell_type": "code",
      "source": [
        "# Unnecessary data drop\n",
        "data.drop(['id', 'listing_url', 'scrape_id', 'last_scraped', 'source', 'name', 'description', 'neighborhood_overview', 'maximum_minimum_nights','picture_url', 'host_id',\t'host_url',\t'host_name',\t'host_since',\t'host_location',\t'host_about', 'host_thumbnail_url',\t'host_picture_url'\t, 'host_neighbourhood', 'host_total_listings_count', 'neighbourhood', 'neighbourhood_cleansed',\t'neighbourhood_group_cleansed', 'minimum_maximum_nights',\t'maximum_maximum_nights',\t'minimum_nights_avg_ntm',\t'maximum_nights_avg_ntm',\t'calendar_updated',\t'has_availability', 'calendar_last_scraped' , 'number_of_reviews' , 'number_of_reviews_ltm', 'first_review',\t'last_review' , 'review_scores_accuracy',\t'review_scores_cleanliness',\t'review_scores_checkin',\t'review_scores_communication', 'review_scores_location'\t,'review_scores_value',\t'license', 'calculated_host_listings_count_entire_homes',\t'calculated_host_listings_count_private_rooms',\t'calculated_host_listings_count_shared_rooms'], axis='columns', inplace=True)\n"
      ],
      "metadata": {
        "id": "RZUJCmhJvJg1"
      },
      "execution_count": null,
      "outputs": []
    },
    {
      "cell_type": "code",
      "source": [
        "# Data columns after drop\n",
        "data.columns"
      ],
      "metadata": {
        "colab": {
          "base_uri": "https://localhost:8080/"
        },
        "id": "xExkGsZWbE9a",
        "outputId": "70552203-5e38-48f8-f94c-5afec8947834"
      },
      "execution_count": null,
      "outputs": [
        {
          "output_type": "execute_result",
          "data": {
            "text/plain": [
              "Index(['host_response_time', 'host_response_rate', 'host_acceptance_rate',\n",
              "       'host_is_superhost', 'host_listings_count', 'host_verifications',\n",
              "       'host_has_profile_pic', 'host_identity_verified', 'latitude',\n",
              "       'longitude', 'property_type', 'room_type', 'accommodates', 'bathrooms',\n",
              "       'bathrooms_text', 'bedrooms', 'beds', 'amenities', 'price',\n",
              "       'minimum_nights', 'maximum_nights', 'minimum_minimum_nights',\n",
              "       'availability_30', 'availability_60', 'availability_90',\n",
              "       'availability_365', 'number_of_reviews_l30d', 'review_scores_rating',\n",
              "       'instant_bookable', 'calculated_host_listings_count',\n",
              "       'reviews_per_month'],\n",
              "      dtype='object')"
            ]
          },
          "metadata": {},
          "execution_count": 11
        }
      ]
    },
    {
      "cell_type": "code",
      "source": [
        "data"
      ],
      "metadata": {
        "colab": {
          "base_uri": "https://localhost:8080/",
          "height": 443
        },
        "id": "BMI3JMTI_QwE",
        "outputId": "c118db84-7715-4437-83bb-ad04040bcbf9"
      },
      "execution_count": null,
      "outputs": [
        {
          "output_type": "execute_result",
          "data": {
            "text/plain": [
              "      host_response_time host_response_rate host_acceptance_rate  \\\n",
              "0         within an hour                98%                 100%   \n",
              "1                    NaN                NaN                  NaN   \n",
              "2         within an hour                91%                  98%   \n",
              "3         within an hour               100%                 100%   \n",
              "4                    NaN                NaN                  NaN   \n",
              "...                  ...                ...                  ...   \n",
              "20092     within an hour               100%                 100%   \n",
              "20093     within an hour               100%                 100%   \n",
              "20094                NaN                NaN                  NaN   \n",
              "20095                NaN                NaN                  NaN   \n",
              "20096     within an hour               100%                 100%   \n",
              "\n",
              "      host_is_superhost  host_listings_count  host_verifications  \\\n",
              "0                     f                  530  ['email', 'phone']   \n",
              "1                     f                    5  ['email', 'phone']   \n",
              "2                     f                   35  ['email', 'phone']   \n",
              "3                     t                    1  ['email', 'phone']   \n",
              "4                     f                    7  ['email', 'phone']   \n",
              "...                 ...                  ...                 ...   \n",
              "20092                 t                    2  ['email', 'phone']   \n",
              "20093                 t                    1  ['email', 'phone']   \n",
              "20094                 f                    2  ['email', 'phone']   \n",
              "20095                 f                  792  ['email', 'phone']   \n",
              "20096                 f                   16  ['email', 'phone']   \n",
              "\n",
              "      host_has_profile_pic host_identity_verified   latitude  longitude  ...  \\\n",
              "0                        t                      t  38.710320  -9.138140  ...   \n",
              "1                        t                      t  38.699930  -9.421570  ...   \n",
              "2                        t                      t  38.720987  -9.137193  ...   \n",
              "3                        t                      t  38.710540  -9.130080  ...   \n",
              "4                        t                      t  38.720410  -9.144350  ...   \n",
              "...                    ...                    ...        ...        ...  ...   \n",
              "20092                    t                      t  38.735060  -9.124020  ...   \n",
              "20093                    t                      t  38.720260  -9.124700  ...   \n",
              "20094                    t                      t  38.718730  -9.122120  ...   \n",
              "20095                    t                      f  38.722880  -9.140850  ...   \n",
              "20096                    t                      t  38.964160  -9.416860  ...   \n",
              "\n",
              "      minimum_minimum_nights availability_30  availability_60  \\\n",
              "0                          2               3               10   \n",
              "1                          5               0                0   \n",
              "2                          1              12               34   \n",
              "3                          1               3                4   \n",
              "4                          3               0                0   \n",
              "...                      ...             ...              ...   \n",
              "20092                     18               0                6   \n",
              "20093                      2               3               11   \n",
              "20094                      2               0                7   \n",
              "20095                      1               0                0   \n",
              "20096                      3               7                8   \n",
              "\n",
              "       availability_90 availability_365  number_of_reviews_l30d  \\\n",
              "0                   22              288                       1   \n",
              "1                   15              290                       0   \n",
              "2                   64              262                       0   \n",
              "3                   11              255                       4   \n",
              "4                    0                0                       0   \n",
              "...                ...              ...                     ...   \n",
              "20092               24               33                       0   \n",
              "20093               27              297                       4   \n",
              "20094               27               92                       3   \n",
              "20095                0               94                       0   \n",
              "20096               20              122                       2   \n",
              "\n",
              "       review_scores_rating instant_bookable calculated_host_listings_count  \\\n",
              "0                      4.86                t                            306   \n",
              "1                       NaN                t                              5   \n",
              "2                       NaN                f                             20   \n",
              "3                      4.62                t                              1   \n",
              "4                      5.00                t                              4   \n",
              "...                     ...              ...                            ...   \n",
              "20092                  5.00                t                              2   \n",
              "20093                  4.79                t                              1   \n",
              "20094                  4.59                f                              2   \n",
              "20095                  2.00                t                             97   \n",
              "20096                  4.75                t                             16   \n",
              "\n",
              "       reviews_per_month  \n",
              "0                   1.32  \n",
              "1                    NaN  \n",
              "2                    NaN  \n",
              "3                   2.31  \n",
              "4                   0.02  \n",
              "...                  ...  \n",
              "20092               0.85  \n",
              "20093               1.70  \n",
              "20094               4.26  \n",
              "20095               0.05  \n",
              "20096               1.80  \n",
              "\n",
              "[20097 rows x 31 columns]"
            ],
            "text/html": [
              "\n",
              "  <div id=\"df-bfbbab6c-1a13-408f-bef3-b5273d641577\" class=\"colab-df-container\">\n",
              "    <div>\n",
              "<style scoped>\n",
              "    .dataframe tbody tr th:only-of-type {\n",
              "        vertical-align: middle;\n",
              "    }\n",
              "\n",
              "    .dataframe tbody tr th {\n",
              "        vertical-align: top;\n",
              "    }\n",
              "\n",
              "    .dataframe thead th {\n",
              "        text-align: right;\n",
              "    }\n",
              "</style>\n",
              "<table border=\"1\" class=\"dataframe\">\n",
              "  <thead>\n",
              "    <tr style=\"text-align: right;\">\n",
              "      <th></th>\n",
              "      <th>host_response_time</th>\n",
              "      <th>host_response_rate</th>\n",
              "      <th>host_acceptance_rate</th>\n",
              "      <th>host_is_superhost</th>\n",
              "      <th>host_listings_count</th>\n",
              "      <th>host_verifications</th>\n",
              "      <th>host_has_profile_pic</th>\n",
              "      <th>host_identity_verified</th>\n",
              "      <th>latitude</th>\n",
              "      <th>longitude</th>\n",
              "      <th>...</th>\n",
              "      <th>minimum_minimum_nights</th>\n",
              "      <th>availability_30</th>\n",
              "      <th>availability_60</th>\n",
              "      <th>availability_90</th>\n",
              "      <th>availability_365</th>\n",
              "      <th>number_of_reviews_l30d</th>\n",
              "      <th>review_scores_rating</th>\n",
              "      <th>instant_bookable</th>\n",
              "      <th>calculated_host_listings_count</th>\n",
              "      <th>reviews_per_month</th>\n",
              "    </tr>\n",
              "  </thead>\n",
              "  <tbody>\n",
              "    <tr>\n",
              "      <th>0</th>\n",
              "      <td>within an hour</td>\n",
              "      <td>98%</td>\n",
              "      <td>100%</td>\n",
              "      <td>f</td>\n",
              "      <td>530</td>\n",
              "      <td>['email', 'phone']</td>\n",
              "      <td>t</td>\n",
              "      <td>t</td>\n",
              "      <td>38.710320</td>\n",
              "      <td>-9.138140</td>\n",
              "      <td>...</td>\n",
              "      <td>2</td>\n",
              "      <td>3</td>\n",
              "      <td>10</td>\n",
              "      <td>22</td>\n",
              "      <td>288</td>\n",
              "      <td>1</td>\n",
              "      <td>4.86</td>\n",
              "      <td>t</td>\n",
              "      <td>306</td>\n",
              "      <td>1.32</td>\n",
              "    </tr>\n",
              "    <tr>\n",
              "      <th>1</th>\n",
              "      <td>NaN</td>\n",
              "      <td>NaN</td>\n",
              "      <td>NaN</td>\n",
              "      <td>f</td>\n",
              "      <td>5</td>\n",
              "      <td>['email', 'phone']</td>\n",
              "      <td>t</td>\n",
              "      <td>t</td>\n",
              "      <td>38.699930</td>\n",
              "      <td>-9.421570</td>\n",
              "      <td>...</td>\n",
              "      <td>5</td>\n",
              "      <td>0</td>\n",
              "      <td>0</td>\n",
              "      <td>15</td>\n",
              "      <td>290</td>\n",
              "      <td>0</td>\n",
              "      <td>NaN</td>\n",
              "      <td>t</td>\n",
              "      <td>5</td>\n",
              "      <td>NaN</td>\n",
              "    </tr>\n",
              "    <tr>\n",
              "      <th>2</th>\n",
              "      <td>within an hour</td>\n",
              "      <td>91%</td>\n",
              "      <td>98%</td>\n",
              "      <td>f</td>\n",
              "      <td>35</td>\n",
              "      <td>['email', 'phone']</td>\n",
              "      <td>t</td>\n",
              "      <td>t</td>\n",
              "      <td>38.720987</td>\n",
              "      <td>-9.137193</td>\n",
              "      <td>...</td>\n",
              "      <td>1</td>\n",
              "      <td>12</td>\n",
              "      <td>34</td>\n",
              "      <td>64</td>\n",
              "      <td>262</td>\n",
              "      <td>0</td>\n",
              "      <td>NaN</td>\n",
              "      <td>f</td>\n",
              "      <td>20</td>\n",
              "      <td>NaN</td>\n",
              "    </tr>\n",
              "    <tr>\n",
              "      <th>3</th>\n",
              "      <td>within an hour</td>\n",
              "      <td>100%</td>\n",
              "      <td>100%</td>\n",
              "      <td>t</td>\n",
              "      <td>1</td>\n",
              "      <td>['email', 'phone']</td>\n",
              "      <td>t</td>\n",
              "      <td>t</td>\n",
              "      <td>38.710540</td>\n",
              "      <td>-9.130080</td>\n",
              "      <td>...</td>\n",
              "      <td>1</td>\n",
              "      <td>3</td>\n",
              "      <td>4</td>\n",
              "      <td>11</td>\n",
              "      <td>255</td>\n",
              "      <td>4</td>\n",
              "      <td>4.62</td>\n",
              "      <td>t</td>\n",
              "      <td>1</td>\n",
              "      <td>2.31</td>\n",
              "    </tr>\n",
              "    <tr>\n",
              "      <th>4</th>\n",
              "      <td>NaN</td>\n",
              "      <td>NaN</td>\n",
              "      <td>NaN</td>\n",
              "      <td>f</td>\n",
              "      <td>7</td>\n",
              "      <td>['email', 'phone']</td>\n",
              "      <td>t</td>\n",
              "      <td>t</td>\n",
              "      <td>38.720410</td>\n",
              "      <td>-9.144350</td>\n",
              "      <td>...</td>\n",
              "      <td>3</td>\n",
              "      <td>0</td>\n",
              "      <td>0</td>\n",
              "      <td>0</td>\n",
              "      <td>0</td>\n",
              "      <td>0</td>\n",
              "      <td>5.00</td>\n",
              "      <td>t</td>\n",
              "      <td>4</td>\n",
              "      <td>0.02</td>\n",
              "    </tr>\n",
              "    <tr>\n",
              "      <th>...</th>\n",
              "      <td>...</td>\n",
              "      <td>...</td>\n",
              "      <td>...</td>\n",
              "      <td>...</td>\n",
              "      <td>...</td>\n",
              "      <td>...</td>\n",
              "      <td>...</td>\n",
              "      <td>...</td>\n",
              "      <td>...</td>\n",
              "      <td>...</td>\n",
              "      <td>...</td>\n",
              "      <td>...</td>\n",
              "      <td>...</td>\n",
              "      <td>...</td>\n",
              "      <td>...</td>\n",
              "      <td>...</td>\n",
              "      <td>...</td>\n",
              "      <td>...</td>\n",
              "      <td>...</td>\n",
              "      <td>...</td>\n",
              "      <td>...</td>\n",
              "    </tr>\n",
              "    <tr>\n",
              "      <th>20092</th>\n",
              "      <td>within an hour</td>\n",
              "      <td>100%</td>\n",
              "      <td>100%</td>\n",
              "      <td>t</td>\n",
              "      <td>2</td>\n",
              "      <td>['email', 'phone']</td>\n",
              "      <td>t</td>\n",
              "      <td>t</td>\n",
              "      <td>38.735060</td>\n",
              "      <td>-9.124020</td>\n",
              "      <td>...</td>\n",
              "      <td>18</td>\n",
              "      <td>0</td>\n",
              "      <td>6</td>\n",
              "      <td>24</td>\n",
              "      <td>33</td>\n",
              "      <td>0</td>\n",
              "      <td>5.00</td>\n",
              "      <td>t</td>\n",
              "      <td>2</td>\n",
              "      <td>0.85</td>\n",
              "    </tr>\n",
              "    <tr>\n",
              "      <th>20093</th>\n",
              "      <td>within an hour</td>\n",
              "      <td>100%</td>\n",
              "      <td>100%</td>\n",
              "      <td>t</td>\n",
              "      <td>1</td>\n",
              "      <td>['email', 'phone']</td>\n",
              "      <td>t</td>\n",
              "      <td>t</td>\n",
              "      <td>38.720260</td>\n",
              "      <td>-9.124700</td>\n",
              "      <td>...</td>\n",
              "      <td>2</td>\n",
              "      <td>3</td>\n",
              "      <td>11</td>\n",
              "      <td>27</td>\n",
              "      <td>297</td>\n",
              "      <td>4</td>\n",
              "      <td>4.79</td>\n",
              "      <td>t</td>\n",
              "      <td>1</td>\n",
              "      <td>1.70</td>\n",
              "    </tr>\n",
              "    <tr>\n",
              "      <th>20094</th>\n",
              "      <td>NaN</td>\n",
              "      <td>NaN</td>\n",
              "      <td>NaN</td>\n",
              "      <td>f</td>\n",
              "      <td>2</td>\n",
              "      <td>['email', 'phone']</td>\n",
              "      <td>t</td>\n",
              "      <td>t</td>\n",
              "      <td>38.718730</td>\n",
              "      <td>-9.122120</td>\n",
              "      <td>...</td>\n",
              "      <td>2</td>\n",
              "      <td>0</td>\n",
              "      <td>7</td>\n",
              "      <td>27</td>\n",
              "      <td>92</td>\n",
              "      <td>3</td>\n",
              "      <td>4.59</td>\n",
              "      <td>f</td>\n",
              "      <td>2</td>\n",
              "      <td>4.26</td>\n",
              "    </tr>\n",
              "    <tr>\n",
              "      <th>20095</th>\n",
              "      <td>NaN</td>\n",
              "      <td>NaN</td>\n",
              "      <td>NaN</td>\n",
              "      <td>f</td>\n",
              "      <td>792</td>\n",
              "      <td>['email', 'phone']</td>\n",
              "      <td>t</td>\n",
              "      <td>f</td>\n",
              "      <td>38.722880</td>\n",
              "      <td>-9.140850</td>\n",
              "      <td>...</td>\n",
              "      <td>1</td>\n",
              "      <td>0</td>\n",
              "      <td>0</td>\n",
              "      <td>0</td>\n",
              "      <td>94</td>\n",
              "      <td>0</td>\n",
              "      <td>2.00</td>\n",
              "      <td>t</td>\n",
              "      <td>97</td>\n",
              "      <td>0.05</td>\n",
              "    </tr>\n",
              "    <tr>\n",
              "      <th>20096</th>\n",
              "      <td>within an hour</td>\n",
              "      <td>100%</td>\n",
              "      <td>100%</td>\n",
              "      <td>f</td>\n",
              "      <td>16</td>\n",
              "      <td>['email', 'phone']</td>\n",
              "      <td>t</td>\n",
              "      <td>t</td>\n",
              "      <td>38.964160</td>\n",
              "      <td>-9.416860</td>\n",
              "      <td>...</td>\n",
              "      <td>3</td>\n",
              "      <td>7</td>\n",
              "      <td>8</td>\n",
              "      <td>20</td>\n",
              "      <td>122</td>\n",
              "      <td>2</td>\n",
              "      <td>4.75</td>\n",
              "      <td>t</td>\n",
              "      <td>16</td>\n",
              "      <td>1.80</td>\n",
              "    </tr>\n",
              "  </tbody>\n",
              "</table>\n",
              "<p>20097 rows × 31 columns</p>\n",
              "</div>\n",
              "    <div class=\"colab-df-buttons\">\n",
              "\n",
              "  <div class=\"colab-df-container\">\n",
              "    <button class=\"colab-df-convert\" onclick=\"convertToInteractive('df-bfbbab6c-1a13-408f-bef3-b5273d641577')\"\n",
              "            title=\"Convert this dataframe to an interactive table.\"\n",
              "            style=\"display:none;\">\n",
              "\n",
              "  <svg xmlns=\"http://www.w3.org/2000/svg\" height=\"24px\" viewBox=\"0 -960 960 960\">\n",
              "    <path d=\"M120-120v-720h720v720H120Zm60-500h600v-160H180v160Zm220 220h160v-160H400v160Zm0 220h160v-160H400v160ZM180-400h160v-160H180v160Zm440 0h160v-160H620v160ZM180-180h160v-160H180v160Zm440 0h160v-160H620v160Z\"/>\n",
              "  </svg>\n",
              "    </button>\n",
              "\n",
              "  <style>\n",
              "    .colab-df-container {\n",
              "      display:flex;\n",
              "      gap: 12px;\n",
              "    }\n",
              "\n",
              "    .colab-df-convert {\n",
              "      background-color: #E8F0FE;\n",
              "      border: none;\n",
              "      border-radius: 50%;\n",
              "      cursor: pointer;\n",
              "      display: none;\n",
              "      fill: #1967D2;\n",
              "      height: 32px;\n",
              "      padding: 0 0 0 0;\n",
              "      width: 32px;\n",
              "    }\n",
              "\n",
              "    .colab-df-convert:hover {\n",
              "      background-color: #E2EBFA;\n",
              "      box-shadow: 0px 1px 2px rgba(60, 64, 67, 0.3), 0px 1px 3px 1px rgba(60, 64, 67, 0.15);\n",
              "      fill: #174EA6;\n",
              "    }\n",
              "\n",
              "    .colab-df-buttons div {\n",
              "      margin-bottom: 4px;\n",
              "    }\n",
              "\n",
              "    [theme=dark] .colab-df-convert {\n",
              "      background-color: #3B4455;\n",
              "      fill: #D2E3FC;\n",
              "    }\n",
              "\n",
              "    [theme=dark] .colab-df-convert:hover {\n",
              "      background-color: #434B5C;\n",
              "      box-shadow: 0px 1px 3px 1px rgba(0, 0, 0, 0.15);\n",
              "      filter: drop-shadow(0px 1px 2px rgba(0, 0, 0, 0.3));\n",
              "      fill: #FFFFFF;\n",
              "    }\n",
              "  </style>\n",
              "\n",
              "    <script>\n",
              "      const buttonEl =\n",
              "        document.querySelector('#df-bfbbab6c-1a13-408f-bef3-b5273d641577 button.colab-df-convert');\n",
              "      buttonEl.style.display =\n",
              "        google.colab.kernel.accessAllowed ? 'block' : 'none';\n",
              "\n",
              "      async function convertToInteractive(key) {\n",
              "        const element = document.querySelector('#df-bfbbab6c-1a13-408f-bef3-b5273d641577');\n",
              "        const dataTable =\n",
              "          await google.colab.kernel.invokeFunction('convertToInteractive',\n",
              "                                                    [key], {});\n",
              "        if (!dataTable) return;\n",
              "\n",
              "        const docLinkHtml = 'Like what you see? Visit the ' +\n",
              "          '<a target=\"_blank\" href=https://colab.research.google.com/notebooks/data_table.ipynb>data table notebook</a>'\n",
              "          + ' to learn more about interactive tables.';\n",
              "        element.innerHTML = '';\n",
              "        dataTable['output_type'] = 'display_data';\n",
              "        await google.colab.output.renderOutput(dataTable, element);\n",
              "        const docLink = document.createElement('div');\n",
              "        docLink.innerHTML = docLinkHtml;\n",
              "        element.appendChild(docLink);\n",
              "      }\n",
              "    </script>\n",
              "  </div>\n",
              "\n",
              "\n",
              "<div id=\"df-49408598-a948-462d-a902-37064559de50\">\n",
              "  <button class=\"colab-df-quickchart\" onclick=\"quickchart('df-49408598-a948-462d-a902-37064559de50')\"\n",
              "            title=\"Suggest charts\"\n",
              "            style=\"display:none;\">\n",
              "\n",
              "<svg xmlns=\"http://www.w3.org/2000/svg\" height=\"24px\"viewBox=\"0 0 24 24\"\n",
              "     width=\"24px\">\n",
              "    <g>\n",
              "        <path d=\"M19 3H5c-1.1 0-2 .9-2 2v14c0 1.1.9 2 2 2h14c1.1 0 2-.9 2-2V5c0-1.1-.9-2-2-2zM9 17H7v-7h2v7zm4 0h-2V7h2v10zm4 0h-2v-4h2v4z\"/>\n",
              "    </g>\n",
              "</svg>\n",
              "  </button>\n",
              "\n",
              "<style>\n",
              "  .colab-df-quickchart {\n",
              "      --bg-color: #E8F0FE;\n",
              "      --fill-color: #1967D2;\n",
              "      --hover-bg-color: #E2EBFA;\n",
              "      --hover-fill-color: #174EA6;\n",
              "      --disabled-fill-color: #AAA;\n",
              "      --disabled-bg-color: #DDD;\n",
              "  }\n",
              "\n",
              "  [theme=dark] .colab-df-quickchart {\n",
              "      --bg-color: #3B4455;\n",
              "      --fill-color: #D2E3FC;\n",
              "      --hover-bg-color: #434B5C;\n",
              "      --hover-fill-color: #FFFFFF;\n",
              "      --disabled-bg-color: #3B4455;\n",
              "      --disabled-fill-color: #666;\n",
              "  }\n",
              "\n",
              "  .colab-df-quickchart {\n",
              "    background-color: var(--bg-color);\n",
              "    border: none;\n",
              "    border-radius: 50%;\n",
              "    cursor: pointer;\n",
              "    display: none;\n",
              "    fill: var(--fill-color);\n",
              "    height: 32px;\n",
              "    padding: 0;\n",
              "    width: 32px;\n",
              "  }\n",
              "\n",
              "  .colab-df-quickchart:hover {\n",
              "    background-color: var(--hover-bg-color);\n",
              "    box-shadow: 0 1px 2px rgba(60, 64, 67, 0.3), 0 1px 3px 1px rgba(60, 64, 67, 0.15);\n",
              "    fill: var(--button-hover-fill-color);\n",
              "  }\n",
              "\n",
              "  .colab-df-quickchart-complete:disabled,\n",
              "  .colab-df-quickchart-complete:disabled:hover {\n",
              "    background-color: var(--disabled-bg-color);\n",
              "    fill: var(--disabled-fill-color);\n",
              "    box-shadow: none;\n",
              "  }\n",
              "\n",
              "  .colab-df-spinner {\n",
              "    border: 2px solid var(--fill-color);\n",
              "    border-color: transparent;\n",
              "    border-bottom-color: var(--fill-color);\n",
              "    animation:\n",
              "      spin 1s steps(1) infinite;\n",
              "  }\n",
              "\n",
              "  @keyframes spin {\n",
              "    0% {\n",
              "      border-color: transparent;\n",
              "      border-bottom-color: var(--fill-color);\n",
              "      border-left-color: var(--fill-color);\n",
              "    }\n",
              "    20% {\n",
              "      border-color: transparent;\n",
              "      border-left-color: var(--fill-color);\n",
              "      border-top-color: var(--fill-color);\n",
              "    }\n",
              "    30% {\n",
              "      border-color: transparent;\n",
              "      border-left-color: var(--fill-color);\n",
              "      border-top-color: var(--fill-color);\n",
              "      border-right-color: var(--fill-color);\n",
              "    }\n",
              "    40% {\n",
              "      border-color: transparent;\n",
              "      border-right-color: var(--fill-color);\n",
              "      border-top-color: var(--fill-color);\n",
              "    }\n",
              "    60% {\n",
              "      border-color: transparent;\n",
              "      border-right-color: var(--fill-color);\n",
              "    }\n",
              "    80% {\n",
              "      border-color: transparent;\n",
              "      border-right-color: var(--fill-color);\n",
              "      border-bottom-color: var(--fill-color);\n",
              "    }\n",
              "    90% {\n",
              "      border-color: transparent;\n",
              "      border-bottom-color: var(--fill-color);\n",
              "    }\n",
              "  }\n",
              "</style>\n",
              "\n",
              "  <script>\n",
              "    async function quickchart(key) {\n",
              "      const quickchartButtonEl =\n",
              "        document.querySelector('#' + key + ' button');\n",
              "      quickchartButtonEl.disabled = true;  // To prevent multiple clicks.\n",
              "      quickchartButtonEl.classList.add('colab-df-spinner');\n",
              "      try {\n",
              "        const charts = await google.colab.kernel.invokeFunction(\n",
              "            'suggestCharts', [key], {});\n",
              "      } catch (error) {\n",
              "        console.error('Error during call to suggestCharts:', error);\n",
              "      }\n",
              "      quickchartButtonEl.classList.remove('colab-df-spinner');\n",
              "      quickchartButtonEl.classList.add('colab-df-quickchart-complete');\n",
              "    }\n",
              "    (() => {\n",
              "      let quickchartButtonEl =\n",
              "        document.querySelector('#df-49408598-a948-462d-a902-37064559de50 button');\n",
              "      quickchartButtonEl.style.display =\n",
              "        google.colab.kernel.accessAllowed ? 'block' : 'none';\n",
              "    })();\n",
              "  </script>\n",
              "</div>\n",
              "    </div>\n",
              "  </div>\n"
            ]
          },
          "metadata": {},
          "execution_count": 12
        }
      ]
    },
    {
      "cell_type": "code",
      "source": [
        "data.info()"
      ],
      "metadata": {
        "colab": {
          "base_uri": "https://localhost:8080/"
        },
        "id": "qGU2Pga__jFn",
        "outputId": "272bf33c-a73a-4d3f-b3e8-6b9a3433815e"
      },
      "execution_count": null,
      "outputs": [
        {
          "output_type": "stream",
          "name": "stdout",
          "text": [
            "<class 'pandas.core.frame.DataFrame'>\n",
            "RangeIndex: 20097 entries, 0 to 20096\n",
            "Data columns (total 31 columns):\n",
            " #   Column                          Non-Null Count  Dtype  \n",
            "---  ------                          --------------  -----  \n",
            " 0   host_response_time              17694 non-null  object \n",
            " 1   host_response_rate              17694 non-null  object \n",
            " 2   host_acceptance_rate            18654 non-null  object \n",
            " 3   host_is_superhost               20078 non-null  object \n",
            " 4   host_listings_count             20097 non-null  int64  \n",
            " 5   host_verifications              20097 non-null  object \n",
            " 6   host_has_profile_pic            20097 non-null  object \n",
            " 7   host_identity_verified          20097 non-null  object \n",
            " 8   latitude                        20097 non-null  float64\n",
            " 9   longitude                       20097 non-null  float64\n",
            " 10  property_type                   20097 non-null  object \n",
            " 11  room_type                       20097 non-null  object \n",
            " 12  accommodates                    20097 non-null  int64  \n",
            " 13  bathrooms                       0 non-null      float64\n",
            " 14  bathrooms_text                  20068 non-null  object \n",
            " 15  bedrooms                        19228 non-null  float64\n",
            " 16  beds                            19912 non-null  float64\n",
            " 17  amenities                       20097 non-null  object \n",
            " 18  price                           20097 non-null  object \n",
            " 19  minimum_nights                  20097 non-null  int64  \n",
            " 20  maximum_nights                  20097 non-null  int64  \n",
            " 21  minimum_minimum_nights          20097 non-null  int64  \n",
            " 22  availability_30                 20097 non-null  int64  \n",
            " 23  availability_60                 20097 non-null  int64  \n",
            " 24  availability_90                 20097 non-null  int64  \n",
            " 25  availability_365                20097 non-null  int64  \n",
            " 26  number_of_reviews_l30d          20097 non-null  int64  \n",
            " 27  review_scores_rating            17773 non-null  float64\n",
            " 28  instant_bookable                20097 non-null  object \n",
            " 29  calculated_host_listings_count  20097 non-null  int64  \n",
            " 30  reviews_per_month               17773 non-null  float64\n",
            "dtypes: float64(7), int64(11), object(13)\n",
            "memory usage: 4.8+ MB\n"
          ]
        }
      ]
    },
    {
      "cell_type": "markdown",
      "source": [
        "#4.Data Cleansing\n",
        "- Data types verification, data corrections , changes on data types, data visualization through histograms"
      ],
      "metadata": {
        "id": "oJV45ncKBd8Z"
      }
    },
    {
      "cell_type": "code",
      "source": [
        "# How many #N/A data we have\n",
        "na_cols = (data.isna().sum() > 0)\n",
        "data.loc[:, na_cols].isna().sum().sort_values(ascending=False)"
      ],
      "metadata": {
        "colab": {
          "base_uri": "https://localhost:8080/"
        },
        "id": "UovpzYzkBc7G",
        "outputId": "633e460c-80bc-4e51-d24d-256d03da5345"
      },
      "execution_count": null,
      "outputs": [
        {
          "output_type": "execute_result",
          "data": {
            "text/plain": [
              "bathrooms               20097\n",
              "host_response_time       2403\n",
              "host_response_rate       2403\n",
              "review_scores_rating     2324\n",
              "reviews_per_month        2324\n",
              "host_acceptance_rate     1443\n",
              "bedrooms                  869\n",
              "beds                      185\n",
              "bathrooms_text             29\n",
              "host_is_superhost          19\n",
              "dtype: int64"
            ]
          },
          "metadata": {},
          "execution_count": 14
        }
      ]
    },
    {
      "cell_type": "code",
      "source": [
        "# Bathrooms - data completion based on bathrooms_text, changing type and data blanks filing\n",
        "data['bathrooms_text'].unique()"
      ],
      "metadata": {
        "colab": {
          "base_uri": "https://localhost:8080/"
        },
        "id": "mMKsD90DHOvN",
        "outputId": "75fbc577-ec94-400b-970a-4038c6a4c071"
      },
      "execution_count": null,
      "outputs": [
        {
          "output_type": "execute_result",
          "data": {
            "text/plain": [
              "array(['1 bath', '2 shared baths', '2 baths', '1 shared bath',\n",
              "       '1 private bath', '1.5 baths', '2.5 baths', '1.5 shared baths',\n",
              "       '3 baths', '4.5 baths', '3 shared baths', '4 baths',\n",
              "       '2.5 shared baths', nan, '3.5 shared baths', '6.5 baths',\n",
              "       '3.5 baths', '5 baths', 'Half-bath', '4 shared baths',\n",
              "       '6.5 shared baths', '10 shared baths', '9 baths', '0 baths',\n",
              "       '14 baths', '8.5 baths', '6 baths', '18 baths', '6 shared baths',\n",
              "       '8 shared baths', '5.5 baths', '7 baths', '7.5 baths', '15 baths',\n",
              "       'Shared half-bath', '9.5 baths', '8 baths', '0 shared baths',\n",
              "       '5 shared baths', '10 baths', '11 baths', '10.5 baths',\n",
              "       '4.5 shared baths', '7.5 shared baths', '11.5 baths',\n",
              "       'Private half-bath', '16.5 baths', '5.5 shared baths', '12 baths'],\n",
              "      dtype=object)"
            ]
          },
          "metadata": {},
          "execution_count": 15
        }
      ]
    },
    {
      "cell_type": "code",
      "source": [
        "data.bathrooms_text.str.split().str[0]"
      ],
      "metadata": {
        "colab": {
          "base_uri": "https://localhost:8080/"
        },
        "id": "IhmZfN3bURR9",
        "outputId": "5da7f2dc-3957-4f6e-bcdd-191c61e2267c"
      },
      "execution_count": null,
      "outputs": [
        {
          "output_type": "execute_result",
          "data": {
            "text/plain": [
              "0        1\n",
              "1        2\n",
              "2        1\n",
              "3        2\n",
              "4        1\n",
              "        ..\n",
              "20092    1\n",
              "20093    1\n",
              "20094    2\n",
              "20095    2\n",
              "20096    2\n",
              "Name: bathrooms_text, Length: 20097, dtype: object"
            ]
          },
          "metadata": {},
          "execution_count": 16
        }
      ]
    },
    {
      "cell_type": "code",
      "source": [
        "data['bathrooms'] = np.where(data['bathrooms_text'].str.contains('half', na=False, case=False),\n",
        "         0.5,\n",
        "         data['bathrooms_text'].str.split().str[0]).astype(np.float64)"
      ],
      "metadata": {
        "id": "hN4EKEflURzx"
      },
      "execution_count": null,
      "outputs": []
    },
    {
      "cell_type": "code",
      "source": [
        "data.bathrooms"
      ],
      "metadata": {
        "colab": {
          "base_uri": "https://localhost:8080/"
        },
        "id": "EjXIT_tCUSTz",
        "outputId": "54393612-8bd7-46a4-f325-a18eaa0632f0"
      },
      "execution_count": null,
      "outputs": [
        {
          "output_type": "execute_result",
          "data": {
            "text/plain": [
              "0        1.0\n",
              "1        2.0\n",
              "2        1.0\n",
              "3        2.0\n",
              "4        1.0\n",
              "        ... \n",
              "20092    1.0\n",
              "20093    1.0\n",
              "20094    2.0\n",
              "20095    2.0\n",
              "20096    2.0\n",
              "Name: bathrooms, Length: 20097, dtype: float64"
            ]
          },
          "metadata": {},
          "execution_count": 18
        }
      ]
    },
    {
      "cell_type": "code",
      "source": [
        "data['bathrooms'].unique()"
      ],
      "metadata": {
        "colab": {
          "base_uri": "https://localhost:8080/"
        },
        "id": "XGi8zUht2hWu",
        "outputId": "95eed002-33af-4e0d-8ec2-928d26a38701"
      },
      "execution_count": null,
      "outputs": [
        {
          "output_type": "execute_result",
          "data": {
            "text/plain": [
              "array([ 1. ,  2. ,  1.5,  2.5,  3. ,  4.5,  4. ,  nan,  3.5,  6.5,  5. ,\n",
              "        0.5, 10. ,  9. ,  0. , 14. ,  8.5,  6. , 18. ,  8. ,  5.5,  7. ,\n",
              "        7.5, 15. ,  9.5, 11. , 10.5, 11.5, 16.5, 12. ])"
            ]
          },
          "metadata": {},
          "execution_count": 19
        }
      ]
    },
    {
      "cell_type": "code",
      "source": [
        "data.info()"
      ],
      "metadata": {
        "colab": {
          "base_uri": "https://localhost:8080/"
        },
        "id": "4MIQuGxGaRpw",
        "outputId": "4ab67ebf-f74b-4ed5-e644-d521db365e68"
      },
      "execution_count": null,
      "outputs": [
        {
          "output_type": "stream",
          "name": "stdout",
          "text": [
            "<class 'pandas.core.frame.DataFrame'>\n",
            "RangeIndex: 20097 entries, 0 to 20096\n",
            "Data columns (total 31 columns):\n",
            " #   Column                          Non-Null Count  Dtype  \n",
            "---  ------                          --------------  -----  \n",
            " 0   host_response_time              17694 non-null  object \n",
            " 1   host_response_rate              17694 non-null  object \n",
            " 2   host_acceptance_rate            18654 non-null  object \n",
            " 3   host_is_superhost               20078 non-null  object \n",
            " 4   host_listings_count             20097 non-null  int64  \n",
            " 5   host_verifications              20097 non-null  object \n",
            " 6   host_has_profile_pic            20097 non-null  object \n",
            " 7   host_identity_verified          20097 non-null  object \n",
            " 8   latitude                        20097 non-null  float64\n",
            " 9   longitude                       20097 non-null  float64\n",
            " 10  property_type                   20097 non-null  object \n",
            " 11  room_type                       20097 non-null  object \n",
            " 12  accommodates                    20097 non-null  int64  \n",
            " 13  bathrooms                       20068 non-null  float64\n",
            " 14  bathrooms_text                  20068 non-null  object \n",
            " 15  bedrooms                        19228 non-null  float64\n",
            " 16  beds                            19912 non-null  float64\n",
            " 17  amenities                       20097 non-null  object \n",
            " 18  price                           20097 non-null  object \n",
            " 19  minimum_nights                  20097 non-null  int64  \n",
            " 20  maximum_nights                  20097 non-null  int64  \n",
            " 21  minimum_minimum_nights          20097 non-null  int64  \n",
            " 22  availability_30                 20097 non-null  int64  \n",
            " 23  availability_60                 20097 non-null  int64  \n",
            " 24  availability_90                 20097 non-null  int64  \n",
            " 25  availability_365                20097 non-null  int64  \n",
            " 26  number_of_reviews_l30d          20097 non-null  int64  \n",
            " 27  review_scores_rating            17773 non-null  float64\n",
            " 28  instant_bookable                20097 non-null  object \n",
            " 29  calculated_host_listings_count  20097 non-null  int64  \n",
            " 30  reviews_per_month               17773 non-null  float64\n",
            "dtypes: float64(7), int64(11), object(13)\n",
            "memory usage: 4.8+ MB\n"
          ]
        }
      ]
    },
    {
      "cell_type": "code",
      "source": [
        "# How many #N/A data we have now\n",
        "na_cols = (data.isna().sum() > 0)\n",
        "data.loc[:, na_cols].isna().sum().sort_values(ascending=False)"
      ],
      "metadata": {
        "colab": {
          "base_uri": "https://localhost:8080/"
        },
        "id": "qTHBctIzao_x",
        "outputId": "6dbbb354-0d5f-4412-f35e-139d79c96e61"
      },
      "execution_count": null,
      "outputs": [
        {
          "output_type": "execute_result",
          "data": {
            "text/plain": [
              "host_response_time      2403\n",
              "host_response_rate      2403\n",
              "review_scores_rating    2324\n",
              "reviews_per_month       2324\n",
              "host_acceptance_rate    1443\n",
              "bedrooms                 869\n",
              "beds                     185\n",
              "bathrooms                 29\n",
              "bathrooms_text            29\n",
              "host_is_superhost         19\n",
              "dtype: int64"
            ]
          },
          "metadata": {},
          "execution_count": 21
        }
      ]
    },
    {
      "cell_type": "code",
      "source": [
        "data.drop(['bathrooms_text'], axis='columns', inplace=True)# we can drop 'bathrooms_text' after bathroom data cleansing"
      ],
      "metadata": {
        "id": "FYxedZ7AbSrf"
      },
      "execution_count": null,
      "outputs": []
    },
    {
      "cell_type": "code",
      "source": [
        "data.bathrooms.hist(bins=30)"
      ],
      "metadata": {
        "colab": {
          "base_uri": "https://localhost:8080/",
          "height": 452
        },
        "id": "w3vYW5A-bl-F",
        "outputId": "1d386ec0-fff0-4bc1-b563-50c74a84c197"
      },
      "execution_count": null,
      "outputs": [
        {
          "output_type": "execute_result",
          "data": {
            "text/plain": [
              "<Axes: >"
            ]
          },
          "metadata": {},
          "execution_count": 23
        },
        {
          "output_type": "display_data",
          "data": {
            "text/plain": [
              "<Figure size 640x480 with 1 Axes>"
            ],
            "image/png": "[encoded data removed]"
          },
          "metadata": {}
        }
      ]
    },
    {
      "cell_type": "code",
      "source": [
        "#nan completion by 'most_frequent' value for bathrooms\n",
        "imp = SimpleImputer(missing_values=np.nan, strategy='most_frequent')\n",
        "data['bathrooms'] = imp.fit_transform(data[['bathrooms']])"
      ],
      "metadata": {
        "id": "aVMRrHAYxul0"
      },
      "execution_count": null,
      "outputs": []
    },
    {
      "cell_type": "code",
      "source": [
        "# Host_response_time - no data modifications, we leave nan as they are, it's a categorical value\n",
        "data['host_response_time'].unique()"
      ],
      "metadata": {
        "colab": {
          "base_uri": "https://localhost:8080/"
        },
        "id": "kiZD4pzxhDnC",
        "outputId": "26f72908-f910-4d05-eece-616d00d2c18d"
      },
      "execution_count": null,
      "outputs": [
        {
          "output_type": "execute_result",
          "data": {
            "text/plain": [
              "array(['within an hour', nan, 'a few days or more', 'within a few hours',\n",
              "       'within a day'], dtype=object)"
            ]
          },
          "metadata": {},
          "execution_count": 25
        }
      ]
    },
    {
      "cell_type": "code",
      "source": [
        "data['host_response_time'] = data['host_response_time'].astype('category') # changing 'host_response_time' to category type"
      ],
      "metadata": {
        "id": "k7zWpZwsc3L8"
      },
      "execution_count": null,
      "outputs": []
    },
    {
      "cell_type": "code",
      "source": [
        "# Price - data completion based on type changing from object to np.float64 and outliers elimination\n",
        "data['price'].unique()"
      ],
      "metadata": {
        "id": "qnAlfQ3PybHo",
        "colab": {
          "base_uri": "https://localhost:8080/"
        },
        "outputId": "17c1fe08-5bce-4e92-9f5f-74e41e6ad76a"
      },
      "execution_count": null,
      "outputs": [
        {
          "output_type": "execute_result",
          "data": {
            "text/plain": [
              "array(['$161.00', '$81.00', '$94.00', '$77.00', '$110.00', '$95.00',\n",
              "       '$144.00', '$500.00', '$65.00', '$78.00', '$111.00', '$60.00',\n",
              "       '$44.00', '$99.00', '$63.00', '$70.00', '$35.00', '$84.00',\n",
              "       '$75.00', '$219.00', '$113.00', '$30.00', '$89.00', '$59.00',\n",
              "       '$90.00', '$76.00', '$220.00', '$124.00', '$253.00', '$145.00',\n",
              "       '$80.00', '$179.00', '$154.00', '$52.00', '$64.00', '$190.00',\n",
              "       '$69.00', '$29.00', '$416.00', '$37.00', '$55.00', '$50.00',\n",
              "       '$68.00', '$85.00', '$252.00', '$306.00', '$454.00', '$54.00',\n",
              "       '$5,879.00', '$98.00', '$48.00', '$49.00', '$215.00', '$133.00',\n",
              "       '$45.00', '$186.00', '$250.00', '$200.00', '$150.00', '$120.00',\n",
              "       '$26.00', '$251.00', '$351.00', '$350.00', '$142.00', '$105.00',\n",
              "       '$96.00', '$205.00', '$180.00', '$374.00', '$28.00', '$100.00',\n",
              "       '$140.00', '$104.00', '$66.00', '$480.00', '$101.00', '$103.00',\n",
              "       '$25.00', '$130.00', '$62.00', '$73.00', '$34.00', '$234.00',\n",
              "       '$82.00', '$444.00', '$114.00', '$61.00', '$51.00', '$47.00',\n",
              "       '$129.00', '$117.00', '$32.00', '$24.00', '$21.00', '$135.00',\n",
              "       '$122.00', '$102.00', '$112.00', '$72.00', '$217.00', '$20.00',\n",
              "       '$136.00', '$57.00', '$127.00', '$185.00', '$109.00', '$189.00',\n",
              "       '$160.00', '$149.00', '$201.00', '$108.00', '$15.00', '$92.00',\n",
              "       '$178.00', '$46.00', '$87.00', '$74.00', '$207.00', '$36.00',\n",
              "       '$194.00', '$33.00', '$88.00', '$125.00', '$187.00', '$188.00',\n",
              "       '$40.00', '$280.00', '$1,850.00', '$304.00', '$71.00', '$156.00',\n",
              "       '$2,415.00', '$389.00', '$86.00', '$23.00', '$134.00', '$83.00',\n",
              "       '$260.00', '$56.00', '$241.00', '$590.00', '$93.00', '$79.00',\n",
              "       '$141.00', '$147.00', '$91.00', '$138.00', '$226.00', '$616.00',\n",
              "       '$41.00', '$67.00', '$107.00', '$97.00', '$139.00', '$119.00',\n",
              "       '$116.00', '$999.00', '$17.00', '$263.00', '$184.00', '$157.00',\n",
              "       '$175.00', '$126.00', '$239.00', '$249.00', '$123.00', '$158.00',\n",
              "       '$146.00', '$221.00', '$237.00', '$153.00', '$183.00', '$380.00',\n",
              "       '$830.00', '$132.00', '$230.00', '$750.00', '$106.00', '$121.00',\n",
              "       '$163.00', '$238.00', '$137.00', '$301.00', '$1,000.00', '$214.00',\n",
              "       '$148.00', '$370.00', '$192.00', '$552.00', '$177.00', '$53.00',\n",
              "       '$172.00', '$270.00', '$38.00', '$484.00', '$540.00', '$58.00',\n",
              "       '$198.00', '$265.00', '$168.00', '$118.00', '$387.00', '$213.00',\n",
              "       '$225.00', '$261.00', '$196.00', '$162.00', '$790.00', '$820.00',\n",
              "       '$267.00', '$115.00', '$143.00', '$169.00', '$210.00', '$181.00',\n",
              "       '$170.00', '$206.00', '$128.00', '$284.00', '$313.00', '$268.00',\n",
              "       '$300.00', '$204.00', '$233.00', '$686.00', '$309.00', '$364.00',\n",
              "       '$191.00', '$227.00', '$269.00', '$305.00', '$400.00', '$222.00',\n",
              "       '$42.00', '$152.00', '$366.00', '$164.00', '$315.00', '$218.00',\n",
              "       '$427.00', '$468.00', '$19.00', '$331.00', '$243.00', '$31.00',\n",
              "       '$299.00', '$469.00', '$165.00', '$255.00', '$743.00', '$308.00',\n",
              "       '$131.00', '$193.00', '$271.00', '$291.00', '$259.00', '$403.00',\n",
              "       '$450.00', '$171.00', '$203.00', '$336.00', '$43.00', '$529.00',\n",
              "       '$39.00', '$900.00', '$176.00', '$182.00', '$298.00', '$386.00',\n",
              "       '$240.00', '$151.00', '$294.00', '$375.00', '$199.00', '$195.00',\n",
              "       '$2,470.00', '$155.00', '$22.00', '$868.00', '$318.00', '$514.00',\n",
              "       '$528.00', '$2,375.00', '$319.00', '$174.00', '$865.00', '$604.00',\n",
              "       '$173.00', '$208.00', '$290.00', '$360.00', '$435.00', '$594.00',\n",
              "       '$329.00', '$569.00', '$482.00', '$353.00', '$13.00', '$550.00',\n",
              "       '$929.00', '$27.00', '$930.00', '$805.00', '$159.00', '$645.00',\n",
              "       '$1,141.00', '$599.00', '$973.00', '$1,426.00', '$295.00',\n",
              "       '$430.00', '$18.00', '$369.00', '$273.00', '$10.00', '$316.00',\n",
              "       '$289.00', '$773.00', '$310.00', '$700.00', '$367.00', '$495.00',\n",
              "       '$414.00', '$650.00', '$424.00', '$229.00', '$3,533.00', '$12.00',\n",
              "       '$887.00', '$786.00', '$1,177.00', '$502.00', '$287.00', '$333.00',\n",
              "       '$274.00', '$246.00', '$212.00', '$14.00', '$644.00', '$783.00',\n",
              "       '$342.00', '$419.00', '$354.00', '$167.00', '$244.00', '$211.00',\n",
              "       '$441.00', '$292.00', '$571.00', '$209.00', '$327.00', '$860.00',\n",
              "       '$245.00', '$537.00', '$216.00', '$600.00', '$852.00', '$800.00',\n",
              "       '$223.00', '$264.00', '$6,376.00', '$690.00', '$9,100.00',\n",
              "       '$899.00', '$460.00', '$869.00', '$325.00', '$850.00', '$504.00',\n",
              "       '$1,907.00', '$405.00', '$197.00', '$719.00', '$395.00',\n",
              "       '$9,970.00', '$362.00', '$489.00', '$16.00', '$276.00',\n",
              "       '$1,350.00', '$286.00', '$801.00', '$457.00', '$780.00',\n",
              "       '$1,111.00', '$772.00', '$452.00', '$1,029.00', '$672.00',\n",
              "       '$685.00', '$363.00', '$340.00', '$343.00', '$3,000.00', '$390.00',\n",
              "       '$585.00', '$434.00', '$554.00', '$520.00', '$368.00', '$478.00',\n",
              "       '$202.00', '$236.00', '$428.00', '$8,000.00', '$341.00', '$437.00',\n",
              "       '$517.00', '$557.00', '$2,250.00', '$282.00', '$275.00', '$321.00',\n",
              "       '$326.00', '$314.00', '$330.00', '$1,114.00', '$288.00', '$0.00',\n",
              "       '$420.00', '$499.00', '$2,000.00', '$505.00', '$696.00', '$355.00',\n",
              "       '$556.00', '$323.00', '$1,520.00', '$232.00', '$429.00', '$328.00',\n",
              "       '$479.00', '$440.00', '$1,035.00', '$792.00', '$443.00', '$231.00',\n",
              "       '$597.00', '$166.00', '$2,300.00', '$1,500.00', '$1,440.00',\n",
              "       '$385.00', '$278.00', '$344.00', '$235.00', '$530.00', '$588.00',\n",
              "       '$345.00', '$664.00', '$359.00', '$509.00', '$525.00', '$1,495.00',\n",
              "       '$258.00', '$296.00', '$471.00', '$521.00', '$293.00', '$406.00',\n",
              "       '$277.00', '$391.00', '$1,050.00', '$765.00', '$281.00', '$320.00',\n",
              "       '$339.00', '$560.00', '$1,300.00', '$303.00', '$254.00', '$224.00',\n",
              "       '$533.00', '$408.00', '$257.00', '$279.00', '$312.00', '$641.00',\n",
              "       '$272.00', '$580.00', '$1,116.00', '$2,900.00', '$421.00',\n",
              "       '$15,000.00', '$358.00', '$349.00', '$356.00', '$228.00',\n",
              "       '$297.00', '$895.00', '$579.00', '$747.00', '$526.00', '$372.00',\n",
              "       '$242.00', '$617.00', '$477.00', '$511.00', '$337.00', '$465.00',\n",
              "       '$5,889.00', '$334.00', '$1,062.00', '$1,836.00', '$404.00',\n",
              "       '$347.00', '$551.00', '$567.00', '$1,380.00', '$1,610.00',\n",
              "       '$475.00', '$11.00', '$3,945.00', '$490.00', '$311.00', '$357.00',\n",
              "       '$266.00', '$950.00', '$1,512.00', '$402.00', '$371.00', '$470.00',\n",
              "       '$833.00', '$446.00', '$570.00', '$90,400.00', '$1,232.00',\n",
              "       '$1,200.00', '$1,961.00', '$861.00', '$307.00', '$658.00',\n",
              "       '$1,226.00', '$576.00', '$346.00', '$382.00', '$1,080.00',\n",
              "       '$630.00', '$586.00', '$256.00', '$8,081.00', '$598.00',\n",
              "       '$1,750.00', '$76,125.00', '$593.00', '$756.00', '$736.00',\n",
              "       '$779.00', '$654.00', '$348.00', '$6,367.00', '$768.00', '$396.00',\n",
              "       '$513.00', '$5,000.00', '$803.00', '$377.00', '$506.00', '$582.00',\n",
              "       '$332.00', '$1,100.00', '$1,180.00', '$365.00', '$989.00',\n",
              "       '$679.00', '$562.00', '$595.00', '$399.00', '$2,400.00', '$981.00',\n",
              "       '$285.00', '$409.00', '$4,000.00', '$1,573.00', '$467.00',\n",
              "       '$464.00', '$518.00', '$5,739.00', '$652.00', '$433.00',\n",
              "       '$8,125.00', '$568.00', '$352.00', '$388.00', '$581.00',\n",
              "       '$2,714.00', '$436.00', '$920.00', '$919.00', '$459.00', '$738.00',\n",
              "       '$907.00', '$670.00', '$799.00', '$411.00', '$412.00', '$8,500.00',\n",
              "       '$840.00', '$247.00', '$692.00', '$398.00', '$439.00', '$829.00',\n",
              "       '$770.00', '$1,400.00', '$620.00', '$4,879.00', '$629.00',\n",
              "       '$5,060.00', '$882.00', '$539.00', '$1,321.00', '$704.00',\n",
              "       '$378.00', '$2,625.00', '$442.00', '$863.00', '$660.00', '$486.00',\n",
              "       '$715.00', '$324.00', '$361.00', '$699.00', '$485.00', '$449.00',\n",
              "       '$814.00', '$3,140.00', '$498.00', '$379.00', '$785.00', '$547.00',\n",
              "       '$1,207.00', '$825.00', '$248.00', '$908.00', '$5,059.00',\n",
              "       '$462.00', '$693.00', '$1,150.00', '$338.00', '$451.00', '$575.00',\n",
              "       '$928.00', '$1,157.00', '$381.00', '$757.00', '$874.00', '$791.00',\n",
              "       '$527.00', '$431.00', '$611.00', '$415.00', '$422.00', '$461.00',\n",
              "       '$455.00'], dtype=object)"
            ]
          },
          "metadata": {},
          "execution_count": 27
        }
      ]
    },
    {
      "cell_type": "code",
      "source": [
        "data.rename(columns={'price': 'price_text'}, inplace=True)"
      ],
      "metadata": {
        "id": "nvZ3Y39Sonu_"
      },
      "execution_count": null,
      "outputs": []
    },
    {
      "cell_type": "code",
      "source": [
        "data['price'] = data['price_text'].str.replace('[$,]', '', regex=True).astype(np.float64)"
      ],
      "metadata": {
        "id": "BBu6PQw_orUO"
      },
      "execution_count": null,
      "outputs": []
    },
    {
      "cell_type": "code",
      "source": [
        "data['price'].unique()"
      ],
      "metadata": {
        "colab": {
          "base_uri": "https://localhost:8080/"
        },
        "id": "VRwzI3ZernfC",
        "outputId": "dabbdbe1-1013-4471-d3fa-385b85d520f5"
      },
      "execution_count": null,
      "outputs": [
        {
          "output_type": "execute_result",
          "data": {
            "text/plain": [
              "array([1.6100e+02, 8.1000e+01, 9.4000e+01, 7.7000e+01, 1.1000e+02,\n",
              "       9.5000e+01, 1.4400e+02, 5.0000e+02, 6.5000e+01, 7.8000e+01,\n",
              "       1.1100e+02, 6.0000e+01, 4.4000e+01, 9.9000e+01, 6.3000e+01,\n",
              "       7.0000e+01, 3.5000e+01, 8.4000e+01, 7.5000e+01, 2.1900e+02,\n",
              "       1.1300e+02, 3.0000e+01, 8.9000e+01, 5.9000e+01, 9.0000e+01,\n",
              "       7.6000e+01, 2.2000e+02, 1.2400e+02, 2.5300e+02, 1.4500e+02,\n",
              "       8.0000e+01, 1.7900e+02, 1.5400e+02, 5.2000e+01, 6.4000e+01,\n",
              "       1.9000e+02, 6.9000e+01, 2.9000e+01, 4.1600e+02, 3.7000e+01,\n",
              "       5.5000e+01, 5.0000e+01, 6.8000e+01, 8.5000e+01, 2.5200e+02,\n",
              "       3.0600e+02, 4.5400e+02, 5.4000e+01, 5.8790e+03, 9.8000e+01,\n",
              "       4.8000e+01, 4.9000e+01, 2.1500e+02, 1.3300e+02, 4.5000e+01,\n",
              "       1.8600e+02, 2.5000e+02, 2.0000e+02, 1.5000e+02, 1.2000e+02,\n",
              "       2.6000e+01, 2.5100e+02, 3.5100e+02, 3.5000e+02, 1.4200e+02,\n",
              "       1.0500e+02, 9.6000e+01, 2.0500e+02, 1.8000e+02, 3.7400e+02,\n",
              "       2.8000e+01, 1.0000e+02, 1.4000e+02, 1.0400e+02, 6.6000e+01,\n",
              "       4.8000e+02, 1.0100e+02, 1.0300e+02, 2.5000e+01, 1.3000e+02,\n",
              "       6.2000e+01, 7.3000e+01, 3.4000e+01, 2.3400e+02, 8.2000e+01,\n",
              "       4.4400e+02, 1.1400e+02, 6.1000e+01, 5.1000e+01, 4.7000e+01,\n",
              "       1.2900e+02, 1.1700e+02, 3.2000e+01, 2.4000e+01, 2.1000e+01,\n",
              "       1.3500e+02, 1.2200e+02, 1.0200e+02, 1.1200e+02, 7.2000e+01,\n",
              "       2.1700e+02, 2.0000e+01, 1.3600e+02, 5.7000e+01, 1.2700e+02,\n",
              "       1.8500e+02, 1.0900e+02, 1.8900e+02, 1.6000e+02, 1.4900e+02,\n",
              "       2.0100e+02, 1.0800e+02, 1.5000e+01, 9.2000e+01, 1.7800e+02,\n",
              "       4.6000e+01, 8.7000e+01, 7.4000e+01, 2.0700e+02, 3.6000e+01,\n",
              "       1.9400e+02, 3.3000e+01, 8.8000e+01, 1.2500e+02, 1.8700e+02,\n",
              "       1.8800e+02, 4.0000e+01, 2.8000e+02, 1.8500e+03, 3.0400e+02,\n",
              "       7.1000e+01, 1.5600e+02, 2.4150e+03, 3.8900e+02, 8.6000e+01,\n",
              "       2.3000e+01, 1.3400e+02, 8.3000e+01, 2.6000e+02, 5.6000e+01,\n",
              "       2.4100e+02, 5.9000e+02, 9.3000e+01, 7.9000e+01, 1.4100e+02,\n",
              "       1.4700e+02, 9.1000e+01, 1.3800e+02, 2.2600e+02, 6.1600e+02,\n",
              "       4.1000e+01, 6.7000e+01, 1.0700e+02, 9.7000e+01, 1.3900e+02,\n",
              "       1.1900e+02, 1.1600e+02, 9.9900e+02, 1.7000e+01, 2.6300e+02,\n",
              "       1.8400e+02, 1.5700e+02, 1.7500e+02, 1.2600e+02, 2.3900e+02,\n",
              "       2.4900e+02, 1.2300e+02, 1.5800e+02, 1.4600e+02, 2.2100e+02,\n",
              "       2.3700e+02, 1.5300e+02, 1.8300e+02, 3.8000e+02, 8.3000e+02,\n",
              "       1.3200e+02, 2.3000e+02, 7.5000e+02, 1.0600e+02, 1.2100e+02,\n",
              "       1.6300e+02, 2.3800e+02, 1.3700e+02, 3.0100e+02, 1.0000e+03,\n",
              "       2.1400e+02, 1.4800e+02, 3.7000e+02, 1.9200e+02, 5.5200e+02,\n",
              "       1.7700e+02, 5.3000e+01, 1.7200e+02, 2.7000e+02, 3.8000e+01,\n",
              "       4.8400e+02, 5.4000e+02, 5.8000e+01, 1.9800e+02, 2.6500e+02,\n",
              "       1.6800e+02, 1.1800e+02, 3.8700e+02, 2.1300e+02, 2.2500e+02,\n",
              "       2.6100e+02, 1.9600e+02, 1.6200e+02, 7.9000e+02, 8.2000e+02,\n",
              "       2.6700e+02, 1.1500e+02, 1.4300e+02, 1.6900e+02, 2.1000e+02,\n",
              "       1.8100e+02, 1.7000e+02, 2.0600e+02, 1.2800e+02, 2.8400e+02,\n",
              "       3.1300e+02, 2.6800e+02, 3.0000e+02, 2.0400e+02, 2.3300e+02,\n",
              "       6.8600e+02, 3.0900e+02, 3.6400e+02, 1.9100e+02, 2.2700e+02,\n",
              "       2.6900e+02, 3.0500e+02, 4.0000e+02, 2.2200e+02, 4.2000e+01,\n",
              "       1.5200e+02, 3.6600e+02, 1.6400e+02, 3.1500e+02, 2.1800e+02,\n",
              "       4.2700e+02, 4.6800e+02, 1.9000e+01, 3.3100e+02, 2.4300e+02,\n",
              "       3.1000e+01, 2.9900e+02, 4.6900e+02, 1.6500e+02, 2.5500e+02,\n",
              "       7.4300e+02, 3.0800e+02, 1.3100e+02, 1.9300e+02, 2.7100e+02,\n",
              "       2.9100e+02, 2.5900e+02, 4.0300e+02, 4.5000e+02, 1.7100e+02,\n",
              "       2.0300e+02, 3.3600e+02, 4.3000e+01, 5.2900e+02, 3.9000e+01,\n",
              "       9.0000e+02, 1.7600e+02, 1.8200e+02, 2.9800e+02, 3.8600e+02,\n",
              "       2.4000e+02, 1.5100e+02, 2.9400e+02, 3.7500e+02, 1.9900e+02,\n",
              "       1.9500e+02, 2.4700e+03, 1.5500e+02, 2.2000e+01, 8.6800e+02,\n",
              "       3.1800e+02, 5.1400e+02, 5.2800e+02, 2.3750e+03, 3.1900e+02,\n",
              "       1.7400e+02, 8.6500e+02, 6.0400e+02, 1.7300e+02, 2.0800e+02,\n",
              "       2.9000e+02, 3.6000e+02, 4.3500e+02, 5.9400e+02, 3.2900e+02,\n",
              "       5.6900e+02, 4.8200e+02, 3.5300e+02, 1.3000e+01, 5.5000e+02,\n",
              "       9.2900e+02, 2.7000e+01, 9.3000e+02, 8.0500e+02, 1.5900e+02,\n",
              "       6.4500e+02, 1.1410e+03, 5.9900e+02, 9.7300e+02, 1.4260e+03,\n",
              "       2.9500e+02, 4.3000e+02, 1.8000e+01, 3.6900e+02, 2.7300e+02,\n",
              "       1.0000e+01, 3.1600e+02, 2.8900e+02, 7.7300e+02, 3.1000e+02,\n",
              "       7.0000e+02, 3.6700e+02, 4.9500e+02, 4.1400e+02, 6.5000e+02,\n",
              "       4.2400e+02, 2.2900e+02, 3.5330e+03, 1.2000e+01, 8.8700e+02,\n",
              "       7.8600e+02, 1.1770e+03, 5.0200e+02, 2.8700e+02, 3.3300e+02,\n",
              "       2.7400e+02, 2.4600e+02, 2.1200e+02, 1.4000e+01, 6.4400e+02,\n",
              "       7.8300e+02, 3.4200e+02, 4.1900e+02, 3.5400e+02, 1.6700e+02,\n",
              "       2.4400e+02, 2.1100e+02, 4.4100e+02, 2.9200e+02, 5.7100e+02,\n",
              "       2.0900e+02, 3.2700e+02, 8.6000e+02, 2.4500e+02, 5.3700e+02,\n",
              "       2.1600e+02, 6.0000e+02, 8.5200e+02, 8.0000e+02, 2.2300e+02,\n",
              "       2.6400e+02, 6.3760e+03, 6.9000e+02, 9.1000e+03, 8.9900e+02,\n",
              "       4.6000e+02, 8.6900e+02, 3.2500e+02, 8.5000e+02, 5.0400e+02,\n",
              "       1.9070e+03, 4.0500e+02, 1.9700e+02, 7.1900e+02, 3.9500e+02,\n",
              "       9.9700e+03, 3.6200e+02, 4.8900e+02, 1.6000e+01, 2.7600e+02,\n",
              "       1.3500e+03, 2.8600e+02, 8.0100e+02, 4.5700e+02, 7.8000e+02,\n",
              "       1.1110e+03, 7.7200e+02, 4.5200e+02, 1.0290e+03, 6.7200e+02,\n",
              "       6.8500e+02, 3.6300e+02, 3.4000e+02, 3.4300e+02, 3.0000e+03,\n",
              "       3.9000e+02, 5.8500e+02, 4.3400e+02, 5.5400e+02, 5.2000e+02,\n",
              "       3.6800e+02, 4.7800e+02, 2.0200e+02, 2.3600e+02, 4.2800e+02,\n",
              "       8.0000e+03, 3.4100e+02, 4.3700e+02, 5.1700e+02, 5.5700e+02,\n",
              "       2.2500e+03, 2.8200e+02, 2.7500e+02, 3.2100e+02, 3.2600e+02,\n",
              "       3.1400e+02, 3.3000e+02, 1.1140e+03, 2.8800e+02, 0.0000e+00,\n",
              "       4.2000e+02, 4.9900e+02, 2.0000e+03, 5.0500e+02, 6.9600e+02,\n",
              "       3.5500e+02, 5.5600e+02, 3.2300e+02, 1.5200e+03, 2.3200e+02,\n",
              "       4.2900e+02, 3.2800e+02, 4.7900e+02, 4.4000e+02, 1.0350e+03,\n",
              "       7.9200e+02, 4.4300e+02, 2.3100e+02, 5.9700e+02, 1.6600e+02,\n",
              "       2.3000e+03, 1.5000e+03, 1.4400e+03, 3.8500e+02, 2.7800e+02,\n",
              "       3.4400e+02, 2.3500e+02, 5.3000e+02, 5.8800e+02, 3.4500e+02,\n",
              "       6.6400e+02, 3.5900e+02, 5.0900e+02, 5.2500e+02, 1.4950e+03,\n",
              "       2.5800e+02, 2.9600e+02, 4.7100e+02, 5.2100e+02, 2.9300e+02,\n",
              "       4.0600e+02, 2.7700e+02, 3.9100e+02, 1.0500e+03, 7.6500e+02,\n",
              "       2.8100e+02, 3.2000e+02, 3.3900e+02, 5.6000e+02, 1.3000e+03,\n",
              "       3.0300e+02, 2.5400e+02, 2.2400e+02, 5.3300e+02, 4.0800e+02,\n",
              "       2.5700e+02, 2.7900e+02, 3.1200e+02, 6.4100e+02, 2.7200e+02,\n",
              "       5.8000e+02, 1.1160e+03, 2.9000e+03, 4.2100e+02, 1.5000e+04,\n",
              "       3.5800e+02, 3.4900e+02, 3.5600e+02, 2.2800e+02, 2.9700e+02,\n",
              "       8.9500e+02, 5.7900e+02, 7.4700e+02, 5.2600e+02, 3.7200e+02,\n",
              "       2.4200e+02, 6.1700e+02, 4.7700e+02, 5.1100e+02, 3.3700e+02,\n",
              "       4.6500e+02, 5.8890e+03, 3.3400e+02, 1.0620e+03, 1.8360e+03,\n",
              "       4.0400e+02, 3.4700e+02, 5.5100e+02, 5.6700e+02, 1.3800e+03,\n",
              "       1.6100e+03, 4.7500e+02, 1.1000e+01, 3.9450e+03, 4.9000e+02,\n",
              "       3.1100e+02, 3.5700e+02, 2.6600e+02, 9.5000e+02, 1.5120e+03,\n",
              "       4.0200e+02, 3.7100e+02, 4.7000e+02, 8.3300e+02, 4.4600e+02,\n",
              "       5.7000e+02, 9.0400e+04, 1.2320e+03, 1.2000e+03, 1.9610e+03,\n",
              "       8.6100e+02, 3.0700e+02, 6.5800e+02, 1.2260e+03, 5.7600e+02,\n",
              "       3.4600e+02, 3.8200e+02, 1.0800e+03, 6.3000e+02, 5.8600e+02,\n",
              "       2.5600e+02, 8.0810e+03, 5.9800e+02, 1.7500e+03, 7.6125e+04,\n",
              "       5.9300e+02, 7.5600e+02, 7.3600e+02, 7.7900e+02, 6.5400e+02,\n",
              "       3.4800e+02, 6.3670e+03, 7.6800e+02, 3.9600e+02, 5.1300e+02,\n",
              "       5.0000e+03, 8.0300e+02, 3.7700e+02, 5.0600e+02, 5.8200e+02,\n",
              "       3.3200e+02, 1.1000e+03, 1.1800e+03, 3.6500e+02, 9.8900e+02,\n",
              "       6.7900e+02, 5.6200e+02, 5.9500e+02, 3.9900e+02, 2.4000e+03,\n",
              "       9.8100e+02, 2.8500e+02, 4.0900e+02, 4.0000e+03, 1.5730e+03,\n",
              "       4.6700e+02, 4.6400e+02, 5.1800e+02, 5.7390e+03, 6.5200e+02,\n",
              "       4.3300e+02, 8.1250e+03, 5.6800e+02, 3.5200e+02, 3.8800e+02,\n",
              "       5.8100e+02, 2.7140e+03, 4.3600e+02, 9.2000e+02, 9.1900e+02,\n",
              "       4.5900e+02, 7.3800e+02, 9.0700e+02, 6.7000e+02, 7.9900e+02,\n",
              "       4.1100e+02, 4.1200e+02, 8.5000e+03, 8.4000e+02, 2.4700e+02,\n",
              "       6.9200e+02, 3.9800e+02, 4.3900e+02, 8.2900e+02, 7.7000e+02,\n",
              "       1.4000e+03, 6.2000e+02, 4.8790e+03, 6.2900e+02, 5.0600e+03,\n",
              "       8.8200e+02, 5.3900e+02, 1.3210e+03, 7.0400e+02, 3.7800e+02,\n",
              "       2.6250e+03, 4.4200e+02, 8.6300e+02, 6.6000e+02, 4.8600e+02,\n",
              "       7.1500e+02, 3.2400e+02, 3.6100e+02, 6.9900e+02, 4.8500e+02,\n",
              "       4.4900e+02, 8.1400e+02, 3.1400e+03, 4.9800e+02, 3.7900e+02,\n",
              "       7.8500e+02, 5.4700e+02, 1.2070e+03, 8.2500e+02, 2.4800e+02,\n",
              "       9.0800e+02, 5.0590e+03, 4.6200e+02, 6.9300e+02, 1.1500e+03,\n",
              "       3.3800e+02, 4.5100e+02, 5.7500e+02, 9.2800e+02, 1.1570e+03,\n",
              "       3.8100e+02, 7.5700e+02, 8.7400e+02, 7.9100e+02, 5.2700e+02,\n",
              "       4.3100e+02, 6.1100e+02, 4.1500e+02, 4.2200e+02, 4.6100e+02,\n",
              "       4.5500e+02])"
            ]
          },
          "metadata": {},
          "execution_count": 30
        }
      ]
    },
    {
      "cell_type": "code",
      "source": [
        "#data.drop(['price_text'], axis='columns', inplace=True)# we can drop 'price_text' after price data cleansing"
      ],
      "metadata": {
        "id": "y9dRSlh5rUem"
      },
      "execution_count": null,
      "outputs": []
    },
    {
      "cell_type": "code",
      "source": [
        "# Let's eliminate outliers from price, let's display main values from the column 'price'\n",
        "data.price.describe()"
      ],
      "metadata": {
        "colab": {
          "base_uri": "https://localhost:8080/"
        },
        "id": "kASDys-2gBJW",
        "outputId": "6e9bceeb-e740-49d4-dcda-c7dd9f88e588"
      },
      "execution_count": null,
      "outputs": [
        {
          "output_type": "execute_result",
          "data": {
            "text/plain": [
              "count    20097.000000\n",
              "mean       139.684082\n",
              "std        874.040097\n",
              "min          0.000000\n",
              "25%         63.000000\n",
              "50%         90.000000\n",
              "75%        136.000000\n",
              "max      90400.000000\n",
              "Name: price, dtype: float64"
            ]
          },
          "metadata": {},
          "execution_count": 32
        }
      ]
    },
    {
      "cell_type": "code",
      "source": [
        "# Let's cut-off from data 'price' values higher than $10000 per night\n",
        "too_high = data[data['price']>10000].index\n",
        "data = data.drop(too_high, axis=0)"
      ],
      "metadata": {
        "id": "81O5t74As_U1"
      },
      "execution_count": null,
      "outputs": []
    },
    {
      "cell_type": "code",
      "source": [
        "# Should we consider outliers exclusion and logarithm transformation?\n",
        "data.query('price > 5 & price < 5000').price.apply(np.log).hist()"
      ],
      "metadata": {
        "id": "wsyckDmLwzT0",
        "colab": {
          "base_uri": "https://localhost:8080/",
          "height": 447
        },
        "outputId": "8c788667-0437-49a2-f2fc-04bafe69ee15"
      },
      "execution_count": null,
      "outputs": [
        {
          "output_type": "execute_result",
          "data": {
            "text/plain": [
              "<Axes: >"
            ]
          },
          "metadata": {},
          "execution_count": 34
        },
        {
          "output_type": "display_data",
          "data": {
            "text/plain": [
              "<Figure size 640x480 with 1 Axes>"
            ],
            "image/png": "[encoded data removed]"
          },
          "metadata": {}
        }
      ]
    },
    {
      "cell_type": "code",
      "source": [
        "data.price.skew() # we can observe , that more skeweness is on the right side and from there we can start to eliminate outliers"
      ],
      "metadata": {
        "colab": {
          "base_uri": "https://localhost:8080/"
        },
        "id": "EhlwfFuL7I7I",
        "outputId": "6dd0ed26-c2d9-4e0e-fc89-8ee64c9e876d"
      },
      "execution_count": null,
      "outputs": [
        {
          "output_type": "execute_result",
          "data": {
            "text/plain": [
              "20.224602317061684"
            ]
          },
          "metadata": {},
          "execution_count": 35
        }
      ]
    },
    {
      "cell_type": "code",
      "source": [
        "print(\"99% properties have a price lower than {0: .2f}\".format(np.percentile(data.price, 99)))\n",
        "print(\"99% properties have a price higher than {0: .2f}\".format(np.percentile(data.price, 1)))\n",
        "data = data[(data.price <= np.percentile(data.price, 99.5)) & (data.price > 0)]\n",
        "data = data[(data.price >= np.percentile(data.price, 0.5)) & (data.price > 0)]\n",
        "print(\"After 99% properties have a price lower than {0: .2f}\".format(np.percentile(data.price, 99)))\n",
        "print(\"After 99% properties have a price higher than {0: .2f}\".format(np.percentile(data.price, 1)))\n",
        "data.query('price > 5 & price < 5000').price.apply(np.log).hist()"
      ],
      "metadata": {
        "colab": {
          "base_uri": "https://localhost:8080/",
          "height": 517
        },
        "id": "iNmGNGGa8gxQ",
        "outputId": "cde05ece-7860-4f07-aa0d-78589df7e163"
      },
      "execution_count": null,
      "outputs": [
        {
          "output_type": "stream",
          "name": "stdout",
          "text": [
            "99% properties have a price lower than  840.70\n",
            "99% properties have a price higher than  20.00\n",
            "After 99% properties have a price lower than  685.00\n",
            "After 99% properties have a price higher than  23.00\n"
          ]
        },
        {
          "output_type": "execute_result",
          "data": {
            "text/plain": [
              "<Axes: >"
            ]
          },
          "metadata": {},
          "execution_count": 36
        },
        {
          "output_type": "display_data",
          "data": {
            "text/plain": [
              "<Figure size 640x480 with 1 Axes>"
            ],
            "image/png": "[encoded data removed]"
          },
          "metadata": {}
        }
      ]
    },
    {
      "cell_type": "code",
      "source": [
        "data.price.skew() # skeweness after removing outliers improved and is closer to the centerline !"
      ],
      "metadata": {
        "colab": {
          "base_uri": "https://localhost:8080/"
        },
        "id": "PA4NQhes-za9",
        "outputId": "b29a89e0-97f7-4a16-ee66-ab813d808249"
      },
      "execution_count": null,
      "outputs": [
        {
          "output_type": "execute_result",
          "data": {
            "text/plain": [
              "4.070354215811506"
            ]
          },
          "metadata": {},
          "execution_count": 37
        }
      ]
    },
    {
      "cell_type": "code",
      "source": [
        "# Changing object type for 'host_response_rate' to float64\n",
        "data['host_response_rate'].unique()"
      ],
      "metadata": {
        "colab": {
          "base_uri": "https://localhost:8080/"
        },
        "id": "VmMJCPQ_uHMU",
        "outputId": "554a7c7b-bee8-406d-a5ab-236db7f33caf"
      },
      "execution_count": null,
      "outputs": [
        {
          "output_type": "execute_result",
          "data": {
            "text/plain": [
              "array(['98%', nan, '91%', '100%', '97%', '93%', '90%', '99%', '33%',\n",
              "       '66%', '0%', '44%', '92%', '69%', '60%', '95%', '94%', '75%',\n",
              "       '42%', '88%', '13%', '71%', '83%', '96%', '73%', '63%', '50%',\n",
              "       '82%', '81%', '67%', '77%', '4%', '87%', '80%', '78%', '79%',\n",
              "       '41%', '86%', '85%', '70%', '25%', '40%', '17%', '89%', '30%',\n",
              "       '38%', '53%', '14%', '84%', '74%', '65%', '29%', '20%', '56%',\n",
              "       '57%', '43%', '64%'], dtype=object)"
            ]
          },
          "metadata": {},
          "execution_count": 38
        }
      ]
    },
    {
      "cell_type": "code",
      "source": [
        "# Changing object type for 'host_response_rate' to float64\n",
        "data.host_response_rate = data.host_response_rate.str.replace('%', '').astype(np.float64)/100"
      ],
      "metadata": {
        "id": "W3-PpGRxvN5Q"
      },
      "execution_count": null,
      "outputs": []
    },
    {
      "cell_type": "code",
      "source": [
        "data['host_response_rate'].unique()"
      ],
      "metadata": {
        "colab": {
          "base_uri": "https://localhost:8080/"
        },
        "id": "l9iWOquhwe4_",
        "outputId": "4bf13988-6ee1-4b3d-9524-e8187ae7889b"
      },
      "execution_count": null,
      "outputs": [
        {
          "output_type": "execute_result",
          "data": {
            "text/plain": [
              "array([0.98,  nan, 0.91, 1.  , 0.97, 0.93, 0.9 , 0.99, 0.33, 0.66, 0.  ,\n",
              "       0.44, 0.92, 0.69, 0.6 , 0.95, 0.94, 0.75, 0.42, 0.88, 0.13, 0.71,\n",
              "       0.83, 0.96, 0.73, 0.63, 0.5 , 0.82, 0.81, 0.67, 0.77, 0.04, 0.87,\n",
              "       0.8 , 0.78, 0.79, 0.41, 0.86, 0.85, 0.7 , 0.25, 0.4 , 0.17, 0.89,\n",
              "       0.3 , 0.38, 0.53, 0.14, 0.84, 0.74, 0.65, 0.29, 0.2 , 0.56, 0.57,\n",
              "       0.43, 0.64])"
            ]
          },
          "metadata": {},
          "execution_count": 40
        }
      ]
    },
    {
      "cell_type": "code",
      "source": [
        "data.host_response_rate.hist(bins=30) # based on the histogram, blank values will be changed to the 'most frequent' values"
      ],
      "metadata": {
        "colab": {
          "base_uri": "https://localhost:8080/",
          "height": 447
        },
        "id": "2sH6Mbu_wo2D",
        "outputId": "ce9c6e88-88d0-49d0-86d3-b0f67628951c"
      },
      "execution_count": null,
      "outputs": [
        {
          "output_type": "execute_result",
          "data": {
            "text/plain": [
              "<Axes: >"
            ]
          },
          "metadata": {},
          "execution_count": 41
        },
        {
          "output_type": "display_data",
          "data": {
            "text/plain": [
              "<Figure size 640x480 with 1 Axes>"
            ],
            "image/png": "[encoded data removed]"
          },
          "metadata": {}
        }
      ]
    },
    {
      "cell_type": "code",
      "source": [
        "data.host_response_rate.skew() # low skeweness"
      ],
      "metadata": {
        "colab": {
          "base_uri": "https://localhost:8080/"
        },
        "id": "T99atBTd_f8Z",
        "outputId": "fabec14e-cf12-41f9-e5f5-6f76b238a8f2"
      },
      "execution_count": null,
      "outputs": [
        {
          "output_type": "execute_result",
          "data": {
            "text/plain": [
              "-5.464423499604262"
            ]
          },
          "metadata": {},
          "execution_count": 42
        }
      ]
    },
    {
      "cell_type": "code",
      "source": [
        "data.host_response_rate.isna().sum()"
      ],
      "metadata": {
        "colab": {
          "base_uri": "https://localhost:8080/"
        },
        "id": "m0WnluuBxA5t",
        "outputId": "6c9be719-56a3-474b-e8b9-733c9b76ccab"
      },
      "execution_count": null,
      "outputs": [
        {
          "output_type": "execute_result",
          "data": {
            "text/plain": [
              "2359"
            ]
          },
          "metadata": {},
          "execution_count": 43
        }
      ]
    },
    {
      "cell_type": "code",
      "source": [
        "#nan completion by 'most_frequent' value\n",
        "imp = SimpleImputer(missing_values=np.nan, strategy='most_frequent')\n",
        "data['host_response_rate'] = imp.fit_transform(data[['host_response_rate']])"
      ],
      "metadata": {
        "id": "gofQb_tJxl-Z"
      },
      "execution_count": null,
      "outputs": []
    },
    {
      "cell_type": "code",
      "source": [
        "data.host_response_rate.hist(bins=30) # histogram after blank completion by 'most frequent'"
      ],
      "metadata": {
        "colab": {
          "base_uri": "https://localhost:8080/",
          "height": 447
        },
        "id": "Dz5VC3HRxvkc",
        "outputId": "337b6136-955a-4db4-ed72-dc7fd5565f42"
      },
      "execution_count": null,
      "outputs": [
        {
          "output_type": "execute_result",
          "data": {
            "text/plain": [
              "<Axes: >"
            ]
          },
          "metadata": {},
          "execution_count": 45
        },
        {
          "output_type": "display_data",
          "data": {
            "text/plain": [
              "<Figure size 640x480 with 1 Axes>"
            ],
            "image/png": "[encoded data removed]"
          },
          "metadata": {}
        }
      ]
    },
    {
      "cell_type": "code",
      "source": [
        "# Changing object type for 'host_acceptance_rate' to float64\n",
        "data['host_acceptance_rate'].unique()"
      ],
      "metadata": {
        "colab": {
          "base_uri": "https://localhost:8080/"
        },
        "outputId": "30a2a8f5-1d1a-4afd-b9be-e7f68bee11a4",
        "id": "YfYPyAplyWwS"
      },
      "execution_count": null,
      "outputs": [
        {
          "output_type": "execute_result",
          "data": {
            "text/plain": [
              "array(['100%', nan, '98%', '99%', '92%', '97%', '95%', '65%', '84%',\n",
              "       '94%', '96%', '80%', '77%', '25%', '68%', '50%', '57%', '63%',\n",
              "       '82%', '90%', '60%', '79%', '0%', '85%', '88%', '75%', '89%',\n",
              "       '59%', '83%', '46%', '39%', '87%', '9%', '67%', '93%', '78%',\n",
              "       '66%', '74%', '73%', '51%', '31%', '91%', '17%', '54%', '41%',\n",
              "       '49%', '86%', '76%', '44%', '64%', '69%', '72%', '70%', '23%',\n",
              "       '29%', '81%', '7%', '71%', '33%', '20%', '62%', '53%', '55%',\n",
              "       '43%', '42%', '48%', '47%', '52%', '40%', '30%', '13%', '58%',\n",
              "       '15%', '21%', '38%', '26%', '18%', '56%', '36%', '12%', '3%', '5%',\n",
              "       '61%', '2%', '14%', '27%', '19%', '45%', '35%', '10%', '8%', '4%',\n",
              "       '28%', '24%', '32%'], dtype=object)"
            ]
          },
          "metadata": {},
          "execution_count": 46
        }
      ]
    },
    {
      "cell_type": "code",
      "source": [
        "data.host_acceptance_rate = data.host_acceptance_rate.str.replace('%', '').astype(np.float64)/100"
      ],
      "metadata": {
        "id": "P1HLmy93zpiI"
      },
      "execution_count": null,
      "outputs": []
    },
    {
      "cell_type": "code",
      "source": [
        "data.host_acceptance_rate.unique()"
      ],
      "metadata": {
        "colab": {
          "base_uri": "https://localhost:8080/"
        },
        "id": "Hi8LUGdE0Q1h",
        "outputId": "8fb07d0d-20cd-4a66-d5c0-c8115bbde5bb"
      },
      "execution_count": null,
      "outputs": [
        {
          "output_type": "execute_result",
          "data": {
            "text/plain": [
              "array([1.  ,  nan, 0.98, 0.99, 0.92, 0.97, 0.95, 0.65, 0.84, 0.94, 0.96,\n",
              "       0.8 , 0.77, 0.25, 0.68, 0.5 , 0.57, 0.63, 0.82, 0.9 , 0.6 , 0.79,\n",
              "       0.  , 0.85, 0.88, 0.75, 0.89, 0.59, 0.83, 0.46, 0.39, 0.87, 0.09,\n",
              "       0.67, 0.93, 0.78, 0.66, 0.74, 0.73, 0.51, 0.31, 0.91, 0.17, 0.54,\n",
              "       0.41, 0.49, 0.86, 0.76, 0.44, 0.64, 0.69, 0.72, 0.7 , 0.23, 0.29,\n",
              "       0.81, 0.07, 0.71, 0.33, 0.2 , 0.62, 0.53, 0.55, 0.43, 0.42, 0.48,\n",
              "       0.47, 0.52, 0.4 , 0.3 , 0.13, 0.58, 0.15, 0.21, 0.38, 0.26, 0.18,\n",
              "       0.56, 0.36, 0.12, 0.03, 0.05, 0.61, 0.02, 0.14, 0.27, 0.19, 0.45,\n",
              "       0.35, 0.1 , 0.08, 0.04, 0.28, 0.24, 0.32])"
            ]
          },
          "metadata": {},
          "execution_count": 48
        }
      ]
    },
    {
      "cell_type": "code",
      "source": [
        "data.host_acceptance_rate.hist(bins=30) # based on the histogram, blank values will be changed to the 'most frequent' values"
      ],
      "metadata": {
        "colab": {
          "base_uri": "https://localhost:8080/",
          "height": 447
        },
        "id": "1N5-StcW0VOD",
        "outputId": "4b6a6c82-9e60-410a-88e5-8bbb8b856923"
      },
      "execution_count": null,
      "outputs": [
        {
          "output_type": "execute_result",
          "data": {
            "text/plain": [
              "<Axes: >"
            ]
          },
          "metadata": {},
          "execution_count": 49
        },
        {
          "output_type": "display_data",
          "data": {
            "text/plain": [
              "<Figure size 640x480 with 1 Axes>"
            ],
            "image/png": "[encoded data removed]"
          },
          "metadata": {}
        }
      ]
    },
    {
      "cell_type": "code",
      "source": [
        "data.host_acceptance_rate.skew() # low skeweness, more on the left side"
      ],
      "metadata": {
        "colab": {
          "base_uri": "https://localhost:8080/"
        },
        "id": "ZMV5UdfXBzVS",
        "outputId": "5510780f-4d64-4f34-e318-4fbdd981c197"
      },
      "execution_count": null,
      "outputs": [
        {
          "output_type": "execute_result",
          "data": {
            "text/plain": [
              "-3.7138056238859"
            ]
          },
          "metadata": {},
          "execution_count": 50
        }
      ]
    },
    {
      "cell_type": "code",
      "source": [
        "data.host_acceptance_rate.isna().sum()"
      ],
      "metadata": {
        "colab": {
          "base_uri": "https://localhost:8080/"
        },
        "id": "hd0pVU4e00IG",
        "outputId": "eb957345-7c34-4d0d-aa29-8ccb6d21ea6d"
      },
      "execution_count": null,
      "outputs": [
        {
          "output_type": "execute_result",
          "data": {
            "text/plain": [
              "1413"
            ]
          },
          "metadata": {},
          "execution_count": 51
        }
      ]
    },
    {
      "cell_type": "code",
      "source": [
        "#nan completion by 'most_frequent' value\n",
        "imp = SimpleImputer(missing_values=np.nan, strategy='most_frequent')\n",
        "data['host_acceptance_rate'] = imp.fit_transform(data[['host_acceptance_rate']])"
      ],
      "metadata": {
        "id": "c1NWU2yz0yeB"
      },
      "execution_count": null,
      "outputs": []
    },
    {
      "cell_type": "code",
      "source": [
        "data.host_acceptance_rate.hist(bins=30) # histogram after blank completion by 'most frequent'"
      ],
      "metadata": {
        "colab": {
          "base_uri": "https://localhost:8080/",
          "height": 450
        },
        "id": "3kSudRmY1BCE",
        "outputId": "93ea15ce-6d30-4960-e3b4-f178c19c7503"
      },
      "execution_count": null,
      "outputs": [
        {
          "output_type": "execute_result",
          "data": {
            "text/plain": [
              "<Axes: >"
            ]
          },
          "metadata": {},
          "execution_count": 53
        },
        {
          "output_type": "display_data",
          "data": {
            "text/plain": [
              "<Figure size 640x480 with 1 Axes>"
            ],
            "image/png": "[encoded data removed]"
          },
          "metadata": {}
        }
      ]
    },
    {
      "cell_type": "code",
      "source": [
        "data.host_acceptance_rate.dtype"
      ],
      "metadata": {
        "colab": {
          "base_uri": "https://localhost:8080/"
        },
        "id": "cqiXo5tjnuEB",
        "outputId": "e9c4db7e-3f3f-458d-b27d-29fa83bdbb70"
      },
      "execution_count": null,
      "outputs": [
        {
          "output_type": "execute_result",
          "data": {
            "text/plain": [
              "dtype('float64')"
            ]
          },
          "metadata": {},
          "execution_count": 54
        }
      ]
    },
    {
      "cell_type": "code",
      "source": [
        "data.host_is_superhost.unique() # - changing f and t string to True and False, no data modifications, we leave nan as they are, data is a categorical value"
      ],
      "metadata": {
        "colab": {
          "base_uri": "https://localhost:8080/"
        },
        "id": "SgR6k6GV1oCB",
        "outputId": "a4694acc-0d14-4d3a-957f-93fe98457dfd"
      },
      "execution_count": null,
      "outputs": [
        {
          "output_type": "execute_result",
          "data": {
            "text/plain": [
              "array(['f', 't', nan], dtype=object)"
            ]
          },
          "metadata": {},
          "execution_count": 55
        }
      ]
    },
    {
      "cell_type": "code",
      "source": [
        "data.host_is_superhost.map({'t': True, 'f': False}).unique()"
      ],
      "metadata": {
        "colab": {
          "base_uri": "https://localhost:8080/"
        },
        "id": "wO0ox-WQ6Sp8",
        "outputId": "a8022f49-894a-414f-9a6d-2b26a604f8cd"
      },
      "execution_count": null,
      "outputs": [
        {
          "output_type": "execute_result",
          "data": {
            "text/plain": [
              "array([False, True, nan], dtype=object)"
            ]
          },
          "metadata": {},
          "execution_count": 56
        }
      ]
    },
    {
      "cell_type": "code",
      "source": [
        "data['review_scores_rating'].unique()"
      ],
      "metadata": {
        "colab": {
          "base_uri": "https://localhost:8080/"
        },
        "id": "Jy3Q6WJ96jCB",
        "outputId": "8b4fa69b-ba56-4d05-a4e6-8581162157d9"
      },
      "execution_count": null,
      "outputs": [
        {
          "output_type": "execute_result",
          "data": {
            "text/plain": [
              "array([4.86,  nan, 4.62, 5.  , 4.5 , 4.95, 4.76, 4.31, 4.66, 4.61, 3.25,\n",
              "       4.64, 4.43, 4.45, 4.6 , 4.98, 4.58, 4.79, 4.84, 4.63, 4.91, 4.15,\n",
              "       4.19, 4.77, 4.92, 4.8 , 4.33, 4.73, 4.93, 4.67, 4.71, 3.8 , 4.29,\n",
              "       4.88, 4.32, 4.78, 4.85, 4.  , 4.59, 3.55, 4.25, 4.27, 4.68, 1.67,\n",
              "       4.75, 4.4 , 4.41, 4.36, 4.72, 4.17, 4.81, 4.34, 4.56, 4.3 , 4.83,\n",
              "       4.89, 4.07, 4.52, 4.44, 4.82, 4.7 , 4.04, 3.6 , 4.12, 4.94, 3.  ,\n",
              "       4.87, 4.49, 4.21, 4.37, 4.46, 4.74, 4.57, 4.09, 4.96, 4.9 , 4.48,\n",
              "       3.67, 4.55, 4.54, 4.2 , 4.69, 4.24, 3.71, 4.38, 4.65, 3.33, 4.06,\n",
              "       4.35, 4.22, 3.5 , 4.53, 4.28, 4.14, 4.26, 4.18, 2.89, 3.46, 4.16,\n",
              "       4.47, 1.  , 4.1 , 4.05, 4.42, 3.57, 3.87, 4.97, 4.51, 3.62, 0.  ,\n",
              "       3.9 , 4.99, 3.76, 3.61, 3.88, 3.27, 4.02, 4.23, 3.4 , 4.39, 2.  ,\n",
              "       3.94, 3.56, 4.03, 3.82, 2.8 , 3.44, 3.7 , 3.97, 3.96, 3.59, 2.75,\n",
              "       3.83, 3.65, 4.13, 3.75, 2.42, 3.79, 3.85, 4.11, 3.98, 3.58, 3.73,\n",
              "       2.93, 4.08, 3.1 , 3.93, 3.86, 3.43, 3.91, 3.36, 2.33, 3.17, 2.63,\n",
              "       3.92, 2.67, 3.37, 3.2 , 3.63, 3.78, 3.69, 3.11, 3.64, 3.29, 3.95,\n",
              "       3.89, 3.53, 3.72, 1.5 , 3.77, 2.5 , 2.74, 3.38, 3.52, 3.81, 3.48,\n",
              "       2.94, 3.84, 4.01, 3.24, 3.54, 3.74, 3.08, 2.25, 2.83, 3.68, 2.29,\n",
              "       2.86, 3.13, 3.14, 3.41])"
            ]
          },
          "metadata": {},
          "execution_count": 57
        }
      ]
    },
    {
      "cell_type": "code",
      "source": [
        "data.review_scores_rating.hist(bins=30) # based on histogram blank completion will be done by 'median'"
      ],
      "metadata": {
        "colab": {
          "base_uri": "https://localhost:8080/",
          "height": 447
        },
        "id": "YOn6i4PV682m",
        "outputId": "c8abc3bb-fe96-46fc-c5fd-89da8ba2e48a"
      },
      "execution_count": null,
      "outputs": [
        {
          "output_type": "execute_result",
          "data": {
            "text/plain": [
              "<Axes: >"
            ]
          },
          "metadata": {},
          "execution_count": 58
        },
        {
          "output_type": "display_data",
          "data": {
            "text/plain": [
              "<Figure size 640x480 with 1 Axes>"
            ],
            "image/png": "[encoded data removed]"
          },
          "metadata": {}
        }
      ]
    },
    {
      "cell_type": "code",
      "source": [
        "data.review_scores_rating.skew() # low skeweness, more on the left side"
      ],
      "metadata": {
        "colab": {
          "base_uri": "https://localhost:8080/"
        },
        "id": "uIw4XzMnMSvj",
        "outputId": "99d5b5f2-12e7-4d26-ebb6-324ea65920f6"
      },
      "execution_count": null,
      "outputs": [
        {
          "output_type": "execute_result",
          "data": {
            "text/plain": [
              "-4.345710524533878"
            ]
          },
          "metadata": {},
          "execution_count": 59
        }
      ]
    },
    {
      "cell_type": "code",
      "source": [
        "data.review_scores_rating.isna().sum()"
      ],
      "metadata": {
        "colab": {
          "base_uri": "https://localhost:8080/"
        },
        "id": "KbUocqC87MoT",
        "outputId": "7816ec5b-dad1-416d-90a9-7b9a5042f47c"
      },
      "execution_count": null,
      "outputs": [
        {
          "output_type": "execute_result",
          "data": {
            "text/plain": [
              "2274"
            ]
          },
          "metadata": {},
          "execution_count": 60
        }
      ]
    },
    {
      "cell_type": "code",
      "source": [
        "#nan completion by 'median' value\n",
        "imp = SimpleImputer(missing_values=np.nan, strategy='median')\n",
        "data['review_scores_rating'] = imp.fit_transform(data[['review_scores_rating']])"
      ],
      "metadata": {
        "id": "9vu53LqF7W3k"
      },
      "execution_count": null,
      "outputs": []
    },
    {
      "cell_type": "code",
      "source": [
        "data.review_scores_rating.hist(bins=30) # after blank completion"
      ],
      "metadata": {
        "colab": {
          "base_uri": "https://localhost:8080/",
          "height": 447
        },
        "id": "ppEbARb48g2j",
        "outputId": "a722b7dc-2297-453a-dbea-34e2d0f0b0ba"
      },
      "execution_count": null,
      "outputs": [
        {
          "output_type": "execute_result",
          "data": {
            "text/plain": [
              "<Axes: >"
            ]
          },
          "metadata": {},
          "execution_count": 62
        },
        {
          "output_type": "display_data",
          "data": {
            "text/plain": [
              "<Figure size 640x480 with 1 Axes>"
            ],
            "image/png": "[encoded data removed]"
          },
          "metadata": {}
        }
      ]
    },
    {
      "cell_type": "code",
      "source": [
        "data.review_scores_rating.skew()"
      ],
      "metadata": {
        "colab": {
          "base_uri": "https://localhost:8080/"
        },
        "id": "0gfHO_nmQVqs",
        "outputId": "6ad99784-b364-46c8-edca-42ecfa8a6045"
      },
      "execution_count": null,
      "outputs": [
        {
          "output_type": "execute_result",
          "data": {
            "text/plain": [
              "-4.657118462386708"
            ]
          },
          "metadata": {},
          "execution_count": 63
        }
      ]
    },
    {
      "cell_type": "code",
      "source": [
        "data['reviews_per_month'].unique()"
      ],
      "metadata": {
        "colab": {
          "base_uri": "https://localhost:8080/"
        },
        "id": "5AVdYE_K8zhg",
        "outputId": "2fc70226-9788-48a1-8399-4753dfc3ea35"
      },
      "execution_count": null,
      "outputs": [
        {
          "output_type": "execute_result",
          "data": {
            "text/plain": [
              "array([1.320e+00,       nan, 2.310e+00, 2.000e-02, 4.000e-02, 4.250e+00,\n",
              "       1.000e+00, 3.210e+00, 3.610e+00, 3.630e+00, 1.610e+00, 2.040e+00,\n",
              "       1.590e+00, 5.300e-01, 1.350e+00, 1.920e+00, 1.690e+00, 1.730e+00,\n",
              "       6.670e+00, 2.670e+00, 1.860e+00, 3.920e+00, 9.300e-01, 1.430e+00,\n",
              "       3.500e-01, 1.800e-01, 1.110e+00, 3.040e+00, 8.100e-01, 3.450e+00,\n",
              "       1.200e-01, 2.000e-01, 2.250e+00, 3.370e+00, 1.440e+00, 2.400e-01,\n",
              "       1.190e+00, 2.220e+00, 8.800e-01, 2.130e+00, 7.200e-01, 4.900e-01,\n",
              "       1.570e+00, 2.900e-01, 8.000e-02, 1.500e-01, 1.020e+00, 3.700e-01,\n",
              "       1.280e+00, 5.000e-02, 1.030e+00, 1.270e+00, 1.770e+00, 6.700e-01,\n",
              "       1.630e+00, 6.500e-01, 5.500e-01, 2.540e+00, 2.940e+00, 8.200e-01,\n",
              "       9.000e-02, 6.000e-02, 1.310e+00, 7.600e-01, 9.900e-01, 2.700e-01,\n",
              "       2.370e+00, 1.010e+00, 3.800e-01, 9.200e-01, 1.300e+00, 1.000e-01,\n",
              "       5.420e+00, 6.900e-01, 1.200e+00, 2.600e-01, 4.300e-01, 6.200e-01,\n",
              "       5.600e-01, 3.100e-01, 8.400e-01, 4.200e-01, 2.900e+00, 5.510e+00,\n",
              "       5.370e+00, 1.300e-01, 3.300e+00, 1.530e+00, 9.500e-01, 1.600e-01,\n",
              "       3.000e-01, 2.180e+00, 1.980e+00, 3.660e+00, 3.910e+00, 5.400e-01,\n",
              "       1.600e+00, 1.380e+00, 2.460e+00, 3.330e+00, 2.980e+00, 5.700e-01,\n",
              "       2.340e+00, 4.700e-01, 7.400e-01, 2.260e+00, 1.670e+00, 8.700e-01,\n",
              "       1.120e+00, 7.300e-01, 1.260e+00, 1.390e+00, 5.900e-01, 1.068e+01,\n",
              "       2.100e-01, 1.100e-01, 2.360e+00, 2.080e+00, 6.300e-01, 2.350e+00,\n",
              "       7.100e-01, 2.300e-01, 2.800e-01, 2.520e+00, 8.300e-01, 1.900e-01,\n",
              "       1.640e+00, 3.200e-01, 2.000e+00, 4.150e+00, 2.510e+00, 2.500e-01,\n",
              "       2.660e+00, 2.480e+00, 3.270e+00, 1.070e+00, 1.170e+00, 3.900e-01,\n",
              "       8.000e-01, 4.210e+00, 2.150e+00, 3.560e+00, 5.440e+00, 6.850e+00,\n",
              "       1.950e+00, 2.200e-01, 1.180e+00, 3.600e-01, 1.820e+00, 2.730e+00,\n",
              "       3.390e+00, 1.080e+00, 1.330e+00, 4.400e-01, 3.300e-01, 1.450e+00,\n",
              "       1.500e+00, 1.470e+00, 6.800e-01, 9.700e-01, 2.750e+00, 1.810e+00,\n",
              "       2.320e+00, 5.620e+00, 1.840e+00, 1.140e+00, 3.230e+00, 6.400e-01,\n",
              "       1.050e+00, 1.420e+00, 4.860e+00, 3.580e+00, 2.120e+00, 1.290e+00,\n",
              "       8.500e-01, 4.830e+00, 3.020e+00, 2.170e+00, 5.800e-01, 1.960e+00,\n",
              "       1.490e+00, 1.240e+00, 1.220e+00, 3.780e+00, 2.190e+00, 2.470e+00,\n",
              "       3.400e-01, 2.200e+00, 1.210e+00, 1.060e+00, 2.230e+00, 2.430e+00,\n",
              "       1.680e+00, 2.890e+00, 4.590e+00, 1.100e+00, 3.000e-02, 5.100e-01,\n",
              "       3.510e+00, 7.000e-01, 3.440e+00, 1.800e+00, 4.820e+00, 2.390e+00,\n",
              "       1.580e+00, 1.910e+00, 3.700e+00, 2.400e+00, 1.700e+00, 2.790e+00,\n",
              "       3.550e+00, 2.070e+00, 4.020e+00, 4.220e+00, 4.930e+00, 1.940e+00,\n",
              "       2.680e+00, 2.210e+00, 1.620e+00, 3.120e+00, 2.560e+00, 1.720e+00,\n",
              "       3.000e+00, 2.710e+00, 1.370e+00, 2.820e+00, 2.930e+00, 2.740e+00,\n",
              "       4.100e-01, 3.110e+00, 4.120e+00, 7.000e-02, 4.230e+00, 3.420e+00,\n",
              "       1.880e+00, 3.490e+00, 4.200e+00, 5.710e+00, 5.090e+00, 9.400e-01,\n",
              "       1.650e+00, 2.970e+00, 8.090e+00, 4.500e+00, 1.890e+00, 1.850e+00,\n",
              "       1.780e+00, 3.170e+00, 1.740e+00, 6.100e-01, 1.250e+00, 3.620e+00,\n",
              "       2.060e+00, 4.440e+00, 3.690e+00, 2.160e+00, 2.910e+00, 2.420e+00,\n",
              "       4.000e-01, 1.510e+00, 2.450e+00, 3.350e+00, 5.200e+00, 4.800e-01,\n",
              "       8.900e-01, 2.590e+00, 4.090e+00, 3.930e+00, 6.600e-01, 4.880e+00,\n",
              "       6.060e+00, 2.030e+00, 1.360e+00, 9.000e-01, 3.750e+00, 8.400e+00,\n",
              "       8.600e-01, 5.200e-01, 4.050e+00, 3.810e+00, 3.380e+00, 2.440e+00,\n",
              "       1.900e+00, 1.830e+00, 2.700e+00, 3.520e+00, 4.160e+00, 2.870e+00,\n",
              "       4.780e+00, 3.060e+00, 1.870e+00, 2.300e+00, 4.620e+00, 2.830e+00,\n",
              "       5.880e+00, 3.470e+00, 1.700e-01, 2.800e+00, 3.250e+00, 9.800e-01,\n",
              "       1.400e-01, 2.760e+00, 1.410e+00, 3.070e+00, 4.280e+00, 2.620e+00,\n",
              "       4.040e+00, 6.920e+00, 2.020e+00, 3.650e+00, 3.220e+00, 7.500e-01,\n",
              "       2.270e+00, 3.180e+00, 1.400e+00, 4.640e+00, 4.740e+00, 4.600e-01,\n",
              "       7.800e-01, 2.570e+00, 5.000e-01, 3.480e+00, 4.000e+00, 1.550e+00,\n",
              "       2.500e+00, 2.780e+00, 3.160e+00, 9.600e-01, 3.570e+00, 3.760e+00,\n",
              "       1.150e+00, 3.340e+00, 5.160e+00, 4.480e+00, 3.150e+00, 3.240e+00,\n",
              "       1.710e+00, 4.270e+00, 1.750e+00, 5.130e+00, 3.100e+00, 7.700e+00,\n",
              "       6.250e+00, 3.010e+00, 3.590e+00, 3.320e+00, 3.290e+00, 1.520e+00,\n",
              "       3.860e+00, 4.500e-01, 2.490e+00, 2.240e+00, 2.850e+00, 1.790e+00,\n",
              "       2.290e+00, 3.890e+00, 2.110e+00, 5.050e+00, 2.550e+00, 1.130e+00,\n",
              "       1.160e+00, 2.090e+00, 2.630e+00, 9.100e-01, 3.840e+00, 1.930e+00,\n",
              "       2.650e+00, 7.370e+00, 3.820e+00, 4.950e+00, 1.970e+00, 3.980e+00,\n",
              "       2.950e+00, 2.990e+00, 2.380e+00, 3.600e+00, 3.280e+00, 1.760e+00,\n",
              "       3.640e+00, 1.480e+00, 2.010e+00, 4.140e+00, 2.640e+00, 2.610e+00,\n",
              "       1.040e+00, 1.340e+00, 1.460e+00, 4.720e+00, 2.100e+00, 8.020e+00,\n",
              "       4.850e+00, 3.030e+00, 2.330e+00, 2.530e+00, 3.730e+00, 2.580e+00,\n",
              "       5.000e+00, 1.000e-02, 4.510e+00, 1.560e+00, 4.030e+00, 1.090e+00,\n",
              "       1.660e+00, 2.920e+00, 3.720e+00, 2.140e+00, 3.360e+00, 4.320e+00,\n",
              "       5.610e+00, 3.680e+00, 2.410e+00, 5.780e+00, 7.700e-01, 4.530e+00,\n",
              "       4.300e+00, 4.550e+00, 3.500e+00, 4.560e+00, 3.430e+00, 6.000e+00,\n",
              "       3.870e+00, 1.230e+00, 3.460e+00, 3.310e+00, 3.400e+00, 3.900e+00,\n",
              "       3.530e+00, 5.350e+00, 5.290e+00, 3.850e+00, 2.050e+00, 4.240e+00,\n",
              "       2.770e+00, 2.280e+00, 6.000e-01, 3.140e+00, 3.201e+01, 7.900e-01,\n",
              "       7.530e+00, 6.640e+00, 3.410e+00, 4.660e+00, 3.800e+00, 7.270e+00,\n",
              "       5.310e+00, 6.620e+00, 2.810e+00, 3.670e+00, 6.430e+00, 3.940e+00,\n",
              "       3.260e+00, 4.790e+00, 5.450e+00, 4.430e+00, 3.880e+00, 4.810e+00,\n",
              "       1.540e+00, 5.480e+00, 5.020e+00, 5.080e+00, 2.960e+00, 4.940e+00,\n",
              "       6.930e+00, 1.990e+00, 2.880e+00, 4.670e+00, 2.720e+00, 2.690e+00,\n",
              "       8.470e+00, 4.570e+00, 4.330e+00, 5.100e+00, 8.030e+00, 7.550e+00,\n",
              "       4.110e+00, 5.270e+00, 5.120e+00, 3.130e+00, 7.220e+00, 5.300e+00,\n",
              "       3.200e+00, 4.470e+00, 4.100e+00, 3.090e+00, 8.050e+00, 3.770e+00,\n",
              "       2.860e+00, 4.340e+00, 5.690e+00, 8.270e+00, 3.080e+00, 6.400e+00,\n",
              "       5.040e+00, 3.190e+00, 4.410e+00, 5.890e+00, 6.790e+00, 7.990e+00,\n",
              "       4.760e+00, 4.360e+00, 1.220e+01, 4.080e+00, 4.680e+00, 4.420e+00,\n",
              "       5.830e+00, 8.110e+00, 9.400e+00, 4.700e+00, 3.790e+00, 4.190e+00,\n",
              "       5.810e+00, 4.450e+00, 3.710e+00, 6.860e+00, 4.310e+00, 5.650e+00,\n",
              "       8.100e+00, 4.870e+00, 3.970e+00, 9.850e+00, 4.010e+00, 5.640e+00,\n",
              "       2.600e+00, 1.200e+01, 5.280e+00, 3.950e+00, 2.840e+00, 4.610e+00,\n",
              "       4.690e+00, 4.650e+00, 8.220e+00, 4.400e+00, 5.140e+00, 4.630e+00,\n",
              "       4.800e+00, 4.890e+00, 4.460e+00, 3.050e+00, 6.330e+00, 4.290e+00,\n",
              "       9.660e+00, 7.670e+00, 8.670e+00, 5.990e+00, 5.490e+00, 9.730e+00,\n",
              "       4.710e+00, 3.740e+00, 5.240e+00, 5.170e+00, 8.600e+00, 6.630e+00,\n",
              "       6.890e+00, 4.490e+00, 9.000e+00, 3.960e+00, 4.180e+00, 5.980e+00,\n",
              "       1.077e+01, 5.500e+00, 3.830e+00, 5.820e+00, 7.480e+00, 4.840e+00,\n",
              "       6.480e+00, 4.370e+00, 3.540e+00, 3.990e+00, 6.770e+00, 4.580e+00,\n",
              "       6.880e+00, 6.840e+00, 5.570e+00, 5.930e+00, 4.260e+00, 5.360e+00,\n",
              "       5.110e+00, 5.920e+00, 5.630e+00, 4.540e+00, 7.210e+00, 6.690e+00,\n",
              "       4.750e+00, 4.380e+00, 6.040e+00, 4.980e+00, 4.520e+00, 5.060e+00,\n",
              "       9.750e+00, 5.010e+00, 1.583e+01, 6.700e+00, 4.130e+00, 5.190e+00,\n",
              "       4.960e+00, 5.550e+00, 5.030e+00, 6.560e+00, 6.130e+00, 6.050e+00,\n",
              "       4.170e+00, 6.500e+00, 6.010e+00, 6.220e+00, 5.730e+00, 5.210e+00,\n",
              "       4.060e+00, 6.120e+00, 5.400e+00, 6.580e+00, 7.110e+00, 5.590e+00,\n",
              "       8.730e+00, 4.070e+00, 5.790e+00, 4.900e+00, 5.150e+00, 1.042e+01,\n",
              "       1.038e+01, 5.340e+00, 4.350e+00, 4.600e+00, 6.190e+00, 6.650e+00,\n",
              "       5.560e+00, 1.047e+01, 6.680e+00, 9.100e+00, 5.250e+00, 8.810e+00,\n",
              "       8.240e+00, 4.390e+00, 6.100e+00, 6.800e+00, 4.990e+00, 5.260e+00,\n",
              "       1.536e+01, 8.260e+00, 5.940e+00, 1.495e+01, 5.530e+00, 8.780e+00,\n",
              "       4.770e+00, 5.320e+00, 6.300e+00, 5.950e+00, 6.090e+00, 4.920e+00,\n",
              "       6.380e+00, 7.860e+00, 5.470e+00, 7.980e+00, 5.070e+00, 4.999e+01,\n",
              "       6.490e+00, 6.420e+00, 7.420e+00, 6.280e+00, 1.221e+01, 7.000e+00,\n",
              "       5.860e+00, 1.045e+01, 1.116e+01, 5.900e+00, 5.540e+00, 9.670e+00,\n",
              "       8.000e+00, 6.760e+00, 6.160e+00, 1.196e+01, 5.180e+00, 5.410e+00,\n",
              "       4.970e+00, 1.293e+01, 8.280e+00, 7.030e+00, 7.200e+00, 1.000e+01,\n",
              "       8.870e+00, 6.600e+00, 5.680e+00, 7.080e+00, 5.970e+00, 7.470e+00,\n",
              "       5.230e+00, 6.460e+00, 6.510e+00, 8.940e+00, 4.910e+00, 5.770e+00,\n",
              "       6.740e+00, 5.580e+00, 6.410e+00, 6.820e+00])"
            ]
          },
          "metadata": {},
          "execution_count": 64
        }
      ]
    },
    {
      "cell_type": "code",
      "source": [
        "data.reviews_per_month.hist(bins=30) # based on histogram blank completion will be done by 'most_frequent'"
      ],
      "metadata": {
        "colab": {
          "base_uri": "https://localhost:8080/",
          "height": 447
        },
        "id": "Kkdt6leo-gB3",
        "outputId": "b96a4155-57e6-4220-db40-c5d8f3be7a18"
      },
      "execution_count": null,
      "outputs": [
        {
          "output_type": "execute_result",
          "data": {
            "text/plain": [
              "<Axes: >"
            ]
          },
          "metadata": {},
          "execution_count": 65
        },
        {
          "output_type": "display_data",
          "data": {
            "text/plain": [
              "<Figure size 640x480 with 1 Axes>"
            ],
            "image/png": "[encoded data removed]"
          },
          "metadata": {}
        }
      ]
    },
    {
      "cell_type": "code",
      "source": [
        "data.reviews_per_month.skew() # low skeweness, more on the right side"
      ],
      "metadata": {
        "colab": {
          "base_uri": "https://localhost:8080/"
        },
        "id": "_GQH36v2MqVV",
        "outputId": "0b05395e-bb89-4f5c-b170-fb8313725bb8"
      },
      "execution_count": null,
      "outputs": [
        {
          "output_type": "execute_result",
          "data": {
            "text/plain": [
              "4.39618239523317"
            ]
          },
          "metadata": {},
          "execution_count": 66
        }
      ]
    },
    {
      "cell_type": "code",
      "source": [
        "data.reviews_per_month.isna().sum()"
      ],
      "metadata": {
        "colab": {
          "base_uri": "https://localhost:8080/"
        },
        "id": "VCI8GtzjAE9d",
        "outputId": "e386e38e-285b-4869-d201-e9305581419b"
      },
      "execution_count": null,
      "outputs": [
        {
          "output_type": "execute_result",
          "data": {
            "text/plain": [
              "2274"
            ]
          },
          "metadata": {},
          "execution_count": 67
        }
      ]
    },
    {
      "cell_type": "code",
      "source": [
        "#nan completion by 'most_frequent' value\n",
        "imp = SimpleImputer(missing_values=np.nan, strategy='most_frequent')\n",
        "data['reviews_per_month'] = imp.fit_transform(data[['reviews_per_month']])"
      ],
      "metadata": {
        "id": "Z5w6eeufAo4j"
      },
      "execution_count": null,
      "outputs": []
    },
    {
      "cell_type": "code",
      "source": [
        "data.reviews_per_month.hist(bins=30) # after blank completion"
      ],
      "metadata": {
        "colab": {
          "base_uri": "https://localhost:8080/",
          "height": 447
        },
        "id": "bCn9o2vkBDcb",
        "outputId": "14a0de9c-a2f2-44a9-cb72-96899a35f394"
      },
      "execution_count": null,
      "outputs": [
        {
          "output_type": "execute_result",
          "data": {
            "text/plain": [
              "<Axes: >"
            ]
          },
          "metadata": {},
          "execution_count": 69
        },
        {
          "output_type": "display_data",
          "data": {
            "text/plain": [
              "<Figure size 640x480 with 1 Axes>"
            ],
            "image/png": "[encoded data removed]"
          },
          "metadata": {}
        }
      ]
    },
    {
      "cell_type": "code",
      "source": [
        "data['bedrooms'].unique()"
      ],
      "metadata": {
        "colab": {
          "base_uri": "https://localhost:8080/"
        },
        "id": "D6oYarSzBZ1Q",
        "outputId": "daf7461b-e56d-44a4-cfbf-5dcb235a7c84"
      },
      "execution_count": null,
      "outputs": [
        {
          "output_type": "execute_result",
          "data": {
            "text/plain": [
              "array([ 1.,  3.,  2.,  4., nan,  7.,  5., 22.,  6.,  9.,  8., 14., 10.,\n",
              "       11., 12., 19.])"
            ]
          },
          "metadata": {},
          "execution_count": 70
        }
      ]
    },
    {
      "cell_type": "code",
      "source": [
        "data.bedrooms.isna().sum()"
      ],
      "metadata": {
        "colab": {
          "base_uri": "https://localhost:8080/"
        },
        "id": "ASHYqXPuBqle",
        "outputId": "e345f7ad-0f2c-4386-e68b-4782a306a2b1"
      },
      "execution_count": null,
      "outputs": [
        {
          "output_type": "execute_result",
          "data": {
            "text/plain": [
              "862"
            ]
          },
          "metadata": {},
          "execution_count": 71
        }
      ]
    },
    {
      "cell_type": "code",
      "source": [
        "data.bedrooms.hist(bins=30) #"
      ],
      "metadata": {
        "colab": {
          "base_uri": "https://localhost:8080/",
          "height": 447
        },
        "id": "EXtam4D_BxF9",
        "outputId": "2d9a7bc1-8c8a-4bff-ef97-42c93544f0fe"
      },
      "execution_count": null,
      "outputs": [
        {
          "output_type": "execute_result",
          "data": {
            "text/plain": [
              "<Axes: >"
            ]
          },
          "metadata": {},
          "execution_count": 72
        },
        {
          "output_type": "display_data",
          "data": {
            "text/plain": [
              "<Figure size 640x480 with 1 Axes>"
            ],
            "image/png": "[encoded data removed]"
          },
          "metadata": {}
        }
      ]
    },
    {
      "cell_type": "code",
      "source": [
        "data.bedrooms.skew() # low skeweness, more on the right side"
      ],
      "metadata": {
        "colab": {
          "base_uri": "https://localhost:8080/"
        },
        "id": "GtB-74_ZNQRY",
        "outputId": "aeb998b1-a3f0-40d3-c56c-3befeb710485"
      },
      "execution_count": null,
      "outputs": [
        {
          "output_type": "execute_result",
          "data": {
            "text/plain": [
              "2.891361832982977"
            ]
          },
          "metadata": {},
          "execution_count": 73
        }
      ]
    },
    {
      "cell_type": "code",
      "source": [
        "#nan completion by 'most_frequent' value\n",
        "imp = SimpleImputer(missing_values=np.nan, strategy='most_frequent')\n",
        "data['bedrooms'] = imp.fit_transform(data[['bedrooms']])"
      ],
      "metadata": {
        "id": "6Gl_wEC-Rwrr"
      },
      "execution_count": null,
      "outputs": []
    },
    {
      "cell_type": "code",
      "source": [
        "data.bedrooms.hist(bins=30) #after blanks filling"
      ],
      "metadata": {
        "colab": {
          "base_uri": "https://localhost:8080/",
          "height": 447
        },
        "id": "95TdzNFNSCtU",
        "outputId": "9b87aaea-d700-4a20-eb0d-9f8658273cfb"
      },
      "execution_count": null,
      "outputs": [
        {
          "output_type": "execute_result",
          "data": {
            "text/plain": [
              "<Axes: >"
            ]
          },
          "metadata": {},
          "execution_count": 75
        },
        {
          "output_type": "display_data",
          "data": {
            "text/plain": [
              "<Figure size 640x480 with 1 Axes>"
            ],
            "image/png": "[encoded data removed]"
          },
          "metadata": {}
        }
      ]
    },
    {
      "cell_type": "code",
      "source": [
        "data.beds.unique()"
      ],
      "metadata": {
        "colab": {
          "base_uri": "https://localhost:8080/"
        },
        "id": "r_a4T5Bge_6C",
        "outputId": "cea034bd-8117-4c66-d9db-62c808342760"
      },
      "execution_count": null,
      "outputs": [
        {
          "output_type": "execute_result",
          "data": {
            "text/plain": [
              "array([ 2.,  4.,  1.,  3.,  8.,  5., 10., 11.,  6., 16., nan,  7., 12.,\n",
              "        9., 15., 13., 14., 17., 23., 19., 35., 20., 18., 30., 25., 22.,\n",
              "       24., 36., 21.])"
            ]
          },
          "metadata": {},
          "execution_count": 76
        }
      ]
    },
    {
      "cell_type": "code",
      "source": [
        "data.beds.hist(bins=10)"
      ],
      "metadata": {
        "colab": {
          "base_uri": "https://localhost:8080/",
          "height": 447
        },
        "id": "Hr9yek2xfIvN",
        "outputId": "4f600465-12a1-462a-d76f-6aa4e75a78fa"
      },
      "execution_count": null,
      "outputs": [
        {
          "output_type": "execute_result",
          "data": {
            "text/plain": [
              "<Axes: >"
            ]
          },
          "metadata": {},
          "execution_count": 77
        },
        {
          "output_type": "display_data",
          "data": {
            "text/plain": [
              "<Figure size 640x480 with 1 Axes>"
            ],
            "image/png": "[encoded data removed]"
          },
          "metadata": {}
        }
      ]
    },
    {
      "cell_type": "code",
      "source": [
        "data.beds.skew() # low skeweness, more on the right side"
      ],
      "metadata": {
        "colab": {
          "base_uri": "https://localhost:8080/"
        },
        "id": "q7KOuVoIfXGy",
        "outputId": "3cdf1b32-79e8-4b0f-ab7c-11afe8a32f71"
      },
      "execution_count": null,
      "outputs": [
        {
          "output_type": "execute_result",
          "data": {
            "text/plain": [
              "3.483252305678382"
            ]
          },
          "metadata": {},
          "execution_count": 78
        }
      ]
    },
    {
      "cell_type": "code",
      "source": [
        "data.beds.isna().sum()"
      ],
      "metadata": {
        "colab": {
          "base_uri": "https://localhost:8080/"
        },
        "id": "A1oF-onkjOXt",
        "outputId": "41f2223e-f854-4410-8940-295df76ad857"
      },
      "execution_count": null,
      "outputs": [
        {
          "output_type": "execute_result",
          "data": {
            "text/plain": [
              "180"
            ]
          },
          "metadata": {},
          "execution_count": 79
        }
      ]
    },
    {
      "cell_type": "code",
      "source": [
        "#nan completion by 'most_frequent' value\n",
        "imp = SimpleImputer(missing_values=np.nan, strategy='most_frequent')\n",
        "data['beds'] = imp.fit_transform(data[['beds']])"
      ],
      "metadata": {
        "id": "uSKSEN59kvky"
      },
      "execution_count": null,
      "outputs": []
    },
    {
      "cell_type": "code",
      "source": [
        "# Distance from City Center calculations\n",
        "import math\n",
        "data['distance_from_center'] = data.apply(lambda row: math.sqrt((row['longitude'])**2 + (row['latitude'])**2), axis=1)"
      ],
      "metadata": {
        "id": "K2rP0JkZSwjw"
      },
      "execution_count": null,
      "outputs": []
    },
    {
      "cell_type": "code",
      "source": [
        "from sklearn.preprocessing import MinMaxScaler\n",
        "\n",
        "scaler = MinMaxScaler()\n",
        "data['normalized_distance_from_center'] = scaler.fit_transform(data[['distance_from_center']])\n",
        "\n",
        "data.normalized_distance_from_center.plot.hist()\n",
        "plt.show()"
      ],
      "metadata": {
        "colab": {
          "base_uri": "https://localhost:8080/",
          "height": 430
        },
        "id": "wlrHkyniWKpI",
        "outputId": "8c9c99a0-44b2-4057-88a0-ee70f0d256bb"
      },
      "execution_count": null,
      "outputs": [
        {
          "output_type": "display_data",
          "data": {
            "text/plain": [
              "<Figure size 640x480 with 1 Axes>"
            ],
            "image/png": "[encoded data removed]"
          },
          "metadata": {}
        }
      ]
    },
    {
      "cell_type": "code",
      "source": [
        "data.normalized_distance_from_center.skew() # low skeweness, more on the right side"
      ],
      "metadata": {
        "colab": {
          "base_uri": "https://localhost:8080/"
        },
        "id": "bpKNvhA6UlKZ",
        "outputId": "55c1ef58-047f-4595-8d59-4d1f3e4770b2"
      },
      "execution_count": null,
      "outputs": [
        {
          "output_type": "execute_result",
          "data": {
            "text/plain": [
              "2.607637446169188"
            ]
          },
          "metadata": {},
          "execution_count": 83
        }
      ]
    },
    {
      "cell_type": "code",
      "source": [
        "# We can now eliminate 'longitude' and 'latitude' and 'distance_from_center'\n",
        "data.drop(['longitude','latitude','distance_from_center'], axis='columns', inplace=True)"
      ],
      "metadata": {
        "id": "Muvr61XRWjCA"
      },
      "execution_count": null,
      "outputs": []
    },
    {
      "cell_type": "code",
      "source": [
        "data.host_verifications.unique()"
      ],
      "metadata": {
        "id": "AxxZKP8GCYcH",
        "outputId": "49d07285-5326-40a5-fd9a-7f14c5ebe2b3",
        "colab": {
          "base_uri": "https://localhost:8080/"
        }
      },
      "execution_count": null,
      "outputs": [
        {
          "output_type": "execute_result",
          "data": {
            "text/plain": [
              "array([\"['email', 'phone']\", \"['email', 'phone', 'work_email']\",\n",
              "       \"['phone']\", \"['email']\", '[]',\n",
              "       \"['email', 'phone', 'photographer']\", \"['email', 'work_email']\",\n",
              "       \"['phone', 'work_email']\"], dtype=object)"
            ]
          },
          "metadata": {},
          "execution_count": 85
        }
      ]
    },
    {
      "cell_type": "code",
      "source": [
        "data.host_verifications.str[1:-1].replace(\"[' ]\", '', regex=True).str.split(',').drop_duplicates()"
      ],
      "metadata": {
        "id": "abkzS_CbaI-7",
        "colab": {
          "base_uri": "https://localhost:8080/"
        },
        "outputId": "e237f9d4-12a5-4644-ec99-f5beba13af8f"
      },
      "execution_count": null,
      "outputs": [
        {
          "output_type": "execute_result",
          "data": {
            "text/plain": [
              "0                     [email, phone]\n",
              "5         [email, phone, work_email]\n",
              "15                           [phone]\n",
              "158                          [email]\n",
              "488                               []\n",
              "767     [email, phone, photographer]\n",
              "3977             [email, work_email]\n",
              "4112             [phone, work_email]\n",
              "Name: host_verifications, dtype: object"
            ]
          },
          "metadata": {},
          "execution_count": 86
        }
      ]
    },
    {
      "cell_type": "code",
      "source": [
        "data.host_verifications = data.host_verifications.str.replace(\"[\\[\\]' ]\", '', regex=True).str.split(',')"
      ],
      "metadata": {
        "id": "V7CtzJhPTlRB"
      },
      "execution_count": null,
      "outputs": []
    },
    {
      "cell_type": "code",
      "source": [
        "data.host_verifications.describe() # categorical value"
      ],
      "metadata": {
        "colab": {
          "base_uri": "https://localhost:8080/"
        },
        "id": "3-X29NVqT-N6",
        "outputId": "766b8a15-9548-4118-eb88-dc3adcc3d5a7"
      },
      "execution_count": null,
      "outputs": [
        {
          "output_type": "execute_result",
          "data": {
            "text/plain": [
              "count              19915\n",
              "unique                 8\n",
              "top       [email, phone]\n",
              "freq               16407\n",
              "Name: host_verifications, dtype: object"
            ]
          },
          "metadata": {},
          "execution_count": 88
        }
      ]
    },
    {
      "cell_type": "code",
      "source": [
        "data.host_has_profile_pic.unique() # categorical value"
      ],
      "metadata": {
        "colab": {
          "base_uri": "https://localhost:8080/"
        },
        "id": "B6G7DEPKWGl_",
        "outputId": "f4c89b99-4c29-4828-eb6f-b60729d3d080"
      },
      "execution_count": null,
      "outputs": [
        {
          "output_type": "execute_result",
          "data": {
            "text/plain": [
              "array(['t', 'f'], dtype=object)"
            ]
          },
          "metadata": {},
          "execution_count": 89
        }
      ]
    },
    {
      "cell_type": "code",
      "source": [
        "data.host_has_profile_pic.map({'t': True, 'f': False}).unique() # categorical value"
      ],
      "metadata": {
        "colab": {
          "base_uri": "https://localhost:8080/"
        },
        "id": "aGg_Qb9hXeiO",
        "outputId": "4ad43d08-95f9-410c-e3af-048ac1f7015d"
      },
      "execution_count": null,
      "outputs": [
        {
          "output_type": "execute_result",
          "data": {
            "text/plain": [
              "array([ True, False])"
            ]
          },
          "metadata": {},
          "execution_count": 90
        }
      ]
    },
    {
      "cell_type": "code",
      "source": [
        "data.host_identity_verified.unique() # categorical value"
      ],
      "metadata": {
        "colab": {
          "base_uri": "https://localhost:8080/"
        },
        "id": "B56BxNVKXttJ",
        "outputId": "72443174-8778-4760-c02b-a6030668afb7"
      },
      "execution_count": null,
      "outputs": [
        {
          "output_type": "execute_result",
          "data": {
            "text/plain": [
              "array(['t', 'f'], dtype=object)"
            ]
          },
          "metadata": {},
          "execution_count": 91
        }
      ]
    },
    {
      "cell_type": "code",
      "source": [
        "data.host_identity_verified.map({'t': True, 'f': False}).unique() # categorical value"
      ],
      "metadata": {
        "colab": {
          "base_uri": "https://localhost:8080/"
        },
        "id": "i5iBcvzXX3QF",
        "outputId": "b979455a-71dd-4499-ae0e-e3feac09aa00"
      },
      "execution_count": null,
      "outputs": [
        {
          "output_type": "execute_result",
          "data": {
            "text/plain": [
              "array([ True, False])"
            ]
          },
          "metadata": {},
          "execution_count": 92
        }
      ]
    },
    {
      "cell_type": "code",
      "source": [
        "data.instant_bookable.unique() # categorical value"
      ],
      "metadata": {
        "colab": {
          "base_uri": "https://localhost:8080/"
        },
        "id": "7v-hpmuDYbok",
        "outputId": "a29d1064-7537-4c08-bffa-e235e021bb82"
      },
      "execution_count": null,
      "outputs": [
        {
          "output_type": "execute_result",
          "data": {
            "text/plain": [
              "array(['t', 'f'], dtype=object)"
            ]
          },
          "metadata": {},
          "execution_count": 93
        }
      ]
    },
    {
      "cell_type": "code",
      "source": [
        "data.instant_bookable.map({'t': True, 'f': False}).unique() # categorical value"
      ],
      "metadata": {
        "colab": {
          "base_uri": "https://localhost:8080/"
        },
        "id": "AxOhwR6uYoFh",
        "outputId": "10abce88-2d97-424d-f500-b707c0879b68"
      },
      "execution_count": null,
      "outputs": [
        {
          "output_type": "execute_result",
          "data": {
            "text/plain": [
              "array([ True, False])"
            ]
          },
          "metadata": {},
          "execution_count": 94
        }
      ]
    },
    {
      "cell_type": "code",
      "source": [
        "data.accommodates.unique()"
      ],
      "metadata": {
        "colab": {
          "base_uri": "https://localhost:8080/"
        },
        "id": "5ETGmQXQbJwG",
        "outputId": "aff8c2d5-a8d3-4d80-bbab-4e642d679c6e"
      },
      "execution_count": null,
      "outputs": [
        {
          "output_type": "execute_result",
          "data": {
            "text/plain": [
              "array([ 4,  2,  6,  5,  1,  3,  8,  7,  9, 11, 14, 10, 16, 12, 13, 15])"
            ]
          },
          "metadata": {},
          "execution_count": 95
        }
      ]
    },
    {
      "cell_type": "code",
      "source": [
        "data.property_type.unique() # categorical value"
      ],
      "metadata": {
        "colab": {
          "base_uri": "https://localhost:8080/"
        },
        "id": "NkFWZ7PaZOjs",
        "outputId": "d7199501-2227-44fc-e67e-0b883e35a8aa"
      },
      "execution_count": null,
      "outputs": [
        {
          "output_type": "execute_result",
          "data": {
            "text/plain": [
              "array(['Entire rental unit', 'Private room in rental unit',\n",
              "       'Private room in home', 'Entire serviced apartment',\n",
              "       'Private room in condo', 'Entire home', 'Room in boutique hotel',\n",
              "       'Entire condo', 'Entire townhouse', 'Private room in guest suite',\n",
              "       'Private room in casa particular', 'Private room in hostel',\n",
              "       'Private room in tiny home', 'Private room in serviced apartment',\n",
              "       'Room in hotel', 'Entire villa', 'Shared room in vacation home',\n",
              "       'Private room in vacation home', 'Entire loft', 'Camper/RV',\n",
              "       'Shared room in hostel', 'Tiny home', 'Shared room in home',\n",
              "       'Room in serviced apartment', 'Entire chalet',\n",
              "       'Shared room in townhouse', 'Shared room in rental unit',\n",
              "       'Shared room in serviced apartment', 'Entire place',\n",
              "       'Private room in guesthouse', 'Boat',\n",
              "       'Shared room in bed and breakfast', 'Private room in boat',\n",
              "       'Casa particular', 'Private room in bed and breakfast',\n",
              "       'Entire guesthouse', 'Private room in castle',\n",
              "       'Room in aparthotel', 'Entire vacation home', 'Shared room',\n",
              "       'Room in hostel', 'Room in bed and breakfast',\n",
              "       'Private room in nature lodge', 'Shared room in guest suite',\n",
              "       'Private room in villa', 'Entire cabin', 'Campsite',\n",
              "       'Private room in townhouse', 'Entire cottage', 'Hut',\n",
              "       'Private room', 'Private room in shipping container', 'Dome',\n",
              "       'Private room in chalet', 'Entire guest suite', 'Windmill',\n",
              "       'Private room in camper/rv', 'Houseboat', 'Treehouse',\n",
              "       'Private room in hut', 'Private room in earthen home',\n",
              "       'Shared room in boat', 'Private room in farm stay',\n",
              "       'Private room in loft', 'Private room in resort',\n",
              "       'Entire bungalow', 'Entire bed and breakfast', 'Farm stay', 'Bus',\n",
              "       'Entire home/apt', 'Private room in cabin',\n",
              "       'Shared room in guesthouse', 'Earthen home', 'Castle', 'Tent',\n",
              "       'Shipping container', 'Private room in cottage', 'Holiday park',\n",
              "       'Cave', 'Private room in bungalow', 'Private room in pension',\n",
              "       'Private room in dome', 'Shared room in hotel',\n",
              "       'Shared room in boutique hotel', 'Yurt', 'Private room in tent',\n",
              "       'Entire hostel', 'Lighthouse', 'Shared room in casa particular'],\n",
              "      dtype=object)"
            ]
          },
          "metadata": {},
          "execution_count": 96
        }
      ]
    },
    {
      "cell_type": "code",
      "source": [
        "data.room_type.unique() # categorical value"
      ],
      "metadata": {
        "colab": {
          "base_uri": "https://localhost:8080/"
        },
        "id": "dcySt3AKZe1T",
        "outputId": "294db354-05de-4cb9-b4d1-0cec01168959"
      },
      "execution_count": null,
      "outputs": [
        {
          "output_type": "execute_result",
          "data": {
            "text/plain": [
              "array(['Entire home/apt', 'Private room', 'Shared room', 'Hotel room'],\n",
              "      dtype=object)"
            ]
          },
          "metadata": {},
          "execution_count": 97
        }
      ]
    },
    {
      "cell_type": "code",
      "source": [
        "# Amenities - data cleansing\n",
        "data.amenities[data.amenities.str.contains('\\\\', regex=False)]"
      ],
      "metadata": {
        "colab": {
          "base_uri": "https://localhost:8080/"
        },
        "id": "z5u2eepkb-Ua",
        "outputId": "6f49d095-48b2-4844-ffbb-1b0b5f1d45a3"
      },
      "execution_count": null,
      "outputs": [
        {
          "output_type": "execute_result",
          "data": {
            "text/plain": [
              "4        [\"Refrigerator\", \"Bed linens\", \"Dishes and sil...\n",
              "9        [\"Refrigerator\", \"Cleaning products\", \"Bed lin...\n",
              "15       [\"Bed linens\", \"Dishes and silverware\", \"Essen...\n",
              "19       [\"Refrigerator\", \"Cleaning products\", \"Bed lin...\n",
              "22       [\"Cleaning products\", \"Bed linens\", \"Castelbel...\n",
              "                               ...                        \n",
              "20091    [\"Essentials\", \"Refrigerator\", \"Gym\", \"Iron\", ...\n",
              "20092    [\"Patio or balcony\", \"Long term stays allowed\"...\n",
              "20093    [\"Baby bath\", \"Long term stays allowed\", \"Free...\n",
              "20094    [\"Extra pillows and blankets\", \"Microwave\", \"P...\n",
              "20096    [\"Private patio or balcony\", \"Extra pillows an...\n",
              "Name: amenities, Length: 9367, dtype: object"
            ]
          },
          "metadata": {},
          "execution_count": 98
        }
      ]
    },
    {
      "cell_type": "code",
      "source": [
        "import json"
      ],
      "metadata": {
        "id": "1g5Zxgxmazza"
      },
      "execution_count": null,
      "outputs": []
    },
    {
      "cell_type": "code",
      "source": [
        "amenities = data.amenities.apply(json.loads)"
      ],
      "metadata": {
        "id": "ZKXGA5-ObrFy"
      },
      "execution_count": null,
      "outputs": []
    },
    {
      "cell_type": "code",
      "source": [
        "amenities"
      ],
      "metadata": {
        "colab": {
          "base_uri": "https://localhost:8080/"
        },
        "id": "2t1vUZcUebKQ",
        "outputId": "022ce5d0-4922-40c8-a993-b5f78855b2ab"
      },
      "execution_count": null,
      "outputs": [
        {
          "output_type": "execute_result",
          "data": {
            "text/plain": [
              "0        [Refrigerator, Bed linens, Washer, Kitchen, Ha...\n",
              "1        [Fire extinguisher, Bed linens, Host greets yo...\n",
              "2        [Refrigerator, Bed linens, Kitchen, Dishes and...\n",
              "3        [Refrigerator, Bed linens, Dishes and silverwa...\n",
              "4        [Refrigerator, Bed linens, Dishes and silverwa...\n",
              "                               ...                        \n",
              "20092    [Patio or balcony, Long term stays allowed, Mi...\n",
              "20093    [Baby bath, Long term stays allowed, Free wash...\n",
              "20094    [Extra pillows and blankets, Microwave, Privat...\n",
              "20095    [Dedicated workspace, Microwave, Freezer, Esse...\n",
              "20096    [Private patio or balcony, Extra pillows and b...\n",
              "Name: amenities, Length: 19915, dtype: object"
            ]
          },
          "metadata": {},
          "execution_count": 101
        }
      ]
    },
    {
      "cell_type": "code",
      "source": [
        "data.amenities.unique()"
      ],
      "metadata": {
        "colab": {
          "base_uri": "https://localhost:8080/"
        },
        "id": "s1HlmLkOSdVa",
        "outputId": "e9f95545-09ed-49e1-9126-3cc540c48d6e"
      },
      "execution_count": null,
      "outputs": [
        {
          "output_type": "execute_result",
          "data": {
            "text/plain": [
              "array(['[\"Refrigerator\", \"Bed linens\", \"Washer\", \"Kitchen\", \"Hair dryer\", \"Elevator\", \"Essentials\", \"TV\", \"Stove\", \"Oven\", \"Dishwasher\", \"Iron\", \"Air conditioning\", \"Wifi\"]',\n",
              "       '[\"Fire extinguisher\", \"Bed linens\", \"Host greets you\", \"Breakfast\", \"Hair dryer\", \"Wifi\", \"Shampoo\", \"Lock on bedroom door\", \"Private entrance\", \"First aid kit\", \"Essentials\", \"TV\", \"Hangers\", \"Hot water\", \"Iron\", \"Paid parking on premises\"]',\n",
              "       '[\"Refrigerator\", \"Bed linens\", \"Kitchen\", \"Dishes and silverware\", \"Microwave\", \"Freezer\", \"Coffee maker\", \"Cooking basics\", \"Patio or balcony\", \"Essentials\", \"TV\", \"Stove\", \"Oven\", \"Dishwasher\", \"Wifi\", \"Air conditioning\"]',\n",
              "       ...,\n",
              "       '[\"Extra pillows and blankets\", \"Microwave\", \"Private hot tub\", \"Essentials\", \"Refrigerator\", \"Kitchen\", \"Shampoo\", \"Hot water\", \"Free street parking\", \"Oven\", \"Cooking basics\", \"Elevator\", \"Stove\", \"First aid kit\", \"Hair dryer\", \"Dishes and silverware\", \"Keypad\", \"Washer\", \"Air conditioning\", \"Crib\", \"TV with standard cable\", \"Dishwasher\", \"Heating\", \"Carbon monoxide alarm\", \"Hangers\", \"Free parking on premises\", \"Private pool\", \"Iron\", \"Pack \\\\u2019n play/Travel crib\", \"Bed linens\", \"Backyard\", \"Fire extinguisher\", \"Self check-in\", \"Wifi\", \"Body soap\", \"Smoke alarm\", \"Dryer\", \"High chair\", \"Coffee maker\", \"Private patio or balcony\"]',\n",
              "       '[\"Dedicated workspace\", \"Microwave\", \"Freezer\", \"Essentials\", \"Kitchen\", \"Wine glasses\", \"Hot water kettle\", \"Hot water\", \"Oven\", \"Toaster\", \"Stove\", \"First aid kit\", \"Washer\", \"Dishwasher\", \"Hangers\", \"Iron\", \"Bed linens\", \"Fire extinguisher\", \"Wifi\", \"Cleaning products\", \"Dryer\", \"Books and reading material\", \"TV\", \"Coffee maker\"]',\n",
              "       '[\"Private patio or balcony\", \"Extra pillows and blankets\", \"Free washer \\\\u2013 In unit\", \"BBQ grill: charcoal\", \"Outdoor shower\", \"Freezer\", \"Beach access\", \"Essentials\", \"Refrigerator\", \"Barbecue utensils\", \"Kitchen\", \"Wine glasses\", \"Room-darkening shades\", \"Laundromat nearby\", \"Hot water\", \"Hot water kettle\", \"Oven\", \"Cooking basics\", \"Free street parking\", \"Toaster\", \"Host greets you\", \"Stove\", \"First aid kit\", \"Dining table\", \"Outdoor furniture\", \"Hair dryer\", \"Dishes and silverware\", \"Crib\", \"Dishwasher\", \"Drying rack for clothing\", \"Window AC unit\", \"Heating\", \"Private entrance\", \"Hangers\", \"Bidet\", \"City skyline view\", \"Iron\", \"Pack \\\\u2019n play/Travel crib\", \"Blender\", \"Outdoor dining area\", \"Fire extinguisher\", \"Wifi\", \"Cleaning products\", \"Free dryer\", \"High chair\", \"Coffee maker\", \"Bathtub\"]'],\n",
              "      dtype=object)"
            ]
          },
          "metadata": {},
          "execution_count": 102
        }
      ]
    },
    {
      "cell_type": "code",
      "source": [
        "# Pulling out the most important amenities\n",
        "data['is_wifi'] = data['amenities'].apply(lambda x: 'wifi' in x.lower())*1\n",
        "data['is_tv'] = data['amenities'].apply(lambda x: 'tv' in x.lower())*1\n",
        "data['is_essentials'] = data['amenities'].apply(lambda x: 'essentials' in x.lower())*1\n",
        "data['is_self_checkin'] = data['amenities'].apply(lambda x: 'self check-in' in x.lower())*1\n",
        "data['is_kitchen'] = data['amenities'].apply(lambda x: 'kitchen' in x.lower())*1\n",
        "data['is_parking'] = data['amenities'].apply(lambda x: 'parking' in x.lower())*1\n",
        "data['is_pets'] = data['amenities'].apply(lambda x: 'pets allowed' in x.lower())*1\n",
        "data['is_air_conditioning'] = data['amenities'].apply(lambda x: 'air conditioning' in x.lower())*1\n",
        "data['is_elevator'] = data['amenities'].apply(lambda x: 'elevator' in x.lower())*1\n",
        "data['is_iron'] = data['amenities'].apply(lambda x: 'iron' in x.lower())*1\n",
        "data['is_washer'] = data['amenities'].apply(lambda x: 'washer' in x.lower())*1\n",
        "data['is_private_pool'] = data['amenities'].apply(lambda x: 'private pool' in x.lower())*1"
      ],
      "metadata": {
        "id": "RNsgSvFgbzLt"
      },
      "execution_count": null,
      "outputs": []
    },
    {
      "cell_type": "markdown",
      "source": [
        "#5.Displaying Data Frames numerical & non-numerical after data cleansing"
      ],
      "metadata": {
        "id": "3JTPxou-oiwh"
      }
    },
    {
      "cell_type": "code",
      "source": [
        "# Displaying data numerical values\n",
        "pd.options.display.max_columns = None\n",
        "data.describe()"
      ],
      "metadata": {
        "colab": {
          "base_uri": "https://localhost:8080/",
          "height": 320
        },
        "id": "s7u-aB0UpG4y",
        "outputId": "14aa6768-313e-422a-ecc1-30169a273fbe"
      },
      "execution_count": null,
      "outputs": [
        {
          "output_type": "execute_result",
          "data": {
            "text/plain": [
              "       host_response_rate  host_acceptance_rate  host_listings_count  \\\n",
              "count        19915.000000          19915.000000         19915.000000   \n",
              "mean             0.968260              0.935657            35.878283   \n",
              "std              0.123465              0.172900           159.291752   \n",
              "min              0.000000              0.000000             0.000000   \n",
              "25%              1.000000              0.970000             2.000000   \n",
              "50%              1.000000              1.000000             5.000000   \n",
              "75%              1.000000              1.000000            16.000000   \n",
              "max              1.000000              1.000000          2621.000000   \n",
              "\n",
              "       accommodates     bathrooms      bedrooms          beds  minimum_nights  \\\n",
              "count  19915.000000  19915.000000  19915.000000  19915.000000    19915.000000   \n",
              "mean       3.947326      1.436505      1.705599      2.502486        4.193774   \n",
              "std        2.357219      0.847696      1.105123      1.976316       16.782095   \n",
              "min        1.000000      0.000000      1.000000      1.000000        1.000000   \n",
              "25%        2.000000      1.000000      1.000000      1.000000        1.000000   \n",
              "50%        4.000000      1.000000      1.000000      2.000000        2.000000   \n",
              "75%        5.000000      2.000000      2.000000      3.000000        3.000000   \n",
              "max       16.000000     14.000000     22.000000     36.000000     1000.000000   \n",
              "\n",
              "       maximum_nights  minimum_minimum_nights  availability_30  \\\n",
              "count    19915.000000            19915.000000     19915.000000   \n",
              "mean       623.918855                4.054130         8.447954   \n",
              "std        542.243162               17.885786         9.288478   \n",
              "min          1.000000                1.000000         0.000000   \n",
              "25%         90.000000                1.000000         0.000000   \n",
              "50%        365.000000                2.000000         5.000000   \n",
              "75%       1125.000000                3.000000        13.000000   \n",
              "max      36180.000000             1000.000000        30.000000   \n",
              "\n",
              "       availability_60  availability_90  availability_365  \\\n",
              "count     19915.000000     19915.000000      19915.000000   \n",
              "mean         20.204770        34.888175        199.781019   \n",
              "std          19.280959        29.410828        116.888965   \n",
              "min           0.000000         0.000000          0.000000   \n",
              "25%           3.000000         8.000000         96.000000   \n",
              "50%          14.000000        29.000000        223.000000   \n",
              "75%          34.000000        59.000000        302.000000   \n",
              "max          60.000000        90.000000        365.000000   \n",
              "\n",
              "       number_of_reviews_l30d  review_scores_rating  \\\n",
              "count            19915.000000          19915.000000   \n",
              "mean                 1.054431              4.640415   \n",
              "std                  1.708979              0.433758   \n",
              "min                  0.000000              0.000000   \n",
              "25%                  0.000000              4.550000   \n",
              "50%                  0.000000              4.740000   \n",
              "75%                  2.000000              4.870000   \n",
              "max                 34.000000              5.000000   \n",
              "\n",
              "       calculated_host_listings_count  reviews_per_month        price  \\\n",
              "count                    19915.000000       19915.000000  19915.00000   \n",
              "mean                        17.976450           1.386709    120.41657   \n",
              "std                         43.770376           1.345835    113.79333   \n",
              "min                          1.000000           0.010000     18.00000   \n",
              "25%                          1.000000           0.470000     63.00000   \n",
              "50%                          4.000000           1.000000     90.00000   \n",
              "75%                         14.000000           1.920000    135.00000   \n",
              "max                        306.000000          49.990000   1000.00000   \n",
              "\n",
              "       normalized_distance_from_center       is_wifi         is_tv  \\\n",
              "count                     19915.000000  19915.000000  19915.000000   \n",
              "mean                          0.112678      0.976852      0.839518   \n",
              "std                           0.199023      0.150378      0.367062   \n",
              "min                           0.000000      0.000000      0.000000   \n",
              "25%                           0.012180      1.000000      1.000000   \n",
              "50%                           0.028046      1.000000      1.000000   \n",
              "75%                           0.098198      1.000000      1.000000   \n",
              "max                           1.000000      1.000000      1.000000   \n",
              "\n",
              "       is_essentials  is_self_checkin    is_kitchen    is_parking  \\\n",
              "count   19915.000000     19915.000000  19915.000000  19915.000000   \n",
              "mean        0.907256         0.314637      0.926588      0.620989   \n",
              "std         0.290081         0.464383      0.260818      0.485153   \n",
              "min         0.000000         0.000000      0.000000      0.000000   \n",
              "25%         1.000000         0.000000      1.000000      0.000000   \n",
              "50%         1.000000         0.000000      1.000000      1.000000   \n",
              "75%         1.000000         1.000000      1.000000      1.000000   \n",
              "max         1.000000         1.000000      1.000000      1.000000   \n",
              "\n",
              "            is_pets  is_air_conditioning   is_elevator       is_iron  \\\n",
              "count  19915.000000         19915.000000  19915.000000  19915.000000   \n",
              "mean       0.141049             0.365905      0.215817      0.775195   \n",
              "std        0.348081             0.481695      0.411398      0.417465   \n",
              "min        0.000000             0.000000      0.000000      0.000000   \n",
              "25%        0.000000             0.000000      0.000000      1.000000   \n",
              "50%        0.000000             0.000000      0.000000      1.000000   \n",
              "75%        0.000000             1.000000      0.000000      1.000000   \n",
              "max        1.000000             1.000000      1.000000      1.000000   \n",
              "\n",
              "          is_washer  is_private_pool  \n",
              "count  19915.000000     19915.000000  \n",
              "mean       0.755712         0.014863  \n",
              "std        0.429675         0.121008  \n",
              "min        0.000000         0.000000  \n",
              "25%        1.000000         0.000000  \n",
              "50%        1.000000         0.000000  \n",
              "75%        1.000000         0.000000  \n",
              "max        1.000000         1.000000  "
            ],
            "text/html": [
              "\n",
              "  <div id=\"df-9aed8fe5-7b0a-4db8-a585-d708e6403e38\" class=\"colab-df-container\">\n",
              "    <div>\n",
              "<style scoped>\n",
              "    .dataframe tbody tr th:only-of-type {\n",
              "        vertical-align: middle;\n",
              "    }\n",
              "\n",
              "    .dataframe tbody tr th {\n",
              "        vertical-align: top;\n",
              "    }\n",
              "\n",
              "    .dataframe thead th {\n",
              "        text-align: right;\n",
              "    }\n",
              "</style>\n",
              "<table border=\"1\" class=\"dataframe\">\n",
              "  <thead>\n",
              "    <tr style=\"text-align: right;\">\n",
              "      <th></th>\n",
              "      <th>host_response_rate</th>\n",
              "      <th>host_acceptance_rate</th>\n",
              "      <th>host_listings_count</th>\n",
              "      <th>accommodates</th>\n",
              "      <th>bathrooms</th>\n",
              "      <th>bedrooms</th>\n",
              "      <th>beds</th>\n",
              "      <th>minimum_nights</th>\n",
              "      <th>maximum_nights</th>\n",
              "      <th>minimum_minimum_nights</th>\n",
              "      <th>availability_30</th>\n",
              "      <th>availability_60</th>\n",
              "      <th>availability_90</th>\n",
              "      <th>availability_365</th>\n",
              "      <th>number_of_reviews_l30d</th>\n",
              "      <th>review_scores_rating</th>\n",
              "      <th>calculated_host_listings_count</th>\n",
              "      <th>reviews_per_month</th>\n",
              "      <th>price</th>\n",
              "      <th>normalized_distance_from_center</th>\n",
              "      <th>is_wifi</th>\n",
              "      <th>is_tv</th>\n",
              "      <th>is_essentials</th>\n",
              "      <th>is_self_checkin</th>\n",
              "      <th>is_kitchen</th>\n",
              "      <th>is_parking</th>\n",
              "      <th>is_pets</th>\n",
              "      <th>is_air_conditioning</th>\n",
              "      <th>is_elevator</th>\n",
              "      <th>is_iron</th>\n",
              "      <th>is_washer</th>\n",
              "      <th>is_private_pool</th>\n",
              "    </tr>\n",
              "  </thead>\n",
              "  <tbody>\n",
              "    <tr>\n",
              "      <th>count</th>\n",
              "      <td>19915.000000</td>\n",
              "      <td>19915.000000</td>\n",
              "      <td>19915.000000</td>\n",
              "      <td>19915.000000</td>\n",
              "      <td>19915.000000</td>\n",
              "      <td>19915.000000</td>\n",
              "      <td>19915.000000</td>\n",
              "      <td>19915.000000</td>\n",
              "      <td>19915.000000</td>\n",
              "      <td>19915.000000</td>\n",
              "      <td>19915.000000</td>\n",
              "      <td>19915.000000</td>\n",
              "      <td>19915.000000</td>\n",
              "      <td>19915.000000</td>\n",
              "      <td>19915.000000</td>\n",
              "      <td>19915.000000</td>\n",
              "      <td>19915.000000</td>\n",
              "      <td>19915.000000</td>\n",
              "      <td>19915.00000</td>\n",
              "      <td>19915.000000</td>\n",
              "      <td>19915.000000</td>\n",
              "      <td>19915.000000</td>\n",
              "      <td>19915.000000</td>\n",
              "      <td>19915.000000</td>\n",
              "      <td>19915.000000</td>\n",
              "      <td>19915.000000</td>\n",
              "      <td>19915.000000</td>\n",
              "      <td>19915.000000</td>\n",
              "      <td>19915.000000</td>\n",
              "      <td>19915.000000</td>\n",
              "      <td>19915.000000</td>\n",
              "      <td>19915.000000</td>\n",
              "    </tr>\n",
              "    <tr>\n",
              "      <th>mean</th>\n",
              "      <td>0.968260</td>\n",
              "      <td>0.935657</td>\n",
              "      <td>35.878283</td>\n",
              "      <td>3.947326</td>\n",
              "      <td>1.436505</td>\n",
              "      <td>1.705599</td>\n",
              "      <td>2.502486</td>\n",
              "      <td>4.193774</td>\n",
              "      <td>623.918855</td>\n",
              "      <td>4.054130</td>\n",
              "      <td>8.447954</td>\n",
              "      <td>20.204770</td>\n",
              "      <td>34.888175</td>\n",
              "      <td>199.781019</td>\n",
              "      <td>1.054431</td>\n",
              "      <td>4.640415</td>\n",
              "      <td>17.976450</td>\n",
              "      <td>1.386709</td>\n",
              "      <td>120.41657</td>\n",
              "      <td>0.112678</td>\n",
              "      <td>0.976852</td>\n",
              "      <td>0.839518</td>\n",
              "      <td>0.907256</td>\n",
              "      <td>0.314637</td>\n",
              "      <td>0.926588</td>\n",
              "      <td>0.620989</td>\n",
              "      <td>0.141049</td>\n",
              "      <td>0.365905</td>\n",
              "      <td>0.215817</td>\n",
              "      <td>0.775195</td>\n",
              "      <td>0.755712</td>\n",
              "      <td>0.014863</td>\n",
              "    </tr>\n",
              "    <tr>\n",
              "      <th>std</th>\n",
              "      <td>0.123465</td>\n",
              "      <td>0.172900</td>\n",
              "      <td>159.291752</td>\n",
              "      <td>2.357219</td>\n",
              "      <td>0.847696</td>\n",
              "      <td>1.105123</td>\n",
              "      <td>1.976316</td>\n",
              "      <td>16.782095</td>\n",
              "      <td>542.243162</td>\n",
              "      <td>17.885786</td>\n",
              "      <td>9.288478</td>\n",
              "      <td>19.280959</td>\n",
              "      <td>29.410828</td>\n",
              "      <td>116.888965</td>\n",
              "      <td>1.708979</td>\n",
              "      <td>0.433758</td>\n",
              "      <td>43.770376</td>\n",
              "      <td>1.345835</td>\n",
              "      <td>113.79333</td>\n",
              "      <td>0.199023</td>\n",
              "      <td>0.150378</td>\n",
              "      <td>0.367062</td>\n",
              "      <td>0.290081</td>\n",
              "      <td>0.464383</td>\n",
              "      <td>0.260818</td>\n",
              "      <td>0.485153</td>\n",
              "      <td>0.348081</td>\n",
              "      <td>0.481695</td>\n",
              "      <td>0.411398</td>\n",
              "      <td>0.417465</td>\n",
              "      <td>0.429675</td>\n",
              "      <td>0.121008</td>\n",
              "    </tr>\n",
              "    <tr>\n",
              "      <th>min</th>\n",
              "      <td>0.000000</td>\n",
              "      <td>0.000000</td>\n",
              "      <td>0.000000</td>\n",
              "      <td>1.000000</td>\n",
              "      <td>0.000000</td>\n",
              "      <td>1.000000</td>\n",
              "      <td>1.000000</td>\n",
              "      <td>1.000000</td>\n",
              "      <td>1.000000</td>\n",
              "      <td>1.000000</td>\n",
              "      <td>0.000000</td>\n",
              "      <td>0.000000</td>\n",
              "      <td>0.000000</td>\n",
              "      <td>0.000000</td>\n",
              "      <td>0.000000</td>\n",
              "      <td>0.000000</td>\n",
              "      <td>1.000000</td>\n",
              "      <td>0.010000</td>\n",
              "      <td>18.00000</td>\n",
              "      <td>0.000000</td>\n",
              "      <td>0.000000</td>\n",
              "      <td>0.000000</td>\n",
              "      <td>0.000000</td>\n",
              "      <td>0.000000</td>\n",
              "      <td>0.000000</td>\n",
              "      <td>0.000000</td>\n",
              "      <td>0.000000</td>\n",
              "      <td>0.000000</td>\n",
              "      <td>0.000000</td>\n",
              "      <td>0.000000</td>\n",
              "      <td>0.000000</td>\n",
              "      <td>0.000000</td>\n",
              "    </tr>\n",
              "    <tr>\n",
              "      <th>25%</th>\n",
              "      <td>1.000000</td>\n",
              "      <td>0.970000</td>\n",
              "      <td>2.000000</td>\n",
              "      <td>2.000000</td>\n",
              "      <td>1.000000</td>\n",
              "      <td>1.000000</td>\n",
              "      <td>1.000000</td>\n",
              "      <td>1.000000</td>\n",
              "      <td>90.000000</td>\n",
              "      <td>1.000000</td>\n",
              "      <td>0.000000</td>\n",
              "      <td>3.000000</td>\n",
              "      <td>8.000000</td>\n",
              "      <td>96.000000</td>\n",
              "      <td>0.000000</td>\n",
              "      <td>4.550000</td>\n",
              "      <td>1.000000</td>\n",
              "      <td>0.470000</td>\n",
              "      <td>63.00000</td>\n",
              "      <td>0.012180</td>\n",
              "      <td>1.000000</td>\n",
              "      <td>1.000000</td>\n",
              "      <td>1.000000</td>\n",
              "      <td>0.000000</td>\n",
              "      <td>1.000000</td>\n",
              "      <td>0.000000</td>\n",
              "      <td>0.000000</td>\n",
              "      <td>0.000000</td>\n",
              "      <td>0.000000</td>\n",
              "      <td>1.000000</td>\n",
              "      <td>1.000000</td>\n",
              "      <td>0.000000</td>\n",
              "    </tr>\n",
              "    <tr>\n",
              "      <th>50%</th>\n",
              "      <td>1.000000</td>\n",
              "      <td>1.000000</td>\n",
              "      <td>5.000000</td>\n",
              "      <td>4.000000</td>\n",
              "      <td>1.000000</td>\n",
              "      <td>1.000000</td>\n",
              "      <td>2.000000</td>\n",
              "      <td>2.000000</td>\n",
              "      <td>365.000000</td>\n",
              "      <td>2.000000</td>\n",
              "      <td>5.000000</td>\n",
              "      <td>14.000000</td>\n",
              "      <td>29.000000</td>\n",
              "      <td>223.000000</td>\n",
              "      <td>0.000000</td>\n",
              "      <td>4.740000</td>\n",
              "      <td>4.000000</td>\n",
              "      <td>1.000000</td>\n",
              "      <td>90.00000</td>\n",
              "      <td>0.028046</td>\n",
              "      <td>1.000000</td>\n",
              "      <td>1.000000</td>\n",
              "      <td>1.000000</td>\n",
              "      <td>0.000000</td>\n",
              "      <td>1.000000</td>\n",
              "      <td>1.000000</td>\n",
              "      <td>0.000000</td>\n",
              "      <td>0.000000</td>\n",
              "      <td>0.000000</td>\n",
              "      <td>1.000000</td>\n",
              "      <td>1.000000</td>\n",
              "      <td>0.000000</td>\n",
              "    </tr>\n",
              "    <tr>\n",
              "      <th>75%</th>\n",
              "      <td>1.000000</td>\n",
              "      <td>1.000000</td>\n",
              "      <td>16.000000</td>\n",
              "      <td>5.000000</td>\n",
              "      <td>2.000000</td>\n",
              "      <td>2.000000</td>\n",
              "      <td>3.000000</td>\n",
              "      <td>3.000000</td>\n",
              "      <td>1125.000000</td>\n",
              "      <td>3.000000</td>\n",
              "      <td>13.000000</td>\n",
              "      <td>34.000000</td>\n",
              "      <td>59.000000</td>\n",
              "      <td>302.000000</td>\n",
              "      <td>2.000000</td>\n",
              "      <td>4.870000</td>\n",
              "      <td>14.000000</td>\n",
              "      <td>1.920000</td>\n",
              "      <td>135.00000</td>\n",
              "      <td>0.098198</td>\n",
              "      <td>1.000000</td>\n",
              "      <td>1.000000</td>\n",
              "      <td>1.000000</td>\n",
              "      <td>1.000000</td>\n",
              "      <td>1.000000</td>\n",
              "      <td>1.000000</td>\n",
              "      <td>0.000000</td>\n",
              "      <td>1.000000</td>\n",
              "      <td>0.000000</td>\n",
              "      <td>1.000000</td>\n",
              "      <td>1.000000</td>\n",
              "      <td>0.000000</td>\n",
              "    </tr>\n",
              "    <tr>\n",
              "      <th>max</th>\n",
              "      <td>1.000000</td>\n",
              "      <td>1.000000</td>\n",
              "      <td>2621.000000</td>\n",
              "      <td>16.000000</td>\n",
              "      <td>14.000000</td>\n",
              "      <td>22.000000</td>\n",
              "      <td>36.000000</td>\n",
              "      <td>1000.000000</td>\n",
              "      <td>36180.000000</td>\n",
              "      <td>1000.000000</td>\n",
              "      <td>30.000000</td>\n",
              "      <td>60.000000</td>\n",
              "      <td>90.000000</td>\n",
              "      <td>365.000000</td>\n",
              "      <td>34.000000</td>\n",
              "      <td>5.000000</td>\n",
              "      <td>306.000000</td>\n",
              "      <td>49.990000</td>\n",
              "      <td>1000.00000</td>\n",
              "      <td>1.000000</td>\n",
              "      <td>1.000000</td>\n",
              "      <td>1.000000</td>\n",
              "      <td>1.000000</td>\n",
              "      <td>1.000000</td>\n",
              "      <td>1.000000</td>\n",
              "      <td>1.000000</td>\n",
              "      <td>1.000000</td>\n",
              "      <td>1.000000</td>\n",
              "      <td>1.000000</td>\n",
              "      <td>1.000000</td>\n",
              "      <td>1.000000</td>\n",
              "      <td>1.000000</td>\n",
              "    </tr>\n",
              "  </tbody>\n",
              "</table>\n",
              "</div>\n",
              "    <div class=\"colab-df-buttons\">\n",
              "\n",
              "  <div class=\"colab-df-container\">\n",
              "    <button class=\"colab-df-convert\" onclick=\"convertToInteractive('df-9aed8fe5-7b0a-4db8-a585-d708e6403e38')\"\n",
              "            title=\"Convert this dataframe to an interactive table.\"\n",
              "            style=\"display:none;\">\n",
              "\n",
              "  <svg xmlns=\"http://www.w3.org/2000/svg\" height=\"24px\" viewBox=\"0 -960 960 960\">\n",
              "    <path d=\"M120-120v-720h720v720H120Zm60-500h600v-160H180v160Zm220 220h160v-160H400v160Zm0 220h160v-160H400v160ZM180-400h160v-160H180v160Zm440 0h160v-160H620v160ZM180-180h160v-160H180v160Zm440 0h160v-160H620v160Z\"/>\n",
              "  </svg>\n",
              "    </button>\n",
              "\n",
              "  <style>\n",
              "    .colab-df-container {\n",
              "      display:flex;\n",
              "      gap: 12px;\n",
              "    }\n",
              "\n",
              "    .colab-df-convert {\n",
              "      background-color: #E8F0FE;\n",
              "      border: none;\n",
              "      border-radius: 50%;\n",
              "      cursor: pointer;\n",
              "      display: none;\n",
              "      fill: #1967D2;\n",
              "      height: 32px;\n",
              "      padding: 0 0 0 0;\n",
              "      width: 32px;\n",
              "    }\n",
              "\n",
              "    .colab-df-convert:hover {\n",
              "      background-color: #E2EBFA;\n",
              "      box-shadow: 0px 1px 2px rgba(60, 64, 67, 0.3), 0px 1px 3px 1px rgba(60, 64, 67, 0.15);\n",
              "      fill: #174EA6;\n",
              "    }\n",
              "\n",
              "    .colab-df-buttons div {\n",
              "      margin-bottom: 4px;\n",
              "    }\n",
              "\n",
              "    [theme=dark] .colab-df-convert {\n",
              "      background-color: #3B4455;\n",
              "      fill: #D2E3FC;\n",
              "    }\n",
              "\n",
              "    [theme=dark] .colab-df-convert:hover {\n",
              "      background-color: #434B5C;\n",
              "      box-shadow: 0px 1px 3px 1px rgba(0, 0, 0, 0.15);\n",
              "      filter: drop-shadow(0px 1px 2px rgba(0, 0, 0, 0.3));\n",
              "      fill: #FFFFFF;\n",
              "    }\n",
              "  </style>\n",
              "\n",
              "    <script>\n",
              "      const buttonEl =\n",
              "        document.querySelector('#df-9aed8fe5-7b0a-4db8-a585-d708e6403e38 button.colab-df-convert');\n",
              "      buttonEl.style.display =\n",
              "        google.colab.kernel.accessAllowed ? 'block' : 'none';\n",
              "\n",
              "      async function convertToInteractive(key) {\n",
              "        const element = document.querySelector('#df-9aed8fe5-7b0a-4db8-a585-d708e6403e38');\n",
              "        const dataTable =\n",
              "          await google.colab.kernel.invokeFunction('convertToInteractive',\n",
              "                                                    [key], {});\n",
              "        if (!dataTable) return;\n",
              "\n",
              "        const docLinkHtml = 'Like what you see? Visit the ' +\n",
              "          '<a target=\"_blank\" href=https://colab.research.google.com/notebooks/data_table.ipynb>data table notebook</a>'\n",
              "          + ' to learn more about interactive tables.';\n",
              "        element.innerHTML = '';\n",
              "        dataTable['output_type'] = 'display_data';\n",
              "        await google.colab.output.renderOutput(dataTable, element);\n",
              "        const docLink = document.createElement('div');\n",
              "        docLink.innerHTML = docLinkHtml;\n",
              "        element.appendChild(docLink);\n",
              "      }\n",
              "    </script>\n",
              "  </div>\n",
              "\n",
              "\n",
              "<div id=\"df-98d39c04-9b62-47f2-b5ee-e9a0559eefdf\">\n",
              "  <button class=\"colab-df-quickchart\" onclick=\"quickchart('df-98d39c04-9b62-47f2-b5ee-e9a0559eefdf')\"\n",
              "            title=\"Suggest charts\"\n",
              "            style=\"display:none;\">\n",
              "\n",
              "<svg xmlns=\"http://www.w3.org/2000/svg\" height=\"24px\"viewBox=\"0 0 24 24\"\n",
              "     width=\"24px\">\n",
              "    <g>\n",
              "        <path d=\"M19 3H5c-1.1 0-2 .9-2 2v14c0 1.1.9 2 2 2h14c1.1 0 2-.9 2-2V5c0-1.1-.9-2-2-2zM9 17H7v-7h2v7zm4 0h-2V7h2v10zm4 0h-2v-4h2v4z\"/>\n",
              "    </g>\n",
              "</svg>\n",
              "  </button>\n",
              "\n",
              "<style>\n",
              "  .colab-df-quickchart {\n",
              "      --bg-color: #E8F0FE;\n",
              "      --fill-color: #1967D2;\n",
              "      --hover-bg-color: #E2EBFA;\n",
              "      --hover-fill-color: #174EA6;\n",
              "      --disabled-fill-color: #AAA;\n",
              "      --disabled-bg-color: #DDD;\n",
              "  }\n",
              "\n",
              "  [theme=dark] .colab-df-quickchart {\n",
              "      --bg-color: #3B4455;\n",
              "      --fill-color: #D2E3FC;\n",
              "      --hover-bg-color: #434B5C;\n",
              "      --hover-fill-color: #FFFFFF;\n",
              "      --disabled-bg-color: #3B4455;\n",
              "      --disabled-fill-color: #666;\n",
              "  }\n",
              "\n",
              "  .colab-df-quickchart {\n",
              "    background-color: var(--bg-color);\n",
              "    border: none;\n",
              "    border-radius: 50%;\n",
              "    cursor: pointer;\n",
              "    display: none;\n",
              "    fill: var(--fill-color);\n",
              "    height: 32px;\n",
              "    padding: 0;\n",
              "    width: 32px;\n",
              "  }\n",
              "\n",
              "  .colab-df-quickchart:hover {\n",
              "    background-color: var(--hover-bg-color);\n",
              "    box-shadow: 0 1px 2px rgba(60, 64, 67, 0.3), 0 1px 3px 1px rgba(60, 64, 67, 0.15);\n",
              "    fill: var(--button-hover-fill-color);\n",
              "  }\n",
              "\n",
              "  .colab-df-quickchart-complete:disabled,\n",
              "  .colab-df-quickchart-complete:disabled:hover {\n",
              "    background-color: var(--disabled-bg-color);\n",
              "    fill: var(--disabled-fill-color);\n",
              "    box-shadow: none;\n",
              "  }\n",
              "\n",
              "  .colab-df-spinner {\n",
              "    border: 2px solid var(--fill-color);\n",
              "    border-color: transparent;\n",
              "    border-bottom-color: var(--fill-color);\n",
              "    animation:\n",
              "      spin 1s steps(1) infinite;\n",
              "  }\n",
              "\n",
              "  @keyframes spin {\n",
              "    0% {\n",
              "      border-color: transparent;\n",
              "      border-bottom-color: var(--fill-color);\n",
              "      border-left-color: var(--fill-color);\n",
              "    }\n",
              "    20% {\n",
              "      border-color: transparent;\n",
              "      border-left-color: var(--fill-color);\n",
              "      border-top-color: var(--fill-color);\n",
              "    }\n",
              "    30% {\n",
              "      border-color: transparent;\n",
              "      border-left-color: var(--fill-color);\n",
              "      border-top-color: var(--fill-color);\n",
              "      border-right-color: var(--fill-color);\n",
              "    }\n",
              "    40% {\n",
              "      border-color: transparent;\n",
              "      border-right-color: var(--fill-color);\n",
              "      border-top-color: var(--fill-color);\n",
              "    }\n",
              "    60% {\n",
              "      border-color: transparent;\n",
              "      border-right-color: var(--fill-color);\n",
              "    }\n",
              "    80% {\n",
              "      border-color: transparent;\n",
              "      border-right-color: var(--fill-color);\n",
              "      border-bottom-color: var(--fill-color);\n",
              "    }\n",
              "    90% {\n",
              "      border-color: transparent;\n",
              "      border-bottom-color: var(--fill-color);\n",
              "    }\n",
              "  }\n",
              "</style>\n",
              "\n",
              "  <script>\n",
              "    async function quickchart(key) {\n",
              "      const quickchartButtonEl =\n",
              "        document.querySelector('#' + key + ' button');\n",
              "      quickchartButtonEl.disabled = true;  // To prevent multiple clicks.\n",
              "      quickchartButtonEl.classList.add('colab-df-spinner');\n",
              "      try {\n",
              "        const charts = await google.colab.kernel.invokeFunction(\n",
              "            'suggestCharts', [key], {});\n",
              "      } catch (error) {\n",
              "        console.error('Error during call to suggestCharts:', error);\n",
              "      }\n",
              "      quickchartButtonEl.classList.remove('colab-df-spinner');\n",
              "      quickchartButtonEl.classList.add('colab-df-quickchart-complete');\n",
              "    }\n",
              "    (() => {\n",
              "      let quickchartButtonEl =\n",
              "        document.querySelector('#df-98d39c04-9b62-47f2-b5ee-e9a0559eefdf button');\n",
              "      quickchartButtonEl.style.display =\n",
              "        google.colab.kernel.accessAllowed ? 'block' : 'none';\n",
              "    })();\n",
              "  </script>\n",
              "</div>\n",
              "    </div>\n",
              "  </div>\n"
            ]
          },
          "metadata": {},
          "execution_count": 104
        }
      ]
    },
    {
      "cell_type": "code",
      "source": [
        "# Displaying data non-numerical (categorical) values\n",
        "data.describe(exclude=np.number)"
      ],
      "metadata": {
        "colab": {
          "base_uri": "https://localhost:8080/",
          "height": 212
        },
        "id": "XY5D75dwqjgD",
        "outputId": "51275382-97a7-473b-bd2b-62b093341230"
      },
      "execution_count": null,
      "outputs": [
        {
          "output_type": "execute_result",
          "data": {
            "text/plain": [
              "       host_response_time host_is_superhost host_verifications  \\\n",
              "count               17556             19904              19915   \n",
              "unique                  4                 2                  8   \n",
              "top        within an hour                 f     [email, phone]   \n",
              "freq                14571             14286              16407   \n",
              "\n",
              "       host_has_profile_pic host_identity_verified       property_type  \\\n",
              "count                 19915                  19915               19915   \n",
              "unique                    2                      2                  89   \n",
              "top                       t                      t  Entire rental unit   \n",
              "freq                  19774                  18021               11443   \n",
              "\n",
              "              room_type amenities price_text instant_bookable  \n",
              "count             19915     19915      19915            19915  \n",
              "unique                4     18529        578                2  \n",
              "top     Entire home/apt        []     $60.00                t  \n",
              "freq              15267        48        519            11539  "
            ],
            "text/html": [
              "\n",
              "  <div id=\"df-0c321e91-3ca3-42a1-a9e3-06c2103072fc\" class=\"colab-df-container\">\n",
              "    <div>\n",
              "<style scoped>\n",
              "    .dataframe tbody tr th:only-of-type {\n",
              "        vertical-align: middle;\n",
              "    }\n",
              "\n",
              "    .dataframe tbody tr th {\n",
              "        vertical-align: top;\n",
              "    }\n",
              "\n",
              "    .dataframe thead th {\n",
              "        text-align: right;\n",
              "    }\n",
              "</style>\n",
              "<table border=\"1\" class=\"dataframe\">\n",
              "  <thead>\n",
              "    <tr style=\"text-align: right;\">\n",
              "      <th></th>\n",
              "      <th>host_response_time</th>\n",
              "      <th>host_is_superhost</th>\n",
              "      <th>host_verifications</th>\n",
              "      <th>host_has_profile_pic</th>\n",
              "      <th>host_identity_verified</th>\n",
              "      <th>property_type</th>\n",
              "      <th>room_type</th>\n",
              "      <th>amenities</th>\n",
              "      <th>price_text</th>\n",
              "      <th>instant_bookable</th>\n",
              "    </tr>\n",
              "  </thead>\n",
              "  <tbody>\n",
              "    <tr>\n",
              "      <th>count</th>\n",
              "      <td>17556</td>\n",
              "      <td>19904</td>\n",
              "      <td>19915</td>\n",
              "      <td>19915</td>\n",
              "      <td>19915</td>\n",
              "      <td>19915</td>\n",
              "      <td>19915</td>\n",
              "      <td>19915</td>\n",
              "      <td>19915</td>\n",
              "      <td>19915</td>\n",
              "    </tr>\n",
              "    <tr>\n",
              "      <th>unique</th>\n",
              "      <td>4</td>\n",
              "      <td>2</td>\n",
              "      <td>8</td>\n",
              "      <td>2</td>\n",
              "      <td>2</td>\n",
              "      <td>89</td>\n",
              "      <td>4</td>\n",
              "      <td>18529</td>\n",
              "      <td>578</td>\n",
              "      <td>2</td>\n",
              "    </tr>\n",
              "    <tr>\n",
              "      <th>top</th>\n",
              "      <td>within an hour</td>\n",
              "      <td>f</td>\n",
              "      <td>[email, phone]</td>\n",
              "      <td>t</td>\n",
              "      <td>t</td>\n",
              "      <td>Entire rental unit</td>\n",
              "      <td>Entire home/apt</td>\n",
              "      <td>[]</td>\n",
              "      <td>$60.00</td>\n",
              "      <td>t</td>\n",
              "    </tr>\n",
              "    <tr>\n",
              "      <th>freq</th>\n",
              "      <td>14571</td>\n",
              "      <td>14286</td>\n",
              "      <td>16407</td>\n",
              "      <td>19774</td>\n",
              "      <td>18021</td>\n",
              "      <td>11443</td>\n",
              "      <td>15267</td>\n",
              "      <td>48</td>\n",
              "      <td>519</td>\n",
              "      <td>11539</td>\n",
              "    </tr>\n",
              "  </tbody>\n",
              "</table>\n",
              "</div>\n",
              "    <div class=\"colab-df-buttons\">\n",
              "\n",
              "  <div class=\"colab-df-container\">\n",
              "    <button class=\"colab-df-convert\" onclick=\"convertToInteractive('df-0c321e91-3ca3-42a1-a9e3-06c2103072fc')\"\n",
              "            title=\"Convert this dataframe to an interactive table.\"\n",
              "            style=\"display:none;\">\n",
              "\n",
              "  <svg xmlns=\"http://www.w3.org/2000/svg\" height=\"24px\" viewBox=\"0 -960 960 960\">\n",
              "    <path d=\"M120-120v-720h720v720H120Zm60-500h600v-160H180v160Zm220 220h160v-160H400v160Zm0 220h160v-160H400v160ZM180-400h160v-160H180v160Zm440 0h160v-160H620v160ZM180-180h160v-160H180v160Zm440 0h160v-160H620v160Z\"/>\n",
              "  </svg>\n",
              "    </button>\n",
              "\n",
              "  <style>\n",
              "    .colab-df-container {\n",
              "      display:flex;\n",
              "      gap: 12px;\n",
              "    }\n",
              "\n",
              "    .colab-df-convert {\n",
              "      background-color: #E8F0FE;\n",
              "      border: none;\n",
              "      border-radius: 50%;\n",
              "      cursor: pointer;\n",
              "      display: none;\n",
              "      fill: #1967D2;\n",
              "      height: 32px;\n",
              "      padding: 0 0 0 0;\n",
              "      width: 32px;\n",
              "    }\n",
              "\n",
              "    .colab-df-convert:hover {\n",
              "      background-color: #E2EBFA;\n",
              "      box-shadow: 0px 1px 2px rgba(60, 64, 67, 0.3), 0px 1px 3px 1px rgba(60, 64, 67, 0.15);\n",
              "      fill: #174EA6;\n",
              "    }\n",
              "\n",
              "    .colab-df-buttons div {\n",
              "      margin-bottom: 4px;\n",
              "    }\n",
              "\n",
              "    [theme=dark] .colab-df-convert {\n",
              "      background-color: #3B4455;\n",
              "      fill: #D2E3FC;\n",
              "    }\n",
              "\n",
              "    [theme=dark] .colab-df-convert:hover {\n",
              "      background-color: #434B5C;\n",
              "      box-shadow: 0px 1px 3px 1px rgba(0, 0, 0, 0.15);\n",
              "      filter: drop-shadow(0px 1px 2px rgba(0, 0, 0, 0.3));\n",
              "      fill: #FFFFFF;\n",
              "    }\n",
              "  </style>\n",
              "\n",
              "    <script>\n",
              "      const buttonEl =\n",
              "        document.querySelector('#df-0c321e91-3ca3-42a1-a9e3-06c2103072fc button.colab-df-convert');\n",
              "      buttonEl.style.display =\n",
              "        google.colab.kernel.accessAllowed ? 'block' : 'none';\n",
              "\n",
              "      async function convertToInteractive(key) {\n",
              "        const element = document.querySelector('#df-0c321e91-3ca3-42a1-a9e3-06c2103072fc');\n",
              "        const dataTable =\n",
              "          await google.colab.kernel.invokeFunction('convertToInteractive',\n",
              "                                                    [key], {});\n",
              "        if (!dataTable) return;\n",
              "\n",
              "        const docLinkHtml = 'Like what you see? Visit the ' +\n",
              "          '<a target=\"_blank\" href=https://colab.research.google.com/notebooks/data_table.ipynb>data table notebook</a>'\n",
              "          + ' to learn more about interactive tables.';\n",
              "        element.innerHTML = '';\n",
              "        dataTable['output_type'] = 'display_data';\n",
              "        await google.colab.output.renderOutput(dataTable, element);\n",
              "        const docLink = document.createElement('div');\n",
              "        docLink.innerHTML = docLinkHtml;\n",
              "        element.appendChild(docLink);\n",
              "      }\n",
              "    </script>\n",
              "  </div>\n",
              "\n",
              "\n",
              "<div id=\"df-4d71d993-7bd6-4c81-987d-17909c6ddb01\">\n",
              "  <button class=\"colab-df-quickchart\" onclick=\"quickchart('df-4d71d993-7bd6-4c81-987d-17909c6ddb01')\"\n",
              "            title=\"Suggest charts\"\n",
              "            style=\"display:none;\">\n",
              "\n",
              "<svg xmlns=\"http://www.w3.org/2000/svg\" height=\"24px\"viewBox=\"0 0 24 24\"\n",
              "     width=\"24px\">\n",
              "    <g>\n",
              "        <path d=\"M19 3H5c-1.1 0-2 .9-2 2v14c0 1.1.9 2 2 2h14c1.1 0 2-.9 2-2V5c0-1.1-.9-2-2-2zM9 17H7v-7h2v7zm4 0h-2V7h2v10zm4 0h-2v-4h2v4z\"/>\n",
              "    </g>\n",
              "</svg>\n",
              "  </button>\n",
              "\n",
              "<style>\n",
              "  .colab-df-quickchart {\n",
              "      --bg-color: #E8F0FE;\n",
              "      --fill-color: #1967D2;\n",
              "      --hover-bg-color: #E2EBFA;\n",
              "      --hover-fill-color: #174EA6;\n",
              "      --disabled-fill-color: #AAA;\n",
              "      --disabled-bg-color: #DDD;\n",
              "  }\n",
              "\n",
              "  [theme=dark] .colab-df-quickchart {\n",
              "      --bg-color: #3B4455;\n",
              "      --fill-color: #D2E3FC;\n",
              "      --hover-bg-color: #434B5C;\n",
              "      --hover-fill-color: #FFFFFF;\n",
              "      --disabled-bg-color: #3B4455;\n",
              "      --disabled-fill-color: #666;\n",
              "  }\n",
              "\n",
              "  .colab-df-quickchart {\n",
              "    background-color: var(--bg-color);\n",
              "    border: none;\n",
              "    border-radius: 50%;\n",
              "    cursor: pointer;\n",
              "    display: none;\n",
              "    fill: var(--fill-color);\n",
              "    height: 32px;\n",
              "    padding: 0;\n",
              "    width: 32px;\n",
              "  }\n",
              "\n",
              "  .colab-df-quickchart:hover {\n",
              "    background-color: var(--hover-bg-color);\n",
              "    box-shadow: 0 1px 2px rgba(60, 64, 67, 0.3), 0 1px 3px 1px rgba(60, 64, 67, 0.15);\n",
              "    fill: var(--button-hover-fill-color);\n",
              "  }\n",
              "\n",
              "  .colab-df-quickchart-complete:disabled,\n",
              "  .colab-df-quickchart-complete:disabled:hover {\n",
              "    background-color: var(--disabled-bg-color);\n",
              "    fill: var(--disabled-fill-color);\n",
              "    box-shadow: none;\n",
              "  }\n",
              "\n",
              "  .colab-df-spinner {\n",
              "    border: 2px solid var(--fill-color);\n",
              "    border-color: transparent;\n",
              "    border-bottom-color: var(--fill-color);\n",
              "    animation:\n",
              "      spin 1s steps(1) infinite;\n",
              "  }\n",
              "\n",
              "  @keyframes spin {\n",
              "    0% {\n",
              "      border-color: transparent;\n",
              "      border-bottom-color: var(--fill-color);\n",
              "      border-left-color: var(--fill-color);\n",
              "    }\n",
              "    20% {\n",
              "      border-color: transparent;\n",
              "      border-left-color: var(--fill-color);\n",
              "      border-top-color: var(--fill-color);\n",
              "    }\n",
              "    30% {\n",
              "      border-color: transparent;\n",
              "      border-left-color: var(--fill-color);\n",
              "      border-top-color: var(--fill-color);\n",
              "      border-right-color: var(--fill-color);\n",
              "    }\n",
              "    40% {\n",
              "      border-color: transparent;\n",
              "      border-right-color: var(--fill-color);\n",
              "      border-top-color: var(--fill-color);\n",
              "    }\n",
              "    60% {\n",
              "      border-color: transparent;\n",
              "      border-right-color: var(--fill-color);\n",
              "    }\n",
              "    80% {\n",
              "      border-color: transparent;\n",
              "      border-right-color: var(--fill-color);\n",
              "      border-bottom-color: var(--fill-color);\n",
              "    }\n",
              "    90% {\n",
              "      border-color: transparent;\n",
              "      border-bottom-color: var(--fill-color);\n",
              "    }\n",
              "  }\n",
              "</style>\n",
              "\n",
              "  <script>\n",
              "    async function quickchart(key) {\n",
              "      const quickchartButtonEl =\n",
              "        document.querySelector('#' + key + ' button');\n",
              "      quickchartButtonEl.disabled = true;  // To prevent multiple clicks.\n",
              "      quickchartButtonEl.classList.add('colab-df-spinner');\n",
              "      try {\n",
              "        const charts = await google.colab.kernel.invokeFunction(\n",
              "            'suggestCharts', [key], {});\n",
              "      } catch (error) {\n",
              "        console.error('Error during call to suggestCharts:', error);\n",
              "      }\n",
              "      quickchartButtonEl.classList.remove('colab-df-spinner');\n",
              "      quickchartButtonEl.classList.add('colab-df-quickchart-complete');\n",
              "    }\n",
              "    (() => {\n",
              "      let quickchartButtonEl =\n",
              "        document.querySelector('#df-4d71d993-7bd6-4c81-987d-17909c6ddb01 button');\n",
              "      quickchartButtonEl.style.display =\n",
              "        google.colab.kernel.accessAllowed ? 'block' : 'none';\n",
              "    })();\n",
              "  </script>\n",
              "</div>\n",
              "    </div>\n",
              "  </div>\n"
            ]
          },
          "metadata": {},
          "execution_count": 105
        }
      ]
    },
    {
      "cell_type": "code",
      "source": [
        "# Data type after cleansing\n",
        "data.info()"
      ],
      "metadata": {
        "colab": {
          "base_uri": "https://localhost:8080/"
        },
        "id": "uwUaKafUw73T",
        "outputId": "bfc4df52-1bb4-4ef8-c1d9-958f81251f32"
      },
      "execution_count": null,
      "outputs": [
        {
          "output_type": "stream",
          "name": "stdout",
          "text": [
            "<class 'pandas.core.frame.DataFrame'>\n",
            "Int64Index: 19915 entries, 0 to 20096\n",
            "Data columns (total 42 columns):\n",
            " #   Column                           Non-Null Count  Dtype   \n",
            "---  ------                           --------------  -----   \n",
            " 0   host_response_time               17556 non-null  category\n",
            " 1   host_response_rate               19915 non-null  float64 \n",
            " 2   host_acceptance_rate             19915 non-null  float64 \n",
            " 3   host_is_superhost                19904 non-null  object  \n",
            " 4   host_listings_count              19915 non-null  int64   \n",
            " 5   host_verifications               19915 non-null  object  \n",
            " 6   host_has_profile_pic             19915 non-null  object  \n",
            " 7   host_identity_verified           19915 non-null  object  \n",
            " 8   property_type                    19915 non-null  object  \n",
            " 9   room_type                        19915 non-null  object  \n",
            " 10  accommodates                     19915 non-null  int64   \n",
            " 11  bathrooms                        19915 non-null  float64 \n",
            " 12  bedrooms                         19915 non-null  float64 \n",
            " 13  beds                             19915 non-null  float64 \n",
            " 14  amenities                        19915 non-null  object  \n",
            " 15  price_text                       19915 non-null  object  \n",
            " 16  minimum_nights                   19915 non-null  int64   \n",
            " 17  maximum_nights                   19915 non-null  int64   \n",
            " 18  minimum_minimum_nights           19915 non-null  int64   \n",
            " 19  availability_30                  19915 non-null  int64   \n",
            " 20  availability_60                  19915 non-null  int64   \n",
            " 21  availability_90                  19915 non-null  int64   \n",
            " 22  availability_365                 19915 non-null  int64   \n",
            " 23  number_of_reviews_l30d           19915 non-null  int64   \n",
            " 24  review_scores_rating             19915 non-null  float64 \n",
            " 25  instant_bookable                 19915 non-null  object  \n",
            " 26  calculated_host_listings_count   19915 non-null  int64   \n",
            " 27  reviews_per_month                19915 non-null  float64 \n",
            " 28  price                            19915 non-null  float64 \n",
            " 29  normalized_distance_from_center  19915 non-null  float64 \n",
            " 30  is_wifi                          19915 non-null  int64   \n",
            " 31  is_tv                            19915 non-null  int64   \n",
            " 32  is_essentials                    19915 non-null  int64   \n",
            " 33  is_self_checkin                  19915 non-null  int64   \n",
            " 34  is_kitchen                       19915 non-null  int64   \n",
            " 35  is_parking                       19915 non-null  int64   \n",
            " 36  is_pets                          19915 non-null  int64   \n",
            " 37  is_air_conditioning              19915 non-null  int64   \n",
            " 38  is_elevator                      19915 non-null  int64   \n",
            " 39  is_iron                          19915 non-null  int64   \n",
            " 40  is_washer                        19915 non-null  int64   \n",
            " 41  is_private_pool                  19915 non-null  int64   \n",
            "dtypes: category(1), float64(9), int64(23), object(9)\n",
            "memory usage: 6.4+ MB\n"
          ]
        }
      ]
    },
    {
      "cell_type": "markdown",
      "source": [
        "#6.Calculate the correlation matrix. Spearman method used. Plots pairplots."
      ],
      "metadata": {
        "id": "teRiF8Erw67S"
      }
    },
    {
      "cell_type": "code",
      "source": [
        "selected_columns = ['host_response_rate',\t'is_wifi','is_air_conditioning','is_washer','is_private_pool','accommodates','bathrooms',\t'bedrooms','minimum_nights','availability_90','review_scores_rating',\t'normalized_distance_from_center','price']\n",
        "data_corelation = data[selected_columns].copy()\n",
        "\n",
        "correlation_matrix = data_corelation.corr(method='spearman')\n",
        "\n",
        "correlation_matrix"
      ],
      "metadata": {
        "colab": {
          "base_uri": "https://localhost:8080/",
          "height": 477
        },
        "id": "SwIdvzHZw52n",
        "outputId": "0958471e-57d1-496f-f9e3-6c6f7283830b"
      },
      "execution_count": null,
      "outputs": [
        {
          "output_type": "execute_result",
          "data": {
            "text/plain": [
              "                                 host_response_rate   is_wifi  \\\n",
              "host_response_rate                         1.000000 -0.001560   \n",
              "is_wifi                                   -0.001560  1.000000   \n",
              "is_air_conditioning                       -0.023275  0.056625   \n",
              "is_washer                                  0.010904  0.140188   \n",
              "is_private_pool                            0.002088  0.013389   \n",
              "accommodates                               0.036072  0.021484   \n",
              "bathrooms                                 -0.005829  0.035938   \n",
              "bedrooms                                   0.046087  0.025372   \n",
              "minimum_nights                             0.110518  0.011538   \n",
              "availability_90                           -0.045204 -0.058030   \n",
              "review_scores_rating                       0.156032  0.011582   \n",
              "normalized_distance_from_center            0.054792 -0.047778   \n",
              "price                                      0.021716  0.014415   \n",
              "\n",
              "                                 is_air_conditioning  is_washer  \\\n",
              "host_response_rate                         -0.023275   0.010904   \n",
              "is_wifi                                     0.056625   0.140188   \n",
              "is_air_conditioning                         1.000000   0.042005   \n",
              "is_washer                                   0.042005   1.000000   \n",
              "is_private_pool                            -0.001127   0.046657   \n",
              "accommodates                                0.065835   0.264765   \n",
              "bathrooms                                   0.010712   0.182095   \n",
              "bedrooms                                    0.002337   0.258687   \n",
              "minimum_nights                             -0.062837   0.189323   \n",
              "availability_90                             0.023028  -0.081386   \n",
              "review_scores_rating                        0.095472   0.092567   \n",
              "normalized_distance_from_center            -0.118679  -0.008653   \n",
              "price                                       0.273057   0.169937   \n",
              "\n",
              "                                 is_private_pool  accommodates  bathrooms  \\\n",
              "host_response_rate                      0.002088      0.036072  -0.005829   \n",
              "is_wifi                                 0.013389      0.021484   0.035938   \n",
              "is_air_conditioning                    -0.001127      0.065835   0.010712   \n",
              "is_washer                               0.046657      0.264765   0.182095   \n",
              "is_private_pool                         1.000000      0.146950   0.157541   \n",
              "accommodates                            0.146950      1.000000   0.401071   \n",
              "bathrooms                               0.157541      0.401071   1.000000   \n",
              "bedrooms                                0.161748      0.781675   0.512414   \n",
              "minimum_nights                          0.089308      0.135801   0.102520   \n",
              "availability_90                         0.047455     -0.006192   0.010332   \n",
              "review_scores_rating                    0.056898      0.042458   0.044281   \n",
              "normalized_distance_from_center         0.154070      0.082766   0.140993   \n",
              "price                                   0.141728      0.567226   0.319152   \n",
              "\n",
              "                                 bedrooms  minimum_nights  availability_90  \\\n",
              "host_response_rate               0.046087        0.110518        -0.045204   \n",
              "is_wifi                          0.025372        0.011538        -0.058030   \n",
              "is_air_conditioning              0.002337       -0.062837         0.023028   \n",
              "is_washer                        0.258687        0.189323        -0.081386   \n",
              "is_private_pool                  0.161748        0.089308         0.047455   \n",
              "accommodates                     0.781675        0.135801        -0.006192   \n",
              "bathrooms                        0.512414        0.102520         0.010332   \n",
              "bedrooms                         1.000000        0.194731        -0.027989   \n",
              "minimum_nights                   0.194731        1.000000        -0.159373   \n",
              "availability_90                 -0.027989       -0.159373         1.000000   \n",
              "review_scores_rating             0.061334        0.180560        -0.085825   \n",
              "normalized_distance_from_center  0.119175        0.096178         0.207850   \n",
              "price                            0.529354        0.072010         0.102342   \n",
              "\n",
              "                                 review_scores_rating  \\\n",
              "host_response_rate                           0.156032   \n",
              "is_wifi                                      0.011582   \n",
              "is_air_conditioning                          0.095472   \n",
              "is_washer                                    0.092567   \n",
              "is_private_pool                              0.056898   \n",
              "accommodates                                 0.042458   \n",
              "bathrooms                                    0.044281   \n",
              "bedrooms                                     0.061334   \n",
              "minimum_nights                               0.180560   \n",
              "availability_90                             -0.085825   \n",
              "review_scores_rating                         1.000000   \n",
              "normalized_distance_from_center              0.120618   \n",
              "price                                        0.152708   \n",
              "\n",
              "                                 normalized_distance_from_center     price  \n",
              "host_response_rate                                      0.054792  0.021716  \n",
              "is_wifi                                                -0.047778  0.014415  \n",
              "is_air_conditioning                                    -0.118679  0.273057  \n",
              "is_washer                                              -0.008653  0.169937  \n",
              "is_private_pool                                         0.154070  0.141728  \n",
              "accommodates                                            0.082766  0.567226  \n",
              "bathrooms                                               0.140993  0.319152  \n",
              "bedrooms                                                0.119175  0.529354  \n",
              "minimum_nights                                          0.096178  0.072010  \n",
              "availability_90                                         0.207850  0.102342  \n",
              "review_scores_rating                                    0.120618  0.152708  \n",
              "normalized_distance_from_center                         1.000000 -0.074118  \n",
              "price                                                  -0.074118  1.000000  "
            ],
            "text/html": [
              "\n",
              "  <div id=\"df-37d66738-0c88-4df8-9844-8ecd1298eeeb\" class=\"colab-df-container\">\n",
              "    <div>\n",
              "<style scoped>\n",
              "    .dataframe tbody tr th:only-of-type {\n",
              "        vertical-align: middle;\n",
              "    }\n",
              "\n",
              "    .dataframe tbody tr th {\n",
              "        vertical-align: top;\n",
              "    }\n",
              "\n",
              "    .dataframe thead th {\n",
              "        text-align: right;\n",
              "    }\n",
              "</style>\n",
              "<table border=\"1\" class=\"dataframe\">\n",
              "  <thead>\n",
              "    <tr style=\"text-align: right;\">\n",
              "      <th></th>\n",
              "      <th>host_response_rate</th>\n",
              "      <th>is_wifi</th>\n",
              "      <th>is_air_conditioning</th>\n",
              "      <th>is_washer</th>\n",
              "      <th>is_private_pool</th>\n",
              "      <th>accommodates</th>\n",
              "      <th>bathrooms</th>\n",
              "      <th>bedrooms</th>\n",
              "      <th>minimum_nights</th>\n",
              "      <th>availability_90</th>\n",
              "      <th>review_scores_rating</th>\n",
              "      <th>normalized_distance_from_center</th>\n",
              "      <th>price</th>\n",
              "    </tr>\n",
              "  </thead>\n",
              "  <tbody>\n",
              "    <tr>\n",
              "      <th>host_response_rate</th>\n",
              "      <td>1.000000</td>\n",
              "      <td>-0.001560</td>\n",
              "      <td>-0.023275</td>\n",
              "      <td>0.010904</td>\n",
              "      <td>0.002088</td>\n",
              "      <td>0.036072</td>\n",
              "      <td>-0.005829</td>\n",
              "      <td>0.046087</td>\n",
              "      <td>0.110518</td>\n",
              "      <td>-0.045204</td>\n",
              "      <td>0.156032</td>\n",
              "      <td>0.054792</td>\n",
              "      <td>0.021716</td>\n",
              "    </tr>\n",
              "    <tr>\n",
              "      <th>is_wifi</th>\n",
              "      <td>-0.001560</td>\n",
              "      <td>1.000000</td>\n",
              "      <td>0.056625</td>\n",
              "      <td>0.140188</td>\n",
              "      <td>0.013389</td>\n",
              "      <td>0.021484</td>\n",
              "      <td>0.035938</td>\n",
              "      <td>0.025372</td>\n",
              "      <td>0.011538</td>\n",
              "      <td>-0.058030</td>\n",
              "      <td>0.011582</td>\n",
              "      <td>-0.047778</td>\n",
              "      <td>0.014415</td>\n",
              "    </tr>\n",
              "    <tr>\n",
              "      <th>is_air_conditioning</th>\n",
              "      <td>-0.023275</td>\n",
              "      <td>0.056625</td>\n",
              "      <td>1.000000</td>\n",
              "      <td>0.042005</td>\n",
              "      <td>-0.001127</td>\n",
              "      <td>0.065835</td>\n",
              "      <td>0.010712</td>\n",
              "      <td>0.002337</td>\n",
              "      <td>-0.062837</td>\n",
              "      <td>0.023028</td>\n",
              "      <td>0.095472</td>\n",
              "      <td>-0.118679</td>\n",
              "      <td>0.273057</td>\n",
              "    </tr>\n",
              "    <tr>\n",
              "      <th>is_washer</th>\n",
              "      <td>0.010904</td>\n",
              "      <td>0.140188</td>\n",
              "      <td>0.042005</td>\n",
              "      <td>1.000000</td>\n",
              "      <td>0.046657</td>\n",
              "      <td>0.264765</td>\n",
              "      <td>0.182095</td>\n",
              "      <td>0.258687</td>\n",
              "      <td>0.189323</td>\n",
              "      <td>-0.081386</td>\n",
              "      <td>0.092567</td>\n",
              "      <td>-0.008653</td>\n",
              "      <td>0.169937</td>\n",
              "    </tr>\n",
              "    <tr>\n",
              "      <th>is_private_pool</th>\n",
              "      <td>0.002088</td>\n",
              "      <td>0.013389</td>\n",
              "      <td>-0.001127</td>\n",
              "      <td>0.046657</td>\n",
              "      <td>1.000000</td>\n",
              "      <td>0.146950</td>\n",
              "      <td>0.157541</td>\n",
              "      <td>0.161748</td>\n",
              "      <td>0.089308</td>\n",
              "      <td>0.047455</td>\n",
              "      <td>0.056898</td>\n",
              "      <td>0.154070</td>\n",
              "      <td>0.141728</td>\n",
              "    </tr>\n",
              "    <tr>\n",
              "      <th>accommodates</th>\n",
              "      <td>0.036072</td>\n",
              "      <td>0.021484</td>\n",
              "      <td>0.065835</td>\n",
              "      <td>0.264765</td>\n",
              "      <td>0.146950</td>\n",
              "      <td>1.000000</td>\n",
              "      <td>0.401071</td>\n",
              "      <td>0.781675</td>\n",
              "      <td>0.135801</td>\n",
              "      <td>-0.006192</td>\n",
              "      <td>0.042458</td>\n",
              "      <td>0.082766</td>\n",
              "      <td>0.567226</td>\n",
              "    </tr>\n",
              "    <tr>\n",
              "      <th>bathrooms</th>\n",
              "      <td>-0.005829</td>\n",
              "      <td>0.035938</td>\n",
              "      <td>0.010712</td>\n",
              "      <td>0.182095</td>\n",
              "      <td>0.157541</td>\n",
              "      <td>0.401071</td>\n",
              "      <td>1.000000</td>\n",
              "      <td>0.512414</td>\n",
              "      <td>0.102520</td>\n",
              "      <td>0.010332</td>\n",
              "      <td>0.044281</td>\n",
              "      <td>0.140993</td>\n",
              "      <td>0.319152</td>\n",
              "    </tr>\n",
              "    <tr>\n",
              "      <th>bedrooms</th>\n",
              "      <td>0.046087</td>\n",
              "      <td>0.025372</td>\n",
              "      <td>0.002337</td>\n",
              "      <td>0.258687</td>\n",
              "      <td>0.161748</td>\n",
              "      <td>0.781675</td>\n",
              "      <td>0.512414</td>\n",
              "      <td>1.000000</td>\n",
              "      <td>0.194731</td>\n",
              "      <td>-0.027989</td>\n",
              "      <td>0.061334</td>\n",
              "      <td>0.119175</td>\n",
              "      <td>0.529354</td>\n",
              "    </tr>\n",
              "    <tr>\n",
              "      <th>minimum_nights</th>\n",
              "      <td>0.110518</td>\n",
              "      <td>0.011538</td>\n",
              "      <td>-0.062837</td>\n",
              "      <td>0.189323</td>\n",
              "      <td>0.089308</td>\n",
              "      <td>0.135801</td>\n",
              "      <td>0.102520</td>\n",
              "      <td>0.194731</td>\n",
              "      <td>1.000000</td>\n",
              "      <td>-0.159373</td>\n",
              "      <td>0.180560</td>\n",
              "      <td>0.096178</td>\n",
              "      <td>0.072010</td>\n",
              "    </tr>\n",
              "    <tr>\n",
              "      <th>availability_90</th>\n",
              "      <td>-0.045204</td>\n",
              "      <td>-0.058030</td>\n",
              "      <td>0.023028</td>\n",
              "      <td>-0.081386</td>\n",
              "      <td>0.047455</td>\n",
              "      <td>-0.006192</td>\n",
              "      <td>0.010332</td>\n",
              "      <td>-0.027989</td>\n",
              "      <td>-0.159373</td>\n",
              "      <td>1.000000</td>\n",
              "      <td>-0.085825</td>\n",
              "      <td>0.207850</td>\n",
              "      <td>0.102342</td>\n",
              "    </tr>\n",
              "    <tr>\n",
              "      <th>review_scores_rating</th>\n",
              "      <td>0.156032</td>\n",
              "      <td>0.011582</td>\n",
              "      <td>0.095472</td>\n",
              "      <td>0.092567</td>\n",
              "      <td>0.056898</td>\n",
              "      <td>0.042458</td>\n",
              "      <td>0.044281</td>\n",
              "      <td>0.061334</td>\n",
              "      <td>0.180560</td>\n",
              "      <td>-0.085825</td>\n",
              "      <td>1.000000</td>\n",
              "      <td>0.120618</td>\n",
              "      <td>0.152708</td>\n",
              "    </tr>\n",
              "    <tr>\n",
              "      <th>normalized_distance_from_center</th>\n",
              "      <td>0.054792</td>\n",
              "      <td>-0.047778</td>\n",
              "      <td>-0.118679</td>\n",
              "      <td>-0.008653</td>\n",
              "      <td>0.154070</td>\n",
              "      <td>0.082766</td>\n",
              "      <td>0.140993</td>\n",
              "      <td>0.119175</td>\n",
              "      <td>0.096178</td>\n",
              "      <td>0.207850</td>\n",
              "      <td>0.120618</td>\n",
              "      <td>1.000000</td>\n",
              "      <td>-0.074118</td>\n",
              "    </tr>\n",
              "    <tr>\n",
              "      <th>price</th>\n",
              "      <td>0.021716</td>\n",
              "      <td>0.014415</td>\n",
              "      <td>0.273057</td>\n",
              "      <td>0.169937</td>\n",
              "      <td>0.141728</td>\n",
              "      <td>0.567226</td>\n",
              "      <td>0.319152</td>\n",
              "      <td>0.529354</td>\n",
              "      <td>0.072010</td>\n",
              "      <td>0.102342</td>\n",
              "      <td>0.152708</td>\n",
              "      <td>-0.074118</td>\n",
              "      <td>1.000000</td>\n",
              "    </tr>\n",
              "  </tbody>\n",
              "</table>\n",
              "</div>\n",
              "    <div class=\"colab-df-buttons\">\n",
              "\n",
              "  <div class=\"colab-df-container\">\n",
              "    <button class=\"colab-df-convert\" onclick=\"convertToInteractive('df-37d66738-0c88-4df8-9844-8ecd1298eeeb')\"\n",
              "            title=\"Convert this dataframe to an interactive table.\"\n",
              "            style=\"display:none;\">\n",
              "\n",
              "  <svg xmlns=\"http://www.w3.org/2000/svg\" height=\"24px\" viewBox=\"0 -960 960 960\">\n",
              "    <path d=\"M120-120v-720h720v720H120Zm60-500h600v-160H180v160Zm220 220h160v-160H400v160Zm0 220h160v-160H400v160ZM180-400h160v-160H180v160Zm440 0h160v-160H620v160ZM180-180h160v-160H180v160Zm440 0h160v-160H620v160Z\"/>\n",
              "  </svg>\n",
              "    </button>\n",
              "\n",
              "  <style>\n",
              "    .colab-df-container {\n",
              "      display:flex;\n",
              "      gap: 12px;\n",
              "    }\n",
              "\n",
              "    .colab-df-convert {\n",
              "      background-color: #E8F0FE;\n",
              "      border: none;\n",
              "      border-radius: 50%;\n",
              "      cursor: pointer;\n",
              "      display: none;\n",
              "      fill: #1967D2;\n",
              "      height: 32px;\n",
              "      padding: 0 0 0 0;\n",
              "      width: 32px;\n",
              "    }\n",
              "\n",
              "    .colab-df-convert:hover {\n",
              "      background-color: #E2EBFA;\n",
              "      box-shadow: 0px 1px 2px rgba(60, 64, 67, 0.3), 0px 1px 3px 1px rgba(60, 64, 67, 0.15);\n",
              "      fill: #174EA6;\n",
              "    }\n",
              "\n",
              "    .colab-df-buttons div {\n",
              "      margin-bottom: 4px;\n",
              "    }\n",
              "\n",
              "    [theme=dark] .colab-df-convert {\n",
              "      background-color: #3B4455;\n",
              "      fill: #D2E3FC;\n",
              "    }\n",
              "\n",
              "    [theme=dark] .colab-df-convert:hover {\n",
              "      background-color: #434B5C;\n",
              "      box-shadow: 0px 1px 3px 1px rgba(0, 0, 0, 0.15);\n",
              "      filter: drop-shadow(0px 1px 2px rgba(0, 0, 0, 0.3));\n",
              "      fill: #FFFFFF;\n",
              "    }\n",
              "  </style>\n",
              "\n",
              "    <script>\n",
              "      const buttonEl =\n",
              "        document.querySelector('#df-37d66738-0c88-4df8-9844-8ecd1298eeeb button.colab-df-convert');\n",
              "      buttonEl.style.display =\n",
              "        google.colab.kernel.accessAllowed ? 'block' : 'none';\n",
              "\n",
              "      async function convertToInteractive(key) {\n",
              "        const element = document.querySelector('#df-37d66738-0c88-4df8-9844-8ecd1298eeeb');\n",
              "        const dataTable =\n",
              "          await google.colab.kernel.invokeFunction('convertToInteractive',\n",
              "                                                    [key], {});\n",
              "        if (!dataTable) return;\n",
              "\n",
              "        const docLinkHtml = 'Like what you see? Visit the ' +\n",
              "          '<a target=\"_blank\" href=https://colab.research.google.com/notebooks/data_table.ipynb>data table notebook</a>'\n",
              "          + ' to learn more about interactive tables.';\n",
              "        element.innerHTML = '';\n",
              "        dataTable['output_type'] = 'display_data';\n",
              "        await google.colab.output.renderOutput(dataTable, element);\n",
              "        const docLink = document.createElement('div');\n",
              "        docLink.innerHTML = docLinkHtml;\n",
              "        element.appendChild(docLink);\n",
              "      }\n",
              "    </script>\n",
              "  </div>\n",
              "\n",
              "\n",
              "<div id=\"df-00874744-093d-4d23-bf01-7ca6e6c49946\">\n",
              "  <button class=\"colab-df-quickchart\" onclick=\"quickchart('df-00874744-093d-4d23-bf01-7ca6e6c49946')\"\n",
              "            title=\"Suggest charts\"\n",
              "            style=\"display:none;\">\n",
              "\n",
              "<svg xmlns=\"http://www.w3.org/2000/svg\" height=\"24px\"viewBox=\"0 0 24 24\"\n",
              "     width=\"24px\">\n",
              "    <g>\n",
              "        <path d=\"M19 3H5c-1.1 0-2 .9-2 2v14c0 1.1.9 2 2 2h14c1.1 0 2-.9 2-2V5c0-1.1-.9-2-2-2zM9 17H7v-7h2v7zm4 0h-2V7h2v10zm4 0h-2v-4h2v4z\"/>\n",
              "    </g>\n",
              "</svg>\n",
              "  </button>\n",
              "\n",
              "<style>\n",
              "  .colab-df-quickchart {\n",
              "      --bg-color: #E8F0FE;\n",
              "      --fill-color: #1967D2;\n",
              "      --hover-bg-color: #E2EBFA;\n",
              "      --hover-fill-color: #174EA6;\n",
              "      --disabled-fill-color: #AAA;\n",
              "      --disabled-bg-color: #DDD;\n",
              "  }\n",
              "\n",
              "  [theme=dark] .colab-df-quickchart {\n",
              "      --bg-color: #3B4455;\n",
              "      --fill-color: #D2E3FC;\n",
              "      --hover-bg-color: #434B5C;\n",
              "      --hover-fill-color: #FFFFFF;\n",
              "      --disabled-bg-color: #3B4455;\n",
              "      --disabled-fill-color: #666;\n",
              "  }\n",
              "\n",
              "  .colab-df-quickchart {\n",
              "    background-color: var(--bg-color);\n",
              "    border: none;\n",
              "    border-radius: 50%;\n",
              "    cursor: pointer;\n",
              "    display: none;\n",
              "    fill: var(--fill-color);\n",
              "    height: 32px;\n",
              "    padding: 0;\n",
              "    width: 32px;\n",
              "  }\n",
              "\n",
              "  .colab-df-quickchart:hover {\n",
              "    background-color: var(--hover-bg-color);\n",
              "    box-shadow: 0 1px 2px rgba(60, 64, 67, 0.3), 0 1px 3px 1px rgba(60, 64, 67, 0.15);\n",
              "    fill: var(--button-hover-fill-color);\n",
              "  }\n",
              "\n",
              "  .colab-df-quickchart-complete:disabled,\n",
              "  .colab-df-quickchart-complete:disabled:hover {\n",
              "    background-color: var(--disabled-bg-color);\n",
              "    fill: var(--disabled-fill-color);\n",
              "    box-shadow: none;\n",
              "  }\n",
              "\n",
              "  .colab-df-spinner {\n",
              "    border: 2px solid var(--fill-color);\n",
              "    border-color: transparent;\n",
              "    border-bottom-color: var(--fill-color);\n",
              "    animation:\n",
              "      spin 1s steps(1) infinite;\n",
              "  }\n",
              "\n",
              "  @keyframes spin {\n",
              "    0% {\n",
              "      border-color: transparent;\n",
              "      border-bottom-color: var(--fill-color);\n",
              "      border-left-color: var(--fill-color);\n",
              "    }\n",
              "    20% {\n",
              "      border-color: transparent;\n",
              "      border-left-color: var(--fill-color);\n",
              "      border-top-color: var(--fill-color);\n",
              "    }\n",
              "    30% {\n",
              "      border-color: transparent;\n",
              "      border-left-color: var(--fill-color);\n",
              "      border-top-color: var(--fill-color);\n",
              "      border-right-color: var(--fill-color);\n",
              "    }\n",
              "    40% {\n",
              "      border-color: transparent;\n",
              "      border-right-color: var(--fill-color);\n",
              "      border-top-color: var(--fill-color);\n",
              "    }\n",
              "    60% {\n",
              "      border-color: transparent;\n",
              "      border-right-color: var(--fill-color);\n",
              "    }\n",
              "    80% {\n",
              "      border-color: transparent;\n",
              "      border-right-color: var(--fill-color);\n",
              "      border-bottom-color: var(--fill-color);\n",
              "    }\n",
              "    90% {\n",
              "      border-color: transparent;\n",
              "      border-bottom-color: var(--fill-color);\n",
              "    }\n",
              "  }\n",
              "</style>\n",
              "\n",
              "  <script>\n",
              "    async function quickchart(key) {\n",
              "      const quickchartButtonEl =\n",
              "        document.querySelector('#' + key + ' button');\n",
              "      quickchartButtonEl.disabled = true;  // To prevent multiple clicks.\n",
              "      quickchartButtonEl.classList.add('colab-df-spinner');\n",
              "      try {\n",
              "        const charts = await google.colab.kernel.invokeFunction(\n",
              "            'suggestCharts', [key], {});\n",
              "      } catch (error) {\n",
              "        console.error('Error during call to suggestCharts:', error);\n",
              "      }\n",
              "      quickchartButtonEl.classList.remove('colab-df-spinner');\n",
              "      quickchartButtonEl.classList.add('colab-df-quickchart-complete');\n",
              "    }\n",
              "    (() => {\n",
              "      let quickchartButtonEl =\n",
              "        document.querySelector('#df-00874744-093d-4d23-bf01-7ca6e6c49946 button');\n",
              "      quickchartButtonEl.style.display =\n",
              "        google.colab.kernel.accessAllowed ? 'block' : 'none';\n",
              "    })();\n",
              "  </script>\n",
              "</div>\n",
              "    </div>\n",
              "  </div>\n"
            ]
          },
          "metadata": {},
          "execution_count": 107
        }
      ]
    },
    {
      "cell_type": "code",
      "source": [
        "# Heatmap plot\n",
        "sns.heatmap(correlation_matrix, fmt=\".2f\", annot=True, cmap='coolwarm')\n",
        "plt.show()"
      ],
      "metadata": {
        "id": "A1ayqOA4xSFv",
        "colab": {
          "base_uri": "https://localhost:8080/",
          "height": 656
        },
        "outputId": "4c397727-b5db-4fde-fed1-a290e2ccb6f0"
      },
      "execution_count": null,
      "outputs": [
        {
          "output_type": "display_data",
          "data": {
            "text/plain": [
              "<Figure size 640x480 with 2 Axes>"
            ],
            "image/png": "[encoded data removed]"
          },
          "metadata": {}
        }
      ]
    },
    {
      "cell_type": "markdown",
      "source": [
        "#7.Interpretation of the correlation coefficient.\n",
        "\n",
        "**Correlation type:**\n",
        "\n",
        "r > 0 positive correlation\n",
        "– when the value of X increases, so does Y\n",
        "\n",
        "r = 0 no correlation\n",
        "– when X increases, Y sometimes increases and sometimes decreases\n",
        "\n",
        "r < 0 negative correlation\n",
        "– when X increases, Y decreases\n",
        "\n",
        "**Correlation strength for |r|**\n",
        "\n",
        "< 0.2 – no linear relationship\n",
        "\n",
        "0.2 - 0.4 - weak relationship\n",
        "\n",
        "0.4 -0.7 - moderate dependence\n",
        "\n",
        "0.7 - 0.9 - quite a strong relationship\n",
        "\n",
        "over 0.9 – very strong relationship"
      ],
      "metadata": {
        "id": "2F5zCB0BgRDG"
      }
    }
  ],
  "metadata": {
    "anaconda-cloud": {},
    "kernelspec": {
      "display_name": "Python [conda env:mum]",
      "language": "python",
      "name": "conda-env-mum-py"
    },
    "language_info": {
      "codemirror_mode": {
        "name": "ipython",
        "version": 3
      },
      "file_extension": ".py",
      "mimetype": "text/x-python",
      "name": "python",
      "nbconvert_exporter": "python",
      "pygments_lexer": "ipython3",
      "version": "3.9.7"
    },
    "colab": {
      "provenance": [],
      "toc_visible": true
    }
  },
  "nbformat": 4,
  "nbformat_minor": 0
}